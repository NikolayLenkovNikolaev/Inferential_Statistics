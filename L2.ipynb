{
  "nbformat": 4,
  "nbformat_minor": 0,
  "metadata": {
    "colab": {
      "provenance": [],
      "authorship_tag": "ABX9TyPD/iwqy12BNfxmzff29fIi",
      "include_colab_link": true
    },
    "kernelspec": {
      "name": "python3",
      "display_name": "Python 3"
    },
    "language_info": {
      "name": "python"
    }
  },
  "cells": [
    {
      "cell_type": "markdown",
      "metadata": {
        "id": "view-in-github",
        "colab_type": "text"
      },
      "source": [
        "<a href=\"https://colab.research.google.com/github/NikolayLenkovNikolaev/Inferential_Statistics/blob/main/L2.ipynb\" target=\"_parent\"><img src=\"https://colab.research.google.com/assets/colab-badge.svg\" alt=\"Open In Colab\"/></a>"
      ]
    },
    {
      "cell_type": "code",
      "execution_count": null,
      "metadata": {
        "id": "lxZfbWKb6khu"
      },
      "outputs": [],
      "source": []
    },
    {
      "cell_type": "markdown",
      "source": [
        "## Conditional Probability and Densities\n",
        "\n",
        "Motivation:\n",
        "- the probability of getting a one when rolling a die is usually assumed to be one sixth\n",
        "- suppose you were given the extra information that the die roll was an odd number (hence 1,3,5)\n",
        "- conditional on this new information , the probability of a one is now one third\n",
        "\n",
        "Definition:\n",
        "- let V be an event so that P(B) >0\n",
        "- then teh conditional probability of an event A given that B has occured is\n",
        "$$P(A|B) = \\frac{P(A \\cap B)}{P(B)}$$\n",
        "\n",
        "- Notice that if A nad B are independent , then\n",
        "$$P(A|B) = \\frac{P(A).P(B)}{P(B)}= P(A)$$\n",
        "\n",
        "Ex:\n",
        "- consider our die roll example\n",
        "- B = [1,3,5]\n",
        "- A= [1]\n",
        "$$P(one -given that roll is odd) = P(A|B) = P(\\frac{A \\cap B}{P(B)}) = \\frac{P(A)}{P(B)} = frac{1/6}{3/6}= 1/3 $$\n",
        "\n",
        "\n",
        "COnditional densities and mass functions\n",
        "- conditional densities or mass function of one variable conditional on the value of another\n",
        "- let f(x;y) be a bivariate density or mass function for random variables X and Y\n",
        "- Let f(x) and f(y) be the associated marginal mass function or densities disregarding the other vaiables\n",
        "\n",
        "$$f(y) = \\int f(x,y) dx$$ or\n",
        "$$f(y) \\sum_x f(x;y) dx$$\n",
        "\n",
        "- Then the conditional density or mass function given that Y=y is given by $$f(x|y)= f(x,y) / f(y)$$\n",
        "\n",
        "NOTES:\n",
        "- it is easy to see that, in the discrete case, the definition of conditional probability is axactly as in the definition for conditional events where A = the event thatX=x and B=the vent that Y=y\n",
        "\n",
        "The continuous definition is a little harder to motivate, since the events X=x and Y=y each have probability 0\n",
        "\n",
        "However, a useful motivation can be performed by taking the approapriate limits as follows\n",
        "\n",
        "Define A={X=< x} whilke B={$Y \\in [y; y+ ϵ]$}\n",
        "\n",
        "$$P(X =< x|Y \\in [y, y+ϵ]) = P(A|B) = \\frac{P(A \\cap B)}{P(B)}$$\n",
        "\n",
        "\n",
        "$$\\frac{P(X=< x, Y \\in[y ; y+ϵ])}{P(Y \\in [y; y+ϵ])} = \\frac{\\int_y^{y+ϵ} \\int_{-\\infty}^x f(x,y)dxdy}{f_{y}^{y+ϵ} f(y) dy}$$\n",
        "\n",
        "$$\\frac{ϵ \\int_y^{y+\\epsilon \\int_{-\\infty}^x f(x;y)dxdy}}{ϵ \\int_y^{y+ϵ} f(y)dy}$$\n",
        "\n",
        "Notice that the limit of the numerator and denominator tends to $g_1^`$ and $g_2^`$ as $\\epsilon$ gets smaller and smaller\n",
        "\n",
        "Hence we have that the conditional distribution function is:\n",
        "$$P(X =< x|Y =< y) = \\frac{\\int_{-\\infty}^x f(x,y)dx}{f(y)}$$\n",
        "\n",
        "Now , taking the derivative with respect to x yields the condtional density\n",
        "\n",
        "$$f(x|y) = \\frac{f(x;y)}{f(y)}$$\n",
        "\n",
        "\n",
        "\n"
      ],
      "metadata": {
        "id": "BkwLk3aD6ug2"
      }
    },
    {
      "cell_type": "markdown",
      "source": [
        "Geometrically\n",
        "\n",
        "- geometrically , the conditional density is obtain by taking the relevant slice of the joint density and appropriately renormalizing it\n",
        "- this idea extends to any other line, or even non-linear functions\n",
        "\n",
        "\n",
        "Example:\n",
        "- let f(x,y)= $y \\epsilon^{-xy-y}$ for 0=< x and -=< y\n",
        "\n",
        "- thennote:\n",
        "$$f(x)= \\int_0^{\\infty} f(x;y)dx = \\epsilon^{-y} \\int_0^{∞} y\\epsilon^{-xy}dx = \\epsilon^{-y}$$\n",
        "\n",
        "Therefore:\n",
        "\n",
        "$$f(x|y) = f(x;y) \\f(y)= \\frac{y \\epsilon^{-xy-y}}{e^{-y}}= y \\epsion^{-xy}$$\n",
        "\n",
        "\n"
      ],
      "metadata": {
        "id": "EL4g06l86ujh"
      }
    },
    {
      "cell_type": "markdown",
      "source": [
        "# BAyes` Rule and DLRs\n",
        "\n",
        "## Bayes` rule\n",
        "- let f(x;y) be the conditional density or mass function for x given that Y=y\n",
        "\n",
        "- let f(y) be the marinal distribution for y\n",
        "\n",
        "- Then if y is continuous:\n",
        "$$f(y|x) = \\frac{f(x|y)f(y)}{\\int f(x|t) f(t) dt}$$\n",
        "\n",
        "- if y is discrete\n",
        "$$f(y|x) = \\frac{f(x|y)f(y)}{\\sum_t f(x|t)f(t)}$$\n",
        "\n",
        "Notes:\n",
        "- Bayes rule relates the conditional density of f(y|x) the the f(x|y) and f(y)\n",
        "\n",
        "- a special case of this kind relationship is for two sets A and B, which yields that:\n",
        "$$P(B|A) = \\frac{P(A|B)P(B)}{P(A|B)P(B) + P(A|B^C)P(B^C)}$$\n",
        "\n",
        "Prof:\n",
        "- let X be an indicator that event A has occured\n",
        "- let Y be an indicator that event B has occured\n",
        "- plug into the discrete version of Bayes' rule\n",
        "\n",
        "\n",
        "Example: diagnostic test:\n",
        "- Let + and - be the events that the reslt of adiagnostic test is positive or negative respecvtlively\n",
        "- let D and $D^C$ be the event that the subject of the test has or does not have the disease respectively\n",
        "- the sensitivyty is the probability that the test is positive given that the subject actually has the disese P(+|D)\n",
        "- the specificity is the probabiliuty that the test is negative given that the subject does not have the disease $P(-|D^C)$\n",
        "\n",
        "Mode definition:\n",
        "- the diagnostic likelihood ratio of apositve tes, lebeled $DLR_{+}$ is $P(+|D) / P(+|D^C)$ whch is the: sensitivity / (1-specificity)\n",
        "\n",
        "- The diagnostic likelihood ratio of a negative test, lebaled DLR_{-} is $P(-|D)/P(-|D^C)$ which is the : (1-sensitivity)/ specificity\n",
        "\n",
        "\n",
        "Example:\n",
        "- a study comparing the efficacy of HIV test, reports on an experiment which concluded that HIV antibody test have a sensitivity of 99.7% and a specificity of 98.5%\n",
        "- suppose that a subject , from a population a 0.1% prevalence of HIV, receives a spositive test result. What is the probability this subject has HIV?\n",
        "- mathematically, we want $P(D|+)$ given the sentivity P(+|D)=0.997 the specificity, $P(-|D^C)= 0.985$ and the prevalence P(D=0.001\n",
        "\n"
      ],
      "metadata": {
        "id": "kolf3kJC6umG"
      }
    },
    {
      "cell_type": "markdown",
      "source": [
        "### Using Bayes formula\n",
        "\n",
        "$$P(D|+) = \\frac{P(+|D)P(D)}{P(+|D)P(D) + P(+|D^C)P(D^C)}$$\n",
        "\n",
        "$$\\frac{P(+|D)P(D)}{P(+|D)P(D) + [1-P(-|D^C)][1-P(D)]}$$\n",
        "\n",
        "$$\\frac{0.997*0.001}{0.997*0.001+ 0.015*0.999}= 0.062$$\n",
        "\n",
        "In this population a positive test result only suggest a 6% probability that the subject has the disease\n",
        "\n",
        "- the positve predicitve values is 6% for this test\n",
        "\n"
      ],
      "metadata": {
        "id": "pxjGtnRb6uob"
      }
    },
    {
      "cell_type": "markdown",
      "source": [
        "MORE on this example\n",
        "- the low positive predictive value is due to low prevalence of disease and the somewhat modelst specificty\n",
        "- suppose it was known that the subject was an intervenous drug user and routinely had intercourse with an HIV infected partner\n",
        "- notice that the evidence implied by a positive test result does not change ecause of the prevalence of disease in the subject's population , only our interpretation of that evidence changes\n",
        "\n"
      ],
      "metadata": {
        "id": "GO3jN-Hp6uq-"
      }
    },
    {
      "cell_type": "markdown",
      "source": [
        "Likelihood ratos\n",
        "- Using Bayes rule , we have:\n",
        "$$P(D|+) = \\frac{P(+|D)P(D)}{P(+|D)P(D) + P(+|D^C)P(D^C)}$$\n",
        "\n",
        "and\n",
        "\n",
        "$$P(D^C|+) = \\frac{P(+|D^C)P(D^C)}{P(+|D)P(D) + P(+|D^C)P(D^C)}$$\n",
        "\n",
        "Therefor:\n",
        "$$\\frac{P(D|+)}{P(D^C|+)} = \\frac{P(+|D)}{P(+|D^C)} * \\frac{P(D)}{P(D^C)}$$\n",
        "\n",
        "ie\n",
        "\n",
        "post-test odds of D= $DLR_{+} * pre-test odds of D$\n",
        "\n",
        "Similarly $DLD_{-}$ relates the decrease in the odds of the disese after a negative test relust to the odds of disease prior to the test\n",
        "\n",
        "### HIV example revised\n",
        "- suppose that a subject has a negative test result\n",
        "- $DLR_{-}= (1-0.997)/0.985 \\sim 0.003$\n",
        "- therefore, the post-test odds of disease is now 0.3% of the pretest odds given the negative test.\n",
        "- or the hypothesis of disese is supported 0.003 times that of the hypothesis of absence of disese given the negative test result\n",
        "\n"
      ],
      "metadata": {
        "id": "fCrNCwhV6ute"
      }
    },
    {
      "cell_type": "markdown",
      "source": [
        "### LIKELIHOOD\n",
        "\n",
        "- a common and fruitful approach to statistics is to assume that the data arises from a family of distributions indexed by a parameter that represents a useful summary of the distribution\n",
        "- the likelihood of a collection of data is the joint density evaluated as a function of the parameters with the data fixed\n",
        "- likelihood of data uses the likelihood to perform inference regarding the unknown parameter\n",
        "\n",
        "\n",
        "Interpretation of likelihood\n",
        "- the lokelihhod has the following properties:\n",
        "1. Ratios of likelihood values measure the relative evidence of one value of the unknown parameter to another\n",
        "2. Given a statistical model and observed data, all of the relevant information contained in the data regarding the unknown parameter is contained in the likelihood\n",
        "3. if $X_i$ are idenendent random variables , then their likelihood multiply. That is , the likelohood of the parameters given all of the $X_i$ is ismply the product of the individual likelihoods.\n",
        "\n",
        "Example:\n",
        "- suppose that we flip a coin with success probability $\\theta$\n",
        "- recall that the mass function for X:\n",
        "$$f(x;\\theta) = \\theta^x(1-\\theta)^{1-x}$$ for $\\theta \\in [0,1]$\n",
        "where x is either 0 or 1\n",
        "- suppose that the result is a head\n",
        "- the likelihood is:\n",
        "$$L(\\theta,1)= \\theta^1 (1-\\theta)^{1-1} = \\theta$$\n",
        "- for $\\theta \\in [0,1]$\n",
        "- therefore $\\frac{L[0.5],1}{L[0.25,1]} = 2$\n",
        "- there is wtice as much evidence supporting the hypothesis that $\\theta= 0.5$ to the hypothesis that $\\theta$=0.25\n",
        "\n"
      ],
      "metadata": {
        "id": "ghfcmhvW6uv4"
      }
    },
    {
      "cell_type": "markdown",
      "source": [
        "- Suppose now that we flip our coin from the previous example 4 time and get the sequence1,0,1,1\n",
        "- the L is:\n",
        "$L(\\theta,1,0,1,1)= \\theta^1(1-\\theta)^{1-1}*\\theta^0(1-\\theta)^{1-0}*\\theta^1(1-\\theta)^{1-1}*\\theta^1(1-\\theta)^{1-1}= \\theta^3(1-\\theta)^1$\n",
        "\n",
        "- this likelihood only depends on the total umber of heads and the total number of tails; we might write L(\\theta, 1,3) for shorthand\n",
        "- now consider L(0.5, 1,3)/ L(0.25, 1,3)= 5.33\n",
        "- there is over five time as much evidence supporting the hypothesis that $\\theta=0.5$ over that $\\theta=0.25$\n",
        "\n",
        "\n"
      ],
      "metadata": {
        "id": "_iHJRDNl6uyW"
      }
    },
    {
      "cell_type": "markdown",
      "source": [
        "Ploting Likelihood:\n",
        "- generallyu, we want to consider all the vlaues of $\\theta$ between 0 and 1\n",
        "- a likelihood plot displays $\\theta$ by L(\\theta; x)\n",
        "- usually, it is divided by its maximum value so that its heigt is 1\n",
        "- because the likelihood measures relative evidenc, dividing the curve by its maximum value (or any other value for that matter) doe not change its interpretation\n",
        "\n"
      ],
      "metadata": {
        "id": "3aMGvUpR6u0y"
      }
    },
    {
      "cell_type": "markdown",
      "source": [
        "MAX likelihood , coin example:\n",
        "- the max likielihood estimate for $\\theta$ is always the proportion of heads\n",
        "- proodf: let x be the number of heads and n be the number of trails\n",
        "- recall:\n",
        "$L(\\theta; x) = \\theta^x(1-\\theta)^{n-x}$\n",
        "- it's easier to maximize the log-likelihood\n",
        "$l(\\theta, x)= x.log(\\theta) + (n-x).log(1-\\theta)$\n",
        "\n",
        "What constitutes strong evidence?\n",
        "- again imagine an experiment where a person repeatedly flips acoin\n",
        "- consider the possibily that we are entertaining three hypotheses $H_1: \\theta=0; H_2:\\theta=0.5, H_3:\\theta=1$"
      ],
      "metadata": {
        "id": "2FUZigJj6u3I"
      }
    },
    {
      "cell_type": "markdown",
      "source": [
        "![image.png](data:image/png;base64,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)"
      ],
      "metadata": {
        "id": "CzRChhSJ6u5k"
      }
    },
    {
      "cell_type": "markdown",
      "source": [
        "Bemchmark:\n",
        "- usung this example as a guide , resaearchers tend to think of a likelihood ratio\n",
        "- of 8 as being moderate evidence\n",
        "- of 16 as being moderately strong evidence\n",
        "- of 32 as being strong evidence\n",
        "of any hypothesis over onother\n",
        "- because of this, it is common to draaw reference lines at these values on likelihood plots\n",
        "- parameter values above the 1/8 reference ine, for example , ae such that no other point is more htan 8 times better supported given the data\n",
        "\n"
      ],
      "metadata": {
        "id": "H-V9-LZG6u8D"
      }
    },
    {
      "cell_type": "markdown",
      "source": [
        "# Bernoulli Distribution and Binomial Trials\n",
        "\n",
        "### Bernoulli distribution\n",
        "- the Bernoulli distribution aries as the result of abinary outcome\n",
        "- Bernoulli random variables take onnly the vlues 1 and 0 with a probability of say p and 1-o repectively\n",
        "0- the PMF for a Bernoulli random variables X is: $P(X=x)= p^x(1-p)^{1-x}$\n",
        "- the mean of a Bernoulli random variables is p and the variance is p(1-p)\n",
        "- if we let X be a Bernoulli random variable, it is typical to call X =1 as a \"success\" and X=0 as a \"failcure\"\n",
        "\n",
        "IID Bernoulli trials:\n",
        "- if several Bernoulli observation , say $x_1..x_n$ are observed the likelihood is:\n",
        "$$P_{i=1}^n p^{x_i} (1-p^{1-x_i}) = p^{\\sum x_i} (1-p)^{n-\\sum x_1}$$\n",
        "\n",
        "- notice that the likelihood dependss only on the sum of the $x_i$\n",
        "- because n is fixed adn assumed known, this implies that the sample proportion $\\sum_i x_i/n$ contains all of the relevant information about p\n",
        "- we can maximize the Bernoulli likelihood over p to obtain that $\\hat{p}= \\sum_i x_i/n$ is the max likelihood estimator for p\n",
        "\n",
        "Reval that the notation:\n",
        "$\\binom{n}{x} = \\frac{n!}{x!(n-x)!}$  read \"n choose x\" counts the number of ways of selecting x items out of n without repleece,ent disregarding the order ot the items\n",
        "\n",
        "$\\binom{n}{0} = binom{n}{n}= 1$\n",
        "\n",
        "In general:\n",
        "$\\frac{10!}{2!8!} = frac{10*9*...*1}{2*1*8*7...*1} = 45$\n",
        "\n",
        "$\\binom{n}{2}= \\frac{n*(n-1)}{2}$\n",
        "\n"
      ],
      "metadata": {
        "id": "WNbGEDHU6u-O"
      }
    },
    {
      "cell_type": "markdown",
      "source": [
        "Example justification of the binomial likelihood:\n",
        "- consider the probability of getting 6 head out of 10 coin flips from a coin with success probability p\n",
        "- the probability of getting 6 heads and 4 tails in any specific order is: $p^6(1-p^4)$\n",
        "- there are $\\binom{10}{6}$ possible orders of 6 heads and 4 tails\n",
        "\n",
        "\n",
        "Example:\n",
        "- suppose a friend has 8 children, 7 of which are girls and nont are twins\n",
        "0 if each  gender has an independent 60% probability for each birth, what is the probability of getting 7 or more girls of 8 births?\n",
        "$$\\binom{8}{7}.5^7(1-0.5)^1 + {8}{8}.5^8(1-0.5)^0 \\sim 0.04$$\n",
        "\n",
        "- this calculation is an example of a P-value- the probability under a null hypothesis of getting a result as extreme or more extreme than the one actually obtained.\n",
        "\n",
        "\n"
      ],
      "metadata": {
        "id": "A6HI6Mwf6vA0"
      }
    },
    {
      "cell_type": "markdown",
      "source": [
        "## Normal Distribution:\n",
        "\n",
        "A random variables is said to follow a normal or Gaussina distribution with mean $\\mu$ and variance $\\sigma^2$ if the assiciated density is:\n",
        "$$(2.\\pi.\\sigma^2)^{-1/2} . e^{-(x-\\mu)/2\\sigma^2}$$\n",
        "\n",
        "- if X and RV with this density then E[X]= $\\mu$ and Var[X]= $\\sigma^2$\n",
        "\n",
        "- we write $X \\sim N(\\mu, \\sigma^2)$\n",
        "- when $\\mu=0$ and $\\sigma=1$ the resulting distribution is called the standard normal distribution\n",
        "- the standard normal density funcion is labeled $ϕ$\n",
        "- standard normal RVs are often labeled Z\n",
        "\n",
        "\n",
        "$$E[Z] = E[\\fac{X-\\mu}{\\sigma}]= \\frac{E[X]- \\mu}{\\sigma} = 0$$- normal density\n",
        "\n",
        "- if $X \\sim N(\\mu, \\sigma^2)$ the $Z = \\frac{X-\\mu}{\\sigma}$ is standard normal\n",
        "- if Z is standard normal $X= \\mu + \\sigma.Z \\sim N(\\mu, \\sigma^2)$\n",
        "\n",
        "- The non-standard normal density is:\n",
        "$\\phi[(x-\\mu) / \\sigma] / \\sigma$\n",
        "\n",
        "$Var[Z]= Var[\\frac{X-\\mu}{\\sigma}]= \\frac{1}{\\sigma^2} Var(X-\\mu)= \\frac{1}{\\sigma^2} Var(X)= 1$\n",
        "\n",
        "Facs about the Normal density:\n",
        "- approximatey 68%, 95% and 99% of the normal density lies within 1,2 and 3 standard deviations from the mean respectively\n",
        "- -1.28, -1.645, -1.96 and -2.33 are the 10th, 5th 2.5th and 1st percentiles of the standard normal distribution repsectively\n",
        "- by symmetry 1.28,1.645, 1.96, 2.33 are 90th, 95th, 97.5th and 99th percentiles of the standard normal distribution respectively\n",
        "\n"
      ],
      "metadata": {
        "id": "Zp5xKCRQ6vDQ"
      }
    },
    {
      "cell_type": "markdown",
      "source": [
        "Question:\n",
        "- what is the 95th percentile of a $N(\\mu, \\sigma^2)$ distribution?\n",
        "- we want the point $x_0$ so that $P(X=<x_0)= 0.95$\n",
        "\n",
        "$$P(X=<x_0)= P(\\frac{X-\\mu}{\\sigma} =< \\frac{x_0 - \\mu}{sigma}) = P(X =< \\frac{x_0-\\mu}{\\sigma})= 0.95$$\n",
        "\n",
        "Therefoe:\n",
        "$\\frac{x_0 - \\mu}{\\sigma}= 1.645$ or $x_0 + \\sigma.1.645$\n",
        "\n",
        "in general $x_0=\\mu + \\sigma.x_0$ where $z_0$ is the appropriate normal quantile\n",
        "\n"
      ],
      "metadata": {
        "id": "d4pkrS3W6vFu"
      }
    },
    {
      "cell_type": "markdown",
      "source": [
        "Question:\n",
        "- what is the probability that a $N(\\mu, \\sigma^2)$ RV is 2 standard deviations above the mean?\n",
        "- wewant tonow:\n",
        "$$P(X >\\mu + 2\\sigma) = P(\\frac{X-\\mu}{\\sigma} > \\frac{\\mu +2\\sigma - \\mu}{\\sigma}) = P(Z >= 2) \\sim 2.5$$%"
      ],
      "metadata": {
        "id": "_gmf-_aQ6vIk"
      }
    },
    {
      "cell_type": "markdown",
      "source": [
        "Other properties:\n",
        "- the normal dstribution is symetrica and peaked about its mean (therefore the mean, median and mode are allequal)\n",
        "- a constant times a normally distributed random variabe is also normally distributed (what is the mean and variance?)\n",
        "- sums of normally disributed random variables are agin normally distributed even if the variable are dependent ()waht is the mean and vairnce?)\n",
        "- sample mean of normally distributed random variables are again normally distributed (with what mean and variance?)\n",
        "- the sqiare of a standard normal r.v. follows what is called Chi-suqred distribution\n",
        "- the exponent of a normally distributed random variables follows waht is called log-normal distribution\n",
        "- as we will sell later, many variable , roperly normalized , limito to anormal distribution\n",
        "\n"
      ],
      "metadata": {
        "id": "2w_GFfbS6vLW"
      }
    },
    {
      "cell_type": "markdown",
      "source": [
        "Question:\n",
        "\n",
        "If $X_i$ are iid $N(\\mu, \\sigma^2)$ with a known variance, what is the likelihood for $\\mu$?\n",
        "\n",
        "$L(\\mu) = \\prod_{i=1}^n (2.\\pi.\\sigma^2)^{-1/2} exp[-x(x_i - \\mu)^2 / 2\\sigma^2]$\n",
        "\n",
        "$ \\varpropto exp[- \\sum_{i=1}^n] (x_i - \\mu)^2 / 2\\sigma^2$\n",
        "\n",
        "$exp[\\sum_{i=1}^n x_i^2 / 2\\sigma^2 + \\mu \\sum_{i=1}^n X_i/\\sigma^2 - n.\\mu^2/ 2\\sigma62]$\n",
        "\n",
        "$\\varpropto exp[\\mu.n.\\bar{x}/\\sigma^2 - n\\mu /2.\\sigma^2]$"
      ],
      "metadata": {
        "id": "IcBhpN4V6vN8"
      }
    },
    {
      "cell_type": "markdown",
      "source": [
        "Question:\n",
        "- if X_i are iid $N(\\mu, \\sigma^2)$ with known variablce what is the ML estimate of $\\mu$?\n",
        "- we calculated the likkelihood for $\\mu$ on the previous page, the log lokelihood is\n",
        "$\\mu.n.\\bar{x}/\\sigma^2 - n.\\mu^2/\\2.\\sigma^2$\n",
        "\n",
        "The derivative with respect to $\\mu$ is\n",
        "- $n.\\bar{x}/\\sigma^2 - n.\\mu/\\sigma^2= 0$\n",
        "- this yields that $\\bar{x}$ is the ml estimate of $\\mu$\n",
        "- sine this doesn't depend on $\\sigma$ it is also the ML estimate with $\\sigma$ unknown\n",
        "\n"
      ],
      "metadata": {
        "id": "M0uK2iF16vQg"
      }
    },
    {
      "cell_type": "markdown",
      "source": [
        "Final throughts on normal likelihoods\n",
        "- the maximum likelihood estimate for $\\sigma^2$ is:\n",
        "$$\\frac{\\sum_{i=1}^n (X_i - \\bar{X})^2}{n}$$\n",
        "\n",
        "which is the biased version of the sample variance\n",
        "- the ML estimate of $\\sigma$ is simply the suqre root of this estimate\n",
        "- to do likelihood inference, the bivariate likelihood of $\\mu; \\sigma$ is difficult to visualize\n",
        "- later we will discuss methoids for constructing lilkelihoods for one parameter at a time\n",
        "\n",
        "\n"
      ],
      "metadata": {
        "id": "BuM3jkjM6vTE"
      }
    },
    {
      "cell_type": "markdown",
      "source": [
        "# LIMITS and LLN\n",
        "\n",
        "Numerical limits:\n",
        "- imagine a sequance\n",
        "  - $a_1= 0.9$\n",
        "  - $a_2= 0.99$\n",
        "  - $a_3=0.999$\n",
        "- clarly this sequence converges to 1\n",
        "- definition of a limit: for any fixed ditance we can find a point in the sequence so that the sequence is closer to the liit than that distance from that point on $|a_n-1|= 10^{-n}$\n",
        "\n",
        "\n",
        "Limit of random variables:\n",
        "- the problem is harder for random variables\n",
        "- consider $\\bar{X_n}$ the sample average of the first n of acollection of iid observations:\n",
        "  - example $\\bar{X_n}$ could be the average of the result of n coin flips (i.e. the sample proportion of heads)\n",
        "- we say that $\\bar{X_n}$ converges in probability to alimit if for any fixed distance the probability of $\\bar{X_n}$ being closer (further away) than that distance from the limit converges to on (zero)\n",
        "- $P(|\\bar{X_n}- limit| < \\epsilon) => 1$\n",
        "\n"
      ],
      "metadata": {
        "id": "TUh4jOTH6vV1"
      }
    },
    {
      "cell_type": "markdown",
      "source": [
        "The law of Large Numbers\n",
        "- establishing that a random sequence converges to alimit is hard\n",
        "- fortunately , we have a theorem that does all the work for us, called the Law of Large Numbers\n",
        "- the LLN states that if $X_1..X_n$ are iid from a population with mean $\\mu$ and variance $\\sigma$ then $\\bar{X_n}$ converge in probability to $\\mu$\n",
        "- there are many variation of the LLN, we are using a particularly lazy one\n",
        "\n"
      ],
      "metadata": {
        "id": "Cf3HiDGB6vYG"
      }
    },
    {
      "cell_type": "markdown",
      "source": [
        "Prood using Chebyshev's inequality\n",
        "\n",
        "- recall Chebyshev's inequality states that the probability that a random variable is more then k standard deviation from its mean is less than $1/k^2$\n",
        "\n",
        "- therefore for sample mean:\n",
        "$P([\\bar{X_n} - \\mu] >= k.sd(\\bar{X_n})) =< 1/k^2$\n",
        "\n",
        "- pick a distance $\\epsilon$ and let $k=\\epsilon / sd(\\bar{X_n})$\n",
        "\n",
        "$P(|\\bar{X_n}-\\mu| >= \\epsilon) =< \\frac{sd(\\bar{X_n})^2}{\\epsilon^2}= \\frac{\\sigma^2}{n.\\epsilon^2}$\n",
        "\n",
        "```\n",
        "nosim <- 10000 # the numbner of simulations\n",
        "x <- cumsum(rnorm(nosim)) /1 : nosim # the series of averages\n",
        "plot(1::nosim, x, type=\"l\", xlab=\"interration\", ylab=\"average\", frame=False)\n",
        "abline(h=0, lty=2)\n",
        "```"
      ],
      "metadata": {
        "id": "DrXmfuv86vac"
      }
    },
    {
      "cell_type": "markdown",
      "source": [
        "Useful facts:\n",
        "- functions of convergent random sequences converge to the function evaluated at the limit\n",
        "- this includes sums, products, differences,...\n",
        "- exaple $\\bar{X_n}$ converges to $\\mu^2$\n",
        "- notice that this is different than $\\sum X_i^2/n$ which converges to $E[X_i^2]= \\sigma^2 + \\mu^2$\n",
        "- we can use this to prove that the sample variance converges to $\\sigma^2$\n",
        "\n",
        "\n",
        "$\\sum_{i=1}^n (X_i-\\bar{X})^2 = \\sum_{i=1}^2 X_i^2 - n.\\bar{X}^2$\n",
        "\n",
        "$\\sum_{i=1}^n (X_i-\\bar{X})^2/(n-1) = \\frac{\\sum X_i^2}{n-1} - \\frac{n(\\bar{X_n})^2}{n-1} = \\frac{n}{n-1} \\frac{\\sum X_i^2}{n} - \\frac{n}{n-1} .bar{X_n^2}$\n",
        " =converge in probabilita=\n",
        " $1* (\\sigma^2 +\\mu^2)-1 * \\mu^2= \\sigma^2$\n",
        "\n",
        " Hence we also know that the sample sandard deviation converges to $\\sigma$\n",
        "\n",
        " Discussion:\n",
        " - an estimator is consistent if it converges to what you want to estimate\n",
        " - the LLN basically states that the sample mean is consitent\n",
        " - we just showed that the sample variance and the sample standard deviation are consistent as well\n",
        " - recall also that the sample mean and the sample variance are unbiased as well\n",
        " - tha sampel standard deviation is biased, by the way\n",
        "\n",
        "\n",
        "\n"
      ],
      "metadata": {
        "id": "Q5HdJ44rYWvr"
      }
    },
    {
      "cell_type": "markdown",
      "source": [
        "The Central Limit Theorem:\n",
        "-- The CLT is one of themost important theorems in statistics\n",
        "- for our purpose , the CLT states that the distribution of averages of iid variables, properly normalized, become that of a standard normal as the sample size increases\n",
        "- the CLT applieas in an ednless variety of settings\n",
        "\n",
        "- Let $X_1..X_n$ be a collection of IID r.v with mean$\\mu$ and variance $\\sigma^2$\n",
        "- let $\\bar{X_n}$ be their sample average\n",
        "- then:\n",
        "\n",
        "$P(\\frac{\\bar{X_n}- \\mu}{\\sigma/ \\sqrt{n}}=< z) -> Φ(z)$\n",
        "\n",
        "- notice the form of the normal quantity:\n",
        "$\\frac{\\bar{X_n}- \\mu}{\\sigma/ \\sqrt{n}}= (Estimate - Mean of estimate)/ (std.Err.of.estimate)$\n",
        "\n"
      ],
      "metadata": {
        "id": "9m3LiGWRYWyp"
      }
    },
    {
      "cell_type": "markdown",
      "source": [
        "Example:\n",
        "- simulate a st.normal random variable by rolling n (six sided)\n",
        "- let $X_i$ be the outcome for die $i$\n",
        "- the note that $\\mu=E[X_i]=3.5$\n",
        "- $Var[X_i]= 2.92$\n",
        "- SE$\\sqrt{2.92/n}= 1.71.\\sqrt{n}$\n",
        "- Standardized mean\n",
        "$\\frac{\\bar{X_n}-3.5}{1.71/\\sqrt{n}}$"
      ],
      "metadata": {
        "id": "P_Yoi6ZxYW1E"
      }
    },
    {
      "cell_type": "markdown",
      "source": [
        "Coin CLT:\n",
        "- let $X_i$ be the 0  or 1 result of th $i^th$ flip of apossibly unfair coin\n",
        "- the sample proportion, say $\\hat{p}$ is the average of the coin flips\n",
        "- $E[X_i]= p$ and $Var[X_i]= p(1-p)$\n",
        "- Standard error of the mean is $(\\sqrt{p(1-p)/n})$\n",
        "\n",
        "Then $$\\frac{\\hat{p}-p}{\\sqrt{p(1-p)}/n}$$\n",
        "\n",
        "\n",
        "CLT in practice:\n",
        "- In practice the CLT is mostly useful as an approximation\n",
        "\n",
        "$P(\\frac{\\bar{X_n}- \\mu}{\\sigma/\\sqrt{n}} =< z) \\sim \\Phi(z)$\n",
        "\n",
        "Recall 1.96 is a good approximation to the 0.975th quantile of the satndard normal\n",
        "\n",
        "COnsider:\n",
        "\n",
        "$0.95 \\sim P(-1.96 =< \\bar{\\bar{X_n}-\\mu}{\\sigma/\\sqrt{n}} =< 1.96)$\n",
        "\n",
        "$P(\\bar{X_m} +1.96\\sigma/\\sqrt{n} >= \\mu >= \\bar{X_n} - 1.96\\sigma/\\sqrt{n})$"
      ],
      "metadata": {
        "id": "u3K1zU5JYW4C"
      }
    },
    {
      "cell_type": "markdown",
      "source": [
        "Confidence Intervals\n",
        "\n",
        "Therefore , according to the CLT the probability that the random interval\n",
        "\n",
        "$\\bar{X_n} -+ X_{1-\\alpha/2} \\sigma/ \\sqrt{n}$\n",
        "\n",
        "contains $\\mu$ is approximately 95% , where $z_{1-\\alpha/2}$ is the $1-\\alpha/2$ quantile of the standard normal distrbution\n",
        "\n",
        "- this is called a 95% confidence interval for $\\mu$\n",
        "\n",
        "-Slutsky theoremallows us to replace the unknown $\\sigma$ with $s$\n",
        "\n"
      ],
      "metadata": {
        "id": "QwSeHrznc6pn"
      }
    },
    {
      "cell_type": "markdown",
      "source": [
        "Sample Proportions:\n",
        "\n",
        "In the event that each $X_i$ is 0 or 1 with common success probability p then $\\sigma^2= p(1-p)$\n",
        "\n",
        "The interval takes the form:\n",
        "\n",
        "$$\\hat{p} -+ z_{1-\\alpha/2} \\sqrt{\\frac{p(1-p)}{n}}$$\n",
        "\n",
        "Replicing p with $\\hat{p}$ in the standard error results in what is called a Wald confidence interval for p\n",
        "- also note that p(1-p)=< 1/4 for 0=< p=< 1\n",
        "\n",
        "- Let $\\alpha=0.05$ so that $z_{1-\\alpha/2} = 1.96 \\sim 2$ then\n",
        "\n",
        "$$2\\sqrt{\\frac{p(1-p)}{n}} =< 2\\frac{1}{4n}= \\frac{1}{\\sqrt{n}}$$\n",
        "\n",
        "Therefore: $\\hat{p} -+ \\frac{1}{\\sqrt{n}}$ is aquick CI estimate for p\n",
        "\n"
      ],
      "metadata": {
        "id": "730rQijRc6se"
      }
    },
    {
      "cell_type": "markdown",
      "source": [],
      "metadata": {
        "id": "6Y7Qk8Qhc6vU"
      }
    },
    {
      "cell_type": "markdown",
      "source": [],
      "metadata": {
        "id": "mpdn91ASc6yu"
      }
    },
    {
      "cell_type": "code",
      "source": [],
      "metadata": {
        "id": "NHYhMLdmctSm"
      },
      "execution_count": null,
      "outputs": []
    }
  ]
}