{
  "nbformat": 4,
  "nbformat_minor": 0,
  "metadata": {
    "colab": {
      "provenance": [],
      "authorship_tag": "ABX9TyMtM2bE0M5ZCj/8oQoowQYq",
      "include_colab_link": true
    },
    "kernelspec": {
      "name": "python3",
      "display_name": "Python 3"
    },
    "language_info": {
      "name": "python"
    }
  },
  "cells": [
    {
      "cell_type": "markdown",
      "metadata": {
        "id": "view-in-github",
        "colab_type": "text"
      },
      "source": [
        "<a href=\"https://colab.research.google.com/github/NikolayLenkovNikolaev/Inferential_Statistics/blob/main/8_Hypothesis_teting.ipynb\" target=\"_parent\"><img src=\"https://colab.research.google.com/assets/colab-badge.svg\" alt=\"Open In Colab\"/></a>"
      ]
    },
    {
      "cell_type": "markdown",
      "source": [
        "## 8.1 Introduction\n",
        "\n",
        "8.1.1. A hypithesis is a statement about a popular parmeter\n",
        "\n",
        "8.1.2. The two complementary hypothesis in a hypothesis testing problem are clled the H) and the laternatyve hypothesisi. They are denoted by $H_0$ and $H_1$ repectively\n",
        "\n",
        "8.1.3. A hypothesis procedure or hypothesis test is a rule that specifies:\n",
        "- for which sample values the decision is made to accept H0 as true\n",
        "- for which sample values Ho is rejected and H1 is accelpted as true\n",
        "\n",
        "\n",
        "The subset of the sample space for which H_0 will be rejected is called the rejection region or critical region. The complement of the rejection region is called the accptance region.\n",
        "\n",
        "\n",
        "\n",
        "\n"
      ],
      "metadata": {
        "id": "piTZPTmbPZNB"
      }
    },
    {
      "cell_type": "markdown",
      "source": [],
      "metadata": {
        "id": "ysYwxCAiPZPc"
      }
    },
    {
      "cell_type": "markdown",
      "source": [
        "## 8.2 Methods of Finding Tests\n",
        "\n",
        "### 8.2.1.Likelihood ratio tests:\n",
        "$$L(\\theta| x_1...x_n) = L(\\teta|x) = f(x|\\theta) = \\prod_{i=1}^n f(x_i|\\theta)$$\n",
        "\n",
        "\n",
        "8.2.1. The likelihood ratio tet statistic for testing $H_0: \\theta \\in \\Theta_0$ versus $H_1: \\theta \\in \\Theta_0^c$ is\n",
        "\n",
        "$$\\lambda(x) = \\frac{sup_{\\theta_0} L(\\theta|x)}{sup_{\\theta} L(\\theta|x)}$$\n",
        "\n",
        "a likelihood ratio test LRT is any test that has a rejection region of the form: {$x\" \\lambda(x) =< c$} where c is any number satisfying $0 =< c =< 1$\n",
        "\n",
        "ex: 8.2.2. Normal LRT\n",
        "\n",
        "ex: 8.2.3. Exponential LRT\n",
        "\n",
        "Theorem: 8.2.4. If T(X) is a sufficient statistic for $\\theta$ and $\\lambda*(t)$ and $\\lambda(x)$ are the LRT statistics based on T and X , respectively, then $\\lambda*(T(x)) = \\lambda(x)$ for every x in the sample space.\n",
        "\n",
        "Proof:\n",
        "\n",
        "ex: 8.2.5. LRT and sufficiency\n",
        "\n",
        "ex: 8.2.6. Normal LRT with unknown variance\n",
        "\n",
        "### 8.2.2. Bayesian Test\n",
        "\n",
        "ex: 8.2.7. Normal Bayes test\n",
        "\n",
        "### 8.2.3. Union-Intersection and Intersection =Uniot Test\n",
        "\n",
        "The union- intersection method of test constuction might be useful when the null hypothesis is conveniently as an intersection, say:\n",
        "$$H_0: \\theta \\bigcap_{\\gamma \\in \\Gamma} \\Theta_{\\gamma} $$\n",
        "\n",
        "ex: 8.2.8: Normal union intersection test\n",
        "\n",
        "ex: 8.2.9 acceptance sampling\n",
        "\n",
        "\n",
        "\n"
      ],
      "metadata": {
        "id": "iFJRTvXdPZR6"
      }
    },
    {
      "cell_type": "markdown",
      "source": [],
      "metadata": {
        "id": "TdFm-6CGPZUW"
      }
    },
    {
      "cell_type": "markdown",
      "source": [
        "## 8.3. Methods of evaluating tests\n",
        "\n",
        "### 8.3.1. Error Probabilities and the Power Function\n",
        "\n",
        "|||Decision||\n",
        "|---|---|---|---|\n",
        "|truth|Accept $H_0$|Reject $H_0$|\n",
        "|$H_0$|correct decision|Type-I|\n",
        "|$H_1$|Type -II|Correct decision|\n",
        "\n",
        "\n",
        "8.3.1. The power function if a hypothesis test with rejection region R is the function of $\\theta$ defined by $\\beta(\\theta) = P_{\\theta}(X \\in R)$\n",
        "\n",
        "Ex: 8.3.2. Binomial power function\n",
        "\n",
        "ex: 8.3.3. Normal Power function\n",
        "\n",
        "8.3.5. For $0 =< \\alpha =< 1$ a test with power function $\\beta(\\theta)$ is a size $\\alpha$ test if $sup_{\\theta \\in \\Theta_0} \\beta(\\theta)= \\alpha$\n",
        "\n",
        "8.3.6. For $0 =< \\alpha =< 1$ a test with power function $\\beta(\\theta)$ is a level $\\alpha$ test if $sup_{\\theta \\in \\Theta_0} \\beta(\\theta) =< \\alpha$\n",
        "\n",
        "\n",
        "ex: 8.3.7. Size of LRT\n",
        "\n",
        "ex: 8.3.8. Size of union-intersection test\n",
        "\n",
        "### 8.3.2. Most Powerful Tests\n",
        "\n",
        "8.3.11. Let $\\mathcal{C}$ be a class of tests for testing $H_0: \\theta \\in \\Theta_0$ versus $H_1: \\theta \\in \\Theta_0^c$. A test in class $\\mathcal{C}$ with power function $\\ebeta(\\theta)$ is a uniformly most powerdul UMP class $\\mathcal{C}$ test if $\\beta(\\theta >= \\beta`(\\theta))$ for every $\\\n",
        "theta \\in \\Theta_0^c$ and every $\\beta`(\\theta)$ that is a power function of a test in class $\\mathcal{C}$\n",
        "\n",
        "Theorem 8.3.12. Neyman-Pearson Lemma: Consider testing $H_0: \\theta= \\theta_0$ versus $H_1: \\theta =\\theta_1$ where the pdf or pmf corresponding to $\\theta_i$ is $f(x|\\theta_i), i=0,1$ using a tst with rejection region R that satisfies:\n",
        "\n",
        "$$x \\in R - if - f(x|\\theta_1) >  k.f(x|\\theta_0)$$\n",
        "and\n",
        "$$x \\in R^c - if - f(x|\\theta_1) < k.f(x|\\theta_0)$$\n",
        "\n",
        "for some $k >= 0$, and\n",
        "\n",
        "$$\\alpha = P_{\\theta_0} (X \\in R)$$\n",
        "\n",
        "Then:\n",
        "1. Sufficiency: any test that satisfies 8.3.1. and 8.3.2 is a UMP level $\\alpha$ test\n",
        "2. Necessity: if there exists a test satisfying 8.3.1. and 8.3.2. with k>0, then every UMP level $\\alphga$ test is a seize $\\alpha$ test (satisfies 8.3.2.) and every UMP level $\\alpha$ test satisfies 8.3.1. except perhaps on a set A satisfyiong $P_{\\theta_0} (X \\in A) = P_{\\theta_1} (X \\in A) = 0$\n",
        "\n",
        "Proof:\n",
        "\n",
        "Corollary 8.3.13.\n",
        "\n",
        "Proof:\n",
        "\n",
        "ex: 8.3.14: UMP binomial test\n",
        "\n",
        "ex: 8.3.15. UMP normal test\n",
        "\n",
        "8.3.16: A family of pdfs or pmfs {$g(t|\\theta): \\theta \\in\\Theta$} for a univariate random variable T with real-valued parameter $\\theta$ has a monotone likelihood ratio MLR if, for every $\\theta_2 > \\theta_1, g(t|\\theta_2)/(g(t|\\theta_1))$ is a monotone (nonincreasing or nodreasing  function of t on {$t\"g(t|\\theta_1) > 0 - or - g(t|\\theta_2)>0$}) . Note that c/0 is defined as $\\infty$ if 0<c\n",
        "\n",
        "Theorem: 8.3.17. Karlin -RUbin: consider testing $H_0: \\theta =< \\theta_0$ vs $H_1\" \\theta > \\theta_0$. SUppose that T is a ufficient statistic for $\\theta$ and the family of pdfs or pmfs {$g(t|\\theta): \\theta \\in \\Theta$} of T has on MLR. Then for any $t_0$ , the test that rejects $H_0$ if and only if $T > t_0$ is a UMP level $\\alpha$ test, where $\\alpha= P_{\\theta_0}(T > t_0)$\n",
        "\n",
        "Proof:\n",
        "\n",
        "ex: 8.3.18\n",
        "\n",
        "ex: 8.3.19: Noexistence of UMP test\n",
        "\n",
        "ex: 8.3.20. Unbiased test\n",
        "\n",
        "### 8.3.3. Sizes of Union-Intersection and Intersection-Union tests\n",
        "\n",
        "theorem: 8,3,21, Consider testing $H_0: \\theta \\in \\Theta_0$ versus $H_1:\\theta \\in \\Theta_0^c$ where $\\theta_0 = \\bigcap_{\\gamma \\in \\Gamma} \\Theta_{\\Gamma}$ and $\\lambda_{\\gamma}(x)$ is defined in the previous paragraph. Define $T(x)= inf_{\\gamma \\in \\Gamma} \\lambda_{\\gamma} (x)$ and form the UIT with rejection region\n",
        "\n",
        "$$\\{ x: \\lambda_{\\gamma}(x) < c-for-some \\gamma \\in Gamma\\} = \\{ X: T(x)< c \\}$$\n",
        "\n",
        "Also consider the usual LRT with rejection region $\\{ x: \\lambda(x) < c \\}$. Then\n",
        "a. $T(x) >= \\lambda(x)$ for every x\n",
        "b. if $\\beta_T(\\theta)$ and $\\beta_{\\lambda}(\\theta)$ are the power functions for the test based on T and $\\lambda$. respectively , then $\\beta_T(\\theta) =< \\beta_{\\lambda}(\\theta)$ for every $\\theta \\in \\Theta$\n",
        "c. If the LRT is a level $\\alpha$ test, then the UIT is a level $\\alpha $ test\n",
        "\n",
        "Proof:\n",
        "\n",
        "ex: 8.2.22. An equivalence\n",
        "\n",
        "Theorem: 8.3.23: Let $\\alpha_{\\gamma}$ be the size of the test of $\\H_{0, \\gamma}$ with rejection region $R_{\\gamma}. Then the IUT with rejection region $R= \\bigcap_{\\gamma \\in \\Gamma} R_{\\gamma}$ is a level $\\alpha= sup_{\\gamma \\in \\Gamma} \\alpha_{\\gamma}$ test\n",
        "\n",
        "Proof:\n",
        "\n",
        "Theorem: 8.3.24. Consider testing $H_0$ ............\n",
        "\n",
        "ex: 8.3.25 Intersection -union test\n",
        "\n"
      ],
      "metadata": {
        "id": "niXWYktbPZW8"
      }
    },
    {
      "cell_type": "markdown",
      "source": [
        "### 8.3.4. p-Value\n",
        "\n",
        "8.3.26: a p-value $p(X)$ is atest statistic satisfying $0=< p(x) =< 1$ for every sample point x. Small values of $p(X)$ give evidence that $H_1$ is true. A p-value is valid if, for every $\\theta \\in \\Theta_0$ and every $0=< \\alpha=, 1$\n",
        "\n",
        "$$P_{\\theta (p(X)=< \\alpha)}=< \\alpha$$\n",
        "\n",
        "Theorem: 8.3.27: Let $W(X)$ be a test statistic such that large values of W give evidence that $H_1$ is true. For each sample point x , define\n",
        "\n",
        "$$p(x) = sup_{\\theta \\in \\Theta} P_{\\theta}(W(X) >= W(x))$$\n",
        "\n",
        "Then $p(X)$ is a valid p-value\n",
        "\n",
        "Proof:\n",
        "\n",
        "ex: 8.3.28: Two saided normal p-value\n",
        "\n",
        "ex: 8.3.29 One sided normal p-value\n",
        "\n",
        "ex: 8.3.30 Fishers' exact test\n",
        "\n",
        "### 8.3.5. Loss Function Optimality\n",
        "\n",
        "ex: 8.3.31. Risk UMP test\n",
        "\n"
      ],
      "metadata": {
        "id": "zTVfLUjuPZZI"
      }
    },
    {
      "cell_type": "markdown",
      "source": [],
      "metadata": {
        "id": "HVASjXeIPZbn"
      }
    }
  ]
}