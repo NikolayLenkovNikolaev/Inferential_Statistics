{
  "nbformat": 4,
  "nbformat_minor": 0,
  "metadata": {
    "colab": {
      "provenance": [],
      "authorship_tag": "ABX9TyN/v0iprPh0ECnePvkdYkF1",
      "include_colab_link": true
    },
    "kernelspec": {
      "name": "python3",
      "display_name": "Python 3"
    },
    "language_info": {
      "name": "python"
    }
  },
  "cells": [
    {
      "cell_type": "markdown",
      "metadata": {
        "id": "view-in-github",
        "colab_type": "text"
      },
      "source": [
        "<a href=\"https://colab.research.google.com/github/NikolayLenkovNikolaev/Inferential_Statistics/blob/main/7_Stima_Puntuale_Parametrica.ipynb\" target=\"_parent\"><img src=\"https://colab.research.google.com/assets/colab-badge.svg\" alt=\"Open In Colab\"/></a>"
      ]
    },
    {
      "cell_type": "markdown",
      "source": [
        "# Stima Puntuale - Parametrica\n",
        "\n",
        "Una volta raccolti i dati e definito il modello statistico, il **proposito principale dell'inferenza e' quello di attribuire un valore al parametro** da cui dipende il modello. QUesto equivale a fornire informazioni sulla popolazione, perche il modello statistico serve di fatto a descriverla.\n",
        "\n",
        "Il problem descritto e' detto di STMA PUNTUALE.\n",
        "\n",
        "Poiche il problema della stima puntiale richiede una sintesi opportuna dei dati, si tratta di individuae una statitica opportuna , che in questi casi e' chiamata STIMATORE.\n",
        "\n",
        "DEF: uno STIMATORE puntuale $T=T(X_1...X_n)$ e' qualunque statistica utile per sitmare $\\theta$, un paramertro incognito.\n",
        "\n",
        "Il risultato finale della analisi non e' tuttavia lo stimatore ma il valore che questo restituisce per i dati osservati , ossi la STIMA puntuale\n",
        "\n",
        "Formalmente:\n",
        "- STIMATORE: $T=T(X_1...X_n)$ - e' una variabile aleatoria\n",
        "- STIAM : $t=T(x_1...x_n)$ e' un numero reale\n",
        "\n",
        "Occore affrontare due problematiche:\n",
        "1. come si possono proporre degli stimatori ragionevoli per $\\theta$ - Metodo di ricerca di stimatori\n",
        "2. Se diversi stimatori sono possibili qual e' il migliore? - Metodo per valutare gli stimatori\n",
        "\n"
      ],
      "metadata": {
        "id": "vep2k-xaCmTq"
      }
    },
    {
      "cell_type": "markdown",
      "source": [
        "## Metodo della Massima Verosimiglianza\n",
        "\n",
        "Come sappiamo , si il campione e' IID e se si considera una sua realizzazione x , la funzione di $\\theta$\n",
        "\n",
        "$L(\\theta|x)= f(x|\\theta)= \\prod_{i=1}^n f(x_i|\\theta)$\n",
        "\n",
        "informa di uqnto sia verosimigle ottenere x al variare di $\\theta$.\n",
        "\n",
        "DEF: data una realizzazione x sia $\\hat{\\theta}= \\hat{\\theta}(x)$ il valore tale che\n",
        "\n",
        "$L(\\hat{\\theta}|x)= \\geq L(\\theta|x)$ for all $\\theta \\in \\Theta$\n",
        "\n",
        "Allora $\\hat{\\theta}(x)$ si dice STIMA di massima verosimiglia di $\\theta$\n",
        "\n",
        "$T= \\hat{\\theta}(X)= \\hat{\\theta}(X_1...X_n) $ si dice di STIMATORE di massima verosimiglianza\n",
        "\n",
        "Nota: un analogia definizione si puo dare quando $\\theta$ e' un parametro vettorial, ossi quando vi sono k parametri\n",
        "\n",
        "Il metodo fornisce quindi , in prima batuta una stma, da cui si ottiene uno stiatore per analogia.\n",
        "\n",
        "Per applicare il metodo , occore trovare un massimo globale di $L(\\theta|x)$ nel suo dominio , ossi anello spazio parametrico.\n",
        "\n",
        "Cio puo non essere semplice , se $L(\\theta|x)$ ha uno stimatore complicato e talvolta e' necessario ricorrere a metordi numerici di massimizzazione.\n",
        "\n",
        "Nei casi piu semplici, si puo procedre analotivcamente. SOlitamente si procede con questi passi:\n",
        "1. si calocla il logaritmo di $L(\\theta|x)$ perche il problema di massimizzazione non combia (essendo il log una funzione monotona) e spesso questa ne semplifica la struttura:\n",
        "\n",
        "$log(L(\\theta|x))$ - log likelihood\n",
        "\n",
        "2. si calcola la derivata prima di $log(L(\\theta|x))$ rispetto a $\\theta$ e si risolve la condizione di massimo di primo ordine:\n",
        "\n",
        "$\\frac{\\partial}{\\partial \\theta} log (L(\\theta|x))= 0$\n",
        "3. si verifica quale soluzione trovata da un punto di massimo globale\n",
        "\n",
        "NB: talvolta implica di controllare cosa accade negli estremi dello spazio parametrico.\n",
        "\n"
      ],
      "metadata": {
        "id": "pcRRRBXpCmWO"
      }
    },
    {
      "cell_type": "markdown",
      "source": [
        "Esempio:  \n",
        "\n",
        "Sia $X_1...X_n$ IID $\\sim Bernoullli(\\theta)$ con $0< \\theta < 1$\n",
        "\n",
        "Troviamo lo stimatore di MV di $\\theta$\n",
        "\n",
        "In primo luogo si ha:\n",
        "\n",
        "$L(\\theta|x)= \\prod_{i=1}^n \\theta^{x_i}(1-\\theta)^{1-x_i}= \\theta^{\\sum_{i=1}^n x_i} (1-\\theta)^{n - \\sum_{i=1}^n x_i}$\n",
        "\n",
        "- $Log(\\theta|x)= (\\sum_{i=1}^n x_i) log(\\theta) + (n+ \\sum_{i=1}^n x_i) log(1-\\theta)$\n",
        "\n",
        "- $\\frac{\\partial log(L(\\theta|x))}{\\partial \\theta} = \\frac{\\sum x_i}{\\theta} - \\frac{n - \\sum x_i}{1-\\theta}$\n",
        "\n",
        "- $der=0 -> (1-\\theta) \\sum x_i - \\theta(n-\\sum x_i)= 0$\n",
        "- $\\sum x_i - \\theta \\sum x_i - n\\theta + \\theta \\sum x_i = 0$\n",
        "- $\\theta =\\frac{1}{n} \\sum x_i = \\bar{x}$\n",
        "\n",
        "Per verificare che il valore condidato $\\bar{x}$ sia un punto di massimo globale si puo, ad esempio calcolare la derivata seconda:\n",
        "\n",
        "$\\frac{\\partial^2 log(\\theta|x)}{ \\partial \\theta^2}= - \\frac{\\sum x_i}{\\theta^2} - \\frac{n-\\sum x_i}{(1-\\theta)^2}$\n",
        "\n",
        "E' $<0$ per ogni $\\theta$ e in particolare se $\\theta=\\bar{x}$\n",
        "\n",
        "-> $\\hat{\\theta}= \\bar{x}$ e' un punto di massimo.\n",
        "\n",
        "Ed e' anche un massimo globale perche e' unico. In qeusto caso, dunque, non e' necessario considerare in comportamento agli estremi dello intervallo (0,1)\n",
        "\n",
        "Va aggiunta che , in questo caso, e' stato posto $0< \\theta<1$ cioe $\\theta$ e' dioverso da 0 sia da 1 questo puo portare alla non -esistenza della stiam di MV se $\\sum x_i = 0$ oppure $\\sum x_i = n$\n",
        "\n",
        "Consideriamo ora un esempio nel quale non e' opportuno ricorrere al calcolo analitico basato nslle derivate. Cio dipende dal fatto che il supporto della funzione di densita degli elementi del campione - insieme dei valori per cui e' > 0- dipende dal parametro:\n",
        "\n"
      ],
      "metadata": {
        "id": "IlUY4wrkCmZB"
      }
    },
    {
      "cell_type": "markdown",
      "source": [
        "Esempio 2:\n",
        "\n",
        "$X_1...X_n$ IID $\\sim U(0;\\theta); \\theta > 0$ ossia $f(x|\\theta)= $\n",
        "- $\\frac{1}{\\theta}$ - if 0< x< \\theta\n",
        "- $0 - altrove$\n",
        "\n",
        "Si avrea:\n",
        "\n",
        "$L(\\theta|x)= \\prod_{i=1}^n f(x_i|\\theta)= (\\frac{1}{\\theta})^n$\n",
        "- se $0 < x_i < \\theta; i=1...n$\n",
        "\n",
        "Tuttavia la condizione $0< x_i < \\theta$ per ogni i puo essere riscritta, ordinando i dati , come:\n",
        "\n",
        "$0< x_{(1)}...\\leq x_{(n)}< \\theta$\n",
        "\n",
        "Poiche L e' funzione di $\\theta$ si avra:\n",
        "\n",
        "$L(\\theta|x)= $\n",
        "- $\\frac{1}{\\theta^n}; \\theta > x_{(n)}$\n",
        "- 0 - altrove\n",
        "\n",
        "$1/\\theta^n$ e' una funzione decrescente di $\\theta$, inoltre il grafico qualitativo di L e' qunque:\n",
        "\n"
      ],
      "metadata": {
        "id": "li-z0lfLCmb9"
      }
    },
    {
      "cell_type": "markdown",
      "source": [
        "![image.png](data:image/png;base64,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)"
      ],
      "metadata": {
        "id": "6J0QqDNBCmec"
      }
    },
    {
      "cell_type": "markdown",
      "source": [
        "Stima di MV: $\\hat{\\theta}= x_{(n)}$\n",
        "- stimatore di MV: $T=x_{(n)}= max[x_1...x_n]$\n",
        "\n",
        "Come vedremo in metodo della MV e' uno dei piu utilizzati nei problemmi di stima puntuale. Cio si motiva oltre che per la ragionevolezza del metodo, nel fatto che gli stimatori d MV godona di molto proprieta importanti\n",
        "\n",
        "Una proprieta riguarda gia il processo di derivazione della stima o dello stimatore e dipende dal fatto che spesso non si e' interessati direttamenta a $\\theta$ ma ad una sua funzione $\\tau(\\theta)$\n",
        "\n",
        "Proprieta di INVARIANZA:\n",
        "\n",
        "Sia $eta= \\tau(\\theta)$ un nuovo parametro cui si e' interesati, ottnuto come funzione biunivoca di $\\theta$ (0 \"funzione uno a uno\")- SIa inoltre $\\hat{\\theta}$ la stima di MV di $\\theta$ . Allora la stima di MV di $\\eta=\\tau(\\theta)$ e'\n",
        "\n",
        "$\\hat{\\eta}= \\tau(\\hat{\\theta})$\n",
        "\n",
        "Nota: dimostrare questo proporzione e' molto semplice perche, essendo $\\tau$ una funzione biunivoca ad ogni $\\theta$ corispondono uno ad uno solo $\\eta$. Pertanto e' sempre possibile riscrivere $L(\\theta|x)$ come funzione di $\\eta$ e il massimo della nuova verosimiglianza dovra corispondere biunivocamente al massimo della vechie.\n",
        "\n",
        "Il alcuni problemi, tuttavia $\\tau$ non e' funzione biunivoca, la proprieta di invarianza puo rimanere valida, allora, se si generalizzza la def di verosimiglainaza:"
      ],
      "metadata": {
        "id": "lH4zlpYUCmiF"
      }
    },
    {
      "cell_type": "markdown",
      "source": [
        "Esempio:\n",
        "\n",
        "$X_1...X_n$ IID $\\sim exp(\\theta); \\theta>0$\n",
        "\n",
        "ossia $f(x|\\theta)=$\n",
        "- $ \\theta.e^{-\\theta x}; x>0$\n",
        "- 0 - altrove\n",
        "\n",
        "NB: l'esponenziale negativa puo essere scritta anche in un altra forma , I risultati , nei due casi , sono coerenti.\n",
        "\n",
        "Supponiamo di volere lo stimatore di MV di: $\\tau(\\theta)= \\frac{1}{\\theta}$\n",
        "\n",
        "NB: poiche $\\theta > 0$ e' una funzione monotona decrescente, dunque biunivoca.\n",
        "\n",
        "Cominciamo a determinare lo stimatore di MV per $\\theta$\n",
        "\n",
        "$L(\\theta|x) =\\prod_{i=1}^n \\theta e^{-\\theta x_i}= \\theta^n w^{-\\theta \\sum_{i=1}^n x_i}$\n",
        "\n",
        "$log(L(\\theta|x))= n log \\theta - \\theta\\sum x_i$\n",
        "\n",
        "$\\frac{\\partial log(L(\\theta|x))}{\\partial \\theta}= \\frac{n}{\\theta} - \\sum x_i$\n",
        "\n",
        "der= 0 -> $n-\\theta \\sum x_i = 0$ -> $\\hat{\\theta} =\\frac{n}{\\sum x_i}= \\frac{1}{n}$\n",
        "\n",
        "$\\frac{\\partial^2 log(L(\\theta|x))}{\\partial \\theta^2}= - \\frac{n}{\\theta^2} <0$ se $\\theta= \\theta^2$\n",
        "\n",
        "-> $\\hat{\\theta}=\\frac{1}{\\bar{x}}$ - stima di MV di $\\theta$\n",
        "- $T=\\frac{1}{\\bar{x}}$ - stimatore di MV di $\\theta$\n",
        "\n",
        "Invarianza: $\\eta = \\tau(\\theta)= \\frac{1}{\\theta}$\n",
        "\n",
        "$\\hat{\\eta}= \\frac{1}{\\hat{\\theta}}= \\frac{1}{1/\\hat{x}}= \\bar{x}$ - stima di MV di $\\tau(\\theta)$\n",
        "- $U = \\frac{1}{T}= \\frac{1}{1/\\bar{x}}= \\bar{x}$ - stimatore di MV di $\\tau(\\theta)$\n",
        "\n"
      ],
      "metadata": {
        "id": "nv9RIMHvCmkp"
      }
    },
    {
      "cell_type": "markdown",
      "source": [
        "Negli eempi fionora considerati, $\\theta$ era un paramtro reale. Tuttavia , talvolta $\\theta$ e' un parametro vettoriale ossia ci sono k-parametri. Il processo di massimizzazione si complica ance se, spesso e' sufficiente massimizzare, per passi, cioe considerando ogni volta un singolo parametro e supponendo che gli altri soiano noto:\n",
        "\n",
        "Esempio:\n",
        "\n",
        "$X_1...X_n$ IID $\\sim N(\\mu; \\sigma^2)$ entrambi i parametri da stimare\n",
        "\n",
        "Per evitare confondere, rinominiamo:\n",
        "- a = $\\mu$\n",
        "- b = $\\sigma^2$\n",
        "\n",
        "-> $f(x|a,b)= \\frac{1}{\\sqrt{b 2\\pi}} exp[-\\frac{1}{2b}(x-a)^2]$\n",
        "\n",
        "-> $L(a,b|x)= \\prod_{i=1}^n \\frac{1}{\\sqrt{b2\\pi}}exp[-\\frac{1}{2b}(x_i - a)^2]$\n",
        "\n",
        "-> $log(L(a,b|x))= -\\frac{n}{2} log(b2\\pi)-\\frac{1}{2b}\\sum_{i=1}^n (x_i - a)^2$\n",
        "\n",
        "Supponiamo ora che b sia noto e cerchiamo solo la stima di MV di a\n",
        "\n",
        "$\\frac{\\partial log(L(a,b|x))}{\\partial a}= + \\frac{1}{2b} \\sum_{i=1}^n 2(x_i -a)$\n",
        "\n",
        "- qui e' importante il simbolo di derivata parziale perche si deriva solo rispetto ad a\n",
        "\n",
        "der = 0 -> $\\sum_{i=1}^n (x_i -a)=0$\n",
        "\n",
        "$\\sum x_i - na = 0 -> \\hat{a}= \\frac{\\sum x_i}{n}= \\bar{x}$\n",
        "\n",
        "e' un massimo globale quando b e' noto perhce\n",
        "\n",
        "$\\frac{\\partial log(L(a,b|x))}{\\partial a}= \\frac{1}{2b} \\sum_{i=1}^n 2(-1)= - \\frac{n}{b} < 0  $ se $a=\\bar{x}$\n",
        "\n",
        "Se sostituiamo $a=\\bar{x}$ nella $log(L(a.b|x))$ otteniao $\\widetilde{L}(b|x)=-\\frac{n}{2} log(b2\\pi) - \\frac{1}{2b} \\sum_{i=1}^n (x_i - \\bar{x})^2 $\n",
        "\n",
        "e' detta funzione di verosigmilianza PROFILO ed avremo massimizzazndo rispetto a b\n",
        "\n",
        "$\\frac{d \\widetilde{L}(x|x) }{d b} = -\\frac{n}{a} \\frac{2pi}{b2\\pi} + \\frac{1}{2} \\frac{1}{b^2} \\sum (x_i - \\bar{x})^2$\n",
        "\n",
        "$der=0 -> -nb  + \\sum (x_i - \\bar{x})^2 = 0$\n",
        "-> $\\hat{b}= \\frac{\\sum (x_i - \\bar{x})^2}{n}= \\frac{n-1}{n}s^2$\n",
        "\n",
        "Inoltre la derivata e' possitiva se:\n",
        "\n",
        "$\\frac{d \\widetilde{L}(b|x) }{db } > 0 $ se $b < \\frac{n-1}{n}s^2$"
      ],
      "metadata": {
        "id": "dkfzRKiECmnP"
      }
    },
    {
      "cell_type": "markdown",
      "source": [
        "![image.png](data:image/png;base64,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)"
      ],
      "metadata": {
        "id": "AGDaJoAlCmpk"
      }
    },
    {
      "cell_type": "markdown",
      "source": [
        "- $\\hat{b}$ e' un punto di massimo\n",
        "\n",
        "In conclusione gli stimatori di MV di $\\mu, \\sigma^2$ nel caso di popolazione Normali sono:\n",
        "\n",
        "- $T_1 = \\bar{x}$ - stimatore di $\\mu$\n",
        "- $T_2 = \\frac{n-1}{n} S^2 = \\frac{1}{n} \\sum (x_i - \\bar{x})^2$ sitmatore di $\\sigma^2$\n",
        "\n",
        "Nota: non sempre questa procedura di massimizzazione per passi funziona. In generale bisogna rifarsi all analisi matematica di funzione di piu variabili. SI parte sempre dall insiem dalle derivate prime parziali poste pari a zero, ma le condizoni del secondo ordine sono piu complesse.\n",
        "\n"
      ],
      "metadata": {
        "id": "DIBpJtzlCnDT"
      }
    },
    {
      "cell_type": "markdown",
      "source": [
        "# ALgoritmo EM:\n",
        "\n",
        "Talvolta la massimizzazione della funzione di verosimiglianza non e' facile. Spesso questo avviene perhce alcuni dati sono mancanti di modo che se essi fossero dispobibili, la struttura della verosimiglianza sarebbe piu agevole.\n",
        "\n",
        "Si puo dunque pensare di partire lo stesso della verosimiglianza completa sostituendo ai dati mancanti un loro camportamento in media - la verosimiglinaza puo quindi essere massimizzata ottenendo informazioi dai dati rimasti.\n",
        "\n",
        "Per poterlo fare,e' necessario ipotizzare un valore di partenza del parametro -  e dunque ;'algopritmo dovra iferire fino a che questo valore di partenza non viene affinato.\n",
        "\n",
        "SI puo dimostrare che l'algoritmo EM converge sempre alla stima di MV che otterebbe se la funzione di verosimiglianza venisse costruita solo sulla base dei dati realmente osservati.\n",
        "\n",
        "Piu formalmente supponiamo di sudividere il campione in questo modo (X, Y)\n",
        "- X - la componente dei dati mancanti - dati aumentati\n",
        "- Y - e la componente realmente osservato - dati incompleti\n",
        "\n",
        "L'\\idea e' che sia puo semplice trattare con la verosimiglianza dei dati comleti piutosto che con quella generata dalla slo osservazione di Y.\n",
        "\n",
        "Se, cioe, sia X si aY fossero osservarti avrebbe\n",
        "\n",
        "$L(\\theta|x,y)$ verosimiglianza completa che dovrebbe essere massimizzata rispetto a $\\theta$ solitamente si lavora con $log(L(\\theta |x,y))$\n",
        "\n",
        "\n",
        "Poiche X non e' osserato, rimane alatoria e si lavora con il valore attesso della $log(L)$ dopo aver ipotizzato un valore iniziale per $\\theta$ chiamandolo $\\theta^{(1)}$\n",
        "\n",
        "$E[log(L(\\theta|x,y))| \\theta^{(1)},y]$\n",
        "- y - tiene conto di quello che si e' osservato\n",
        "- questo e' lo step E: Expectation:\n",
        "\n",
        "Ora i smassimizza la verosimiglianz a risultante rispetto a $\\theta$ , ottenendo una stima che dipende dal valore inziale $\\theta^{(1)}$ e dei dati incompleti osservati -y\n",
        "\n",
        "$max_{\\theta}{E[log{L(\\theta|x,y)|\\theta^{(1)}},y]}$\n",
        "- > $\\hat{\\theta}= \\theta^{(2)}$\n",
        "\n",
        "questo e' lo step M: Maximizaation:\n",
        "\n",
        "A questo punto ;'algoritmo deve iterare, sostituendo $\\theta^{(2)}$ a $\\theta$ nella $log{L}$ e ripetere piu volte gli step E ed M . Al passo r si ottiene un valore $\\theta^{r+1}$ che sra sempre piu vicino alla vera stima- per controllare la convergenza ci sono diversi esiti,d solito si fonde se il valore tende a variare molto poco da una ioterazione al altra\n",
        "\n"
      ],
      "metadata": {
        "id": "enfgCRYqCnF_"
      }
    },
    {
      "cell_type": "markdown",
      "source": [
        "Consideriamo ora un esempio banale di applicazione EM\n",
        "\n",
        "L'utilita protica dell'algoritmo nel caso considerato e' nulla, tuttavia l'esempio serve a illustrare il funzionamento.\n",
        "\n",
        "Esempio:\n",
        "\n",
        "Supponiamo che un campione sia estrato da una popolazione Bernoulliana di parametro $\\theta$\n",
        "\n",
        "$X_1...X_n$ IID $\\sim Bernoulli(\\theta); 0< \\theta < 1$\n",
        "\n",
        "Tuttavia il primo dato e' macante. Come si puo ottenere una stima di $\\theta$? La cosa piu logica e' applicare il metodo della MV sul campione ridotta a n-1 unita. Ricordiamo che la stima di MV nella bernoulina si ottine con la media compionaria, quindi si calcolera tale stima sui n-1 dati rimanenti.\n",
        "\n",
        "Vedremo che l'algoritmo EM produce esattamente qusto risultato.\n",
        "\n",
        "Formalizzando , scomponiamo il campione in\n",
        "\n",
        "$(X_1, X_2...X_n)$\n",
        "- $X_1$ - mancante\n",
        "- $X_2...X_n$ - osservato\n",
        "\n",
        "quindi i dati disponibili\n",
        "\n",
        "$y=(x_2...x_n)$\n",
        "\n",
        "possimo solo calcolare $\\bar{y}= \\frac{\\sum_{i=2}^n x_i}{n-1}$\n",
        "\n",
        "Inoltre consociamo la distribuzione dell elemento mancante- augmented!!!\n",
        "\n",
        "$P(X_1=x_1)= \\theta^{x_1}(1-\\theta)^{1-x_1}; x_1=0,1$\n",
        "\n",
        "ossia\n",
        "- $P(X_1=0)= 1-\\theta$\n",
        "- $P(X_1 = 1)= \\theta$\n",
        "\n",
        "Partiamo dalla verosimiglianza completa chie e'\n",
        "\n",
        "$L(\\theta|x_1, y)= \\prod_{i=1}^n \\theta^{x_i} (1-\\theta)^{1-x_i}=$\n",
        "\n",
        "$= \\theta^{x_1}(1-\\theta)^{1-x_1} \\prod_{i=1}^n \\theta^{x_i}(1-\\theta)^{1-x_i}$\n",
        "\n",
        "$log(L(\\theta|x_1,y))= x_1 log(\\theta) + (1-x_1)log(1-\\theta)+ \\sum_{i=2}^n [x_i log{\\theta}+ (1-x_i)log(1-\\theta)]$\n",
        "\n",
        "Se $x_1$ non e' osservato , ma alatorio:\n",
        "\n",
        "$log(L(\\theta|x,y)) = X_1 log(\\theta)+ (1-X_1)log(1-\\theta)+ \\sum_{i=1}^n [x_i log(\\theta)+ (1-x_i) log(1-\\theta)]$\n",
        "\n",
        "Nello tep di Expectation calcoliamo il valore attesso di questa $log(L)$ utilizzando un valore iniziale di $\\theta$ che chiameremo $p^{(1)}$\n",
        "\n",
        "\n",
        "$E[log(L(\\theta|x_1, y))|p^{(1)}, y]= $\n",
        "\n",
        "$(1-p^{(1)})[0.log(\\theta)+ (1-\\theta)log(1-\\theta)+ \\sum[...]]+ p^{(1)}[1.log(\\theta)+ (1-1)log(1-\\theta)+ \\sum [...]]= $\n",
        "\n",
        "$p^{(1)} log(\\theta)+ (1-p^{(1)})log(1-\\theta)+ sum_{i=1}^n [x_i .log(\\theta)+ (1-x_i)log(1-\\theta)]$\n",
        "\n",
        "\n",
        "Notiamo che e' la stessa cosa della verosimiglianza completa in cui $x_1$ e' sostituito da $p^{1)}$.\n",
        "\n",
        "Poiche la stima di massima verosimiglianza nel caso della' bernoullina e' la media campionari asi avra:\n",
        "\n",
        "$\\hat{\\theta} = \\frac{p^{(1)}+ \\sum_{i=2}^n x_i}{n}= \\frac{p^{(1)}}{n}+ \\frac{n-1}{n}\\bar{y}$\n",
        "\n",
        "questo e' lo step di MAXIMIZATION\n",
        "\n",
        "Ora l'algoritmo deve iterare. Alla seconda iterazione il $\\hat{\\theta}$ sopra che ciarmeremo $p^{(2)}$ viene sostituito nella $log(L)$ e si ripetono l'expetation e la maximization - Natuaralmente si ottiene:\n",
        "\n",
        "$p^{(3)}= \\frac{p^{(2)}}{n} + \\frac{n-1}{n}\\bar{y}= \\frac{p^{(1)}}{n}+ \\frac{n-1}{n^2}\\bar{y}+ \\frac{n-1}{n}\\bar{y}= \\frac{p^{(1)}}{n^2}+ \\frac{n-1}{n}\\bar{y}(1+\\frac{1}{n})$\n",
        "\n",
        "In generale, proseguendo l'algoritmo fino al passo -r si avra:\n",
        "\n",
        "$p^{(r+1)}= \\frac{p^{(1)}}{n^r} + \\frac{n-1}{n}\\bar{y}(1+\\frac{1}{n}+ \\frac{1}{n^2}+ ..+ \\frac{1}{n^{r-1}})$\n",
        "\n",
        "$= \\frac{p^{(1)}}{n^r}+\\frac{n-1}{n}\\bar{y}\\sum_{a=1}^{r-1} (\\frac{1}{n}^a)$\n",
        "- $r \\geq 1$\n",
        "\n",
        "Al crescere del numero di iterazioni (formalmente, se $r-> \\infty$) il punto terminae tende a zero e la serie tene a $\\sum_{a=1}^{\\infty}(\\frac{1}{n})^a = \\frac{1}{1-\\frac{1}{n}}= \\frac{n}{n-1}$\n",
        "\n",
        "Pertanto l'algoritmo converge a:\n",
        "\n",
        "$0 + \\frac{n-1}{n}\\bar{y}\\frac{n}{n-1}= \\bar{y}$\n",
        "\n"
      ],
      "metadata": {
        "id": "N7DrXu_rCnIb"
      }
    },
    {
      "cell_type": "markdown",
      "source": [
        "# Stime Bayesiane:\n",
        "\n",
        "Piu che un metodo di stima aleatoria il metodo Bayesiano e' un approcio diveso all'inferenza statistica.\n",
        "\n",
        "Si parte dal presupposto che il parametro $\\theta$ non va visto come un valore costante (anceh se non noto) ma come una variabile aleatoria descrivibile mediante una distribuzione probabilistica. Tale distribuzione ,incorpora tutta la conoscenza soggettiva che si ha attorno a $\\theta$ prima di osservare i dati:\n",
        "\n",
        "$\\Pi(\\theta)$ - e' una funzione di densita o di probabilita della DISTRIBUZIONE A PRIORI- PRIOR o dIDSTRIBUZIONE INZIALE\n",
        "\n",
        "I dati x son oregolati dal solito modello statistico: $f(x|\\theta)$\n",
        "\n",
        "Il Teorema di Bayes permette di affrontare le opinioni iniziale su $\\theta$ sulla scorta dei dati\n",
        "\n",
        "Il Teorema di Bayes permette di affrontare le opinioni iniziale su $\\theta$\n",
        "$\\Pi(|x)= \\frac{\\Pi(\\theta)f(x|\\theta)}{\\int_{\\Theta}\\Pi(\\theta)f(x|\\theta)d\\theta}$\n",
        "\n",
        "- $\\Pi(\\theta|x)$ - distribuzione POSTERIORI o posterior o distribuzione finale\n",
        "\n",
        "Il risultato finale dell'inferenza e' dunque tutto contenuto in $\\Pi(\\theta|x)$ che puo essere utilizzato a diversi scopi. Se seve una stima puntuiale di $\\theta$ ad esempio si puo prendere una sintesi di qusta distribuzione come il valore attesso.\n",
        "\n",
        "Nota: $\\int_{\\theta} \\Pi(\\theta)f(x|\\theta)d\\theta$ e' detta costante di normalizzazione\n",
        "\n",
        "Serve a rendere $\\Pi(\\theta|x)$ una distribuzione corretta da un punto di vista probablistico. Talvolta non e' semplice risolvere questo integral e si deve ricorrere a metodi di simulazione.\n",
        "\n",
        "Talvolta invece si intuisce e ' il modello probablistico della distribuzione finale e la costante si ricava in modo immediato.\n",
        "\n",
        "Per i motivi sopra, spesso si preferisce partire dal teorema di Bayes, senza costante di normalizzaione, la cui determinazione viene affronta successivamente:\n",
        "\n",
        "$\\Pi (\\theta|x) \\propto \\Pi(\\theta)f(x|\\theta)$\n",
        "\n",
        "\n",
        "\n",
        "\n",
        "\n",
        "\n",
        "\n"
      ],
      "metadata": {
        "id": "mNEGDkfaCnKy"
      }
    },
    {
      "cell_type": "markdown",
      "source": [
        "Esempio:\n",
        "\n",
        "Sia $X_1...X_n$ IID $\\sim Poisson(\\theta); \\theta> 0$\n",
        "\n",
        "SIgnifica come sappiamo che:\n",
        "\n",
        "$f(x|\\theta)= \\prod_{i=1}^n \\frac{\\theta^{x_i}e^{-\\theta}}{x_i!}= \\frac{\\theta^{\\sum_{i=1}^n x_i}e^{-n\\theta}}{\\prod_{i=1}^n x_i!}$\n",
        "\n",
        "\n",
        "La distribuzione iniziale sia: $\\theta \\sim \\Gamma(\\alpha, \\beta)$ cioe:\n",
        "\n",
        "$\\Pi(\\theta)= \\frac{b^a}{\\Gamma(a)} e^{-b\\theta} \\theta^{a-1}; \\theta> 0$\n",
        "\n",
        "NB:L a e b sono i parametri della distribuzione inizale e si suppongono noti - IPERPARAMETRRRI\n",
        "\n",
        "Ora possiamo applicare il teorema di Bayes , cioe vedere come la distribuzione iniziale venga affrontata per effetto dell'osservazione di un generico dataset x:\n",
        "\n",
        "$\\Pi(\\theta|x) \\propto \\frac{\\theta^{\\sum x_i} e^{-n\\theta} }{\\Pi x_i !} \\frac{b^a}{\\Gamma(a)} e^{-b\\theta} \\theta^{a-1}$\n",
        "\n",
        "$\\propto \\theta^{\\sum x_i + a - 1}e^{-(n+b)\\theta}$\n",
        "\n",
        "NB: abbaiamo eliminato tutti i termini proporzionali , cioe che non dipendono da $\\theta$\n",
        "\n",
        "Notiamo che l'ultima scirttura e' il nucleo di un altra densita- Gamma, a cui manca solo al costante di normalizzazione - se fosse\n",
        "\n",
        "$\\Pi(\\theta|x)= \\frac{(x+b)^{\\sum x_i + a}}{\\Gamma(\\sum x_i + a)}e^{_(n+b)\\theta} \\theta(()\\sum x_i + a)-1)$\n",
        "\n",
        "si avrebbe una Gamma di porametri $\\sum x_i + a$ e $n+b$ allora dunque facilmente risolto il problema della costante di normalizzazione e determinato la distribuzione finale.\n",
        "\n",
        "Ricordiamo che\n",
        "\n",
        "$\\theta$|x \\sim \\Gamma(\\sum x_i+a; n+b) -> E(\\theta|x)= \\frac{\\sum x_i + a}{n+b}$\n",
        "\n",
        "questa, dunque e' una possibile stima Bayesiana di $\\theta$\n",
        "\n",
        "osservazioni:\n",
        "\n",
        "1. come succede nel metodo della MV, anche in questo caso potremmo ottenere uno stimatore Bayesiano sostituendo x con X\n",
        "\n",
        "Nell approciao Bayesiano si tende ad avitare questo passagio perchhe si pensa sempre ;'inferenza come condizionata e cio che e' stato relamente osservato\n",
        "\n",
        "2. Nell esempio la stima di $\\theta$ puo essere riscritta come:\n",
        "\n",
        "$\\frac{\\sum x_i}{n+b} + \\frac{a}{n+b}= \\bar{x}\\frac{n}{n+b}+ \\frac{a}{b}\\frac{b}{n+b}$\n",
        "- $\\bar{x} $ e $\\frac{a}{b}$ la stima e' dunque una media ponderata tra la stima di MV e la media iniziale della distribuzione a priri. Cioe si ha un campromesso tra i dati e la opinioni inziale. Acade spesso nel contesto bayesiano\n",
        "\n",
        "3. Nell esempio l adistribuzione a priori e qualla a posteriori erano dello stesso tipo - entrambe Gamma, o meglio della stessa famiglia.\n",
        "\n",
        "SI dice allora che questa famiglia di distribuzione inialzi e CONGIUNTA al modeloo statistico scelto per il campione.\n",
        "\n",
        "\n"
      ],
      "metadata": {
        "id": "MetVNMzOCnM-"
      }
    },
    {
      "cell_type": "markdown",
      "source": [],
      "metadata": {
        "id": "M3Nj6BriCnPb"
      }
    },
    {
      "cell_type": "markdown",
      "source": [],
      "metadata": {
        "id": "XHGFcH6tCnR_"
      }
    },
    {
      "cell_type": "markdown",
      "source": [],
      "metadata": {
        "id": "li3DXw11CnUs"
      }
    },
    {
      "cell_type": "markdown",
      "source": [],
      "metadata": {
        "id": "AA9ZsUrKCnXh"
      }
    },
    {
      "cell_type": "markdown",
      "source": [],
      "metadata": {
        "id": "SF0MCkqqCnaF"
      }
    },
    {
      "cell_type": "markdown",
      "source": [],
      "metadata": {
        "id": "OLWjVE14Cncj"
      }
    },
    {
      "cell_type": "markdown",
      "source": [],
      "metadata": {
        "id": "oOKh-S87Cne_"
      }
    },
    {
      "cell_type": "markdown",
      "source": [],
      "metadata": {
        "id": "PmTkKSu8Cnhj"
      }
    },
    {
      "cell_type": "markdown",
      "source": [],
      "metadata": {
        "id": "i1o09WWpCnjx"
      }
    }
  ]
}