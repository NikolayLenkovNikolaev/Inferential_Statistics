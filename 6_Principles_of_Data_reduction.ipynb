{
  "nbformat": 4,
  "nbformat_minor": 0,
  "metadata": {
    "colab": {
      "provenance": [],
      "authorship_tag": "ABX9TyNbK9sPaDdzxDX+IWv4BwT0",
      "include_colab_link": true
    },
    "kernelspec": {
      "name": "python3",
      "display_name": "Python 3"
    },
    "language_info": {
      "name": "python"
    }
  },
  "cells": [
    {
      "cell_type": "markdown",
      "metadata": {
        "id": "view-in-github",
        "colab_type": "text"
      },
      "source": [
        "<a href=\"https://colab.research.google.com/github/NikolayLenkovNikolaev/Inferential_Statistics/blob/main/6_Principles_of_Data_reduction.ipynb\" target=\"_parent\"><img src=\"https://colab.research.google.com/assets/colab-badge.svg\" alt=\"Open In Colab\"/></a>"
      ]
    },
    {
      "cell_type": "markdown",
      "source": [
        "## 6.1. Introduction\n",
        "\n",
        "## 6.2. The sufficient statistics\n",
        "\n",
        "Sufficient Principle: If $T(X)$ is a sufficient statistic for \\theta$ , then any inference about $\\theta$ should depend on  the sample X only through the value $T(X)$ . That is, if x and y are two sample points such that $T(x)= T(y)$\n",
        " , then the inference about $\\theta$ should be the same whether $X=x$ ir $Y=y$ is observed\n",
        "\n",
        " ### 6.2.1. Sufficient statistics\n",
        "\n",
        " 6.2.1. A statistics T(X) is a sufficient statistic for $\\theta$ uf the conditional distribution of the sample X given the value of T(X) does not depend on $\\theta$\n",
        "\n",
        " Theorem: 6.2.2. if $p(x|\\theta)$ is the joint pdf or pmf of X and $q(t|\\theta)$ is the pdf or pmf of T(X), then T(X) is a sufficient statistic for $\\theta$ if, for every x in the sample pace, the ratio $p(x|\\theta)/q(T((x)|\\teta))$ is constant as a unction of $\\theta$\n",
        "\n",
        " ex: 6.2.3. Binomial sufficient sstatistic\n",
        "\n",
        "ex: 6.2.4. Normal sufficient statistic\n",
        "\n",
        "ex: 6.2.5. Sufficient order statistics\n",
        "\n",
        "Theorem 6.2.6. Factorization Theorem: let $f(x|\\theta)$ denote the joint pdf or pmf of a sample X, A statics T(X) is a sufficient statistics for $\\theta$ if and only if there exist functions $g(t|\\theta)$ and h(x) such that, for all sample points x and all parameter points $\\theta$\n",
        "\n",
        "$$f(x|\\theta) = g(T(x|\\theta)h(x)$$\n",
        "\n",
        "Proof:\n",
        "\n",
        "Ex: 6.2.8. Uniform Sufficient Statistic:\n",
        "\n",
        "Theorem: 6.2.10: Let $X_1...X_n$ be iid observations from a pdf or pmf $f(x|\\theta)$ that belongs to an exponential family given by\n",
        "\n",
        "$$f(x|\\theta) = h(x) c(\\theta) exp{\\sum_{i=1}^k w_i (\\theta)t_i(x)}$$\n",
        "\n",
        "where $\\theta = (\\theta_1 ...\\theta_d), d=< k$\n",
        " Then\n",
        "\n",
        " $$T(X)= (\\sum_{j=1}^n t_1(X_j) ... \\sum_{j=1}^n t_k (X_j))$$\n",
        "\n",
        " is a sufficient statistics for $\\theta$\n",
        "\n",
        "\n",
        " ### 6.2.2. Minimal Suffcient statistics:\n",
        "\n",
        " 6.2.11. A sufficient statistics T(X) is called a minimal sufficient statistic if, for any other sufficient statistc $T`(X), T(X)$ is a function of $T`(x)$\n",
        "\n",
        " Ex: 6.2.12. Two noermal sufficient statistics\n",
        "\n",
        " Theorem 6.2.13: Let $f(x|\\theta)$ be the pmf or pdf of a sample X. Suppose ehere esist a function T(X) such that, for every two sample points x and y, the ratio $f(x|\\theta)/ (f(y|\\theta))$ is constant as afunction of $\\theta$ if and only if T(x)= T(y). Then T(X) is minimal sufficient statistic fro $\\theta$\n",
        "\n",
        "Proof:\n",
        "\n",
        "Ex: 6.2.14: Normal minimal sufficient statistic\n",
        "\n",
        "ex: 6.2.15 Uniform minimal sufficent statistic\n",
        "\n",
        "### 6.2.3. Ancillary Statistics:\n",
        "\n",
        "6.2.16. A statistic S(X) whose distribution does not depend on the parameter $\\theta$ is called an acillary statistic\n",
        "\n",
        "ex: 6.2.17. Uniform ancillary statistic\n",
        "\n",
        "ex: 6.2.18: Location family ancillary statistic\n",
        "\n",
        "### 6.2.4 Suffcient , ancillary and complete statistics\n",
        "\n",
        "ex 6.2.20\n",
        "\n",
        "6.2.21. Let $f(x|\\theta)$ be a family of pdfs or pmfs for a statistic T(X). The family of proabability distributions is called complete if $E_{\\theta}[g(T)] = 0$ for all $\\theta$ implies $P_{\\theta}(g(T)= 0)= 1$ for all $\\theta$. Equivalently, $T(X)$ is called a complete statistic.\n",
        "\n",
        "ex: 6.2.22. Binomial complete sufficient statistic\n",
        "\n",
        "ex: 6.2.23. Uniform complete sufficient statistic\n",
        "\n",
        "Theoem 6.2.24. Basu;'s Theorem: if T(X is a complete and minimal sufficient statistic, then T(X) is independent of every ancillary statistic\n",
        "\n",
        "Proof:\n",
        "\n",
        "\n",
        "Theorem: 6.2.25. Complete statistic in the esponential family: let $X_1...X_n$ be iid observeations from an exponential family with pdf or pmf of  the form\n",
        "\n",
        "$$f(x|\\theta) = h(x)......$$\n",
        "\n",
        "\n",
        "where $\\theta= (\\theta_1, ...\\theta_k)$ Then the statistic:\n",
        "\n",
        "$$T(X) = (\\sum_{i=1}^n t_1(X_i), ... \\sum_{i=1}^n t_k(X_k))$$\n",
        "\n",
        "is complete as long as the parameter space $\\Theta$ contains an open set in $R^k$\n",
        "\n",
        "Ex: 6.2.16 and 6.2.13.: Using Basu's theorem\n",
        "\n",
        "\n",
        "Theorem 6.2.28: If a minimal suffient statistic exists, then any complete statistic is also a minimal sufficient statistic.\n",
        "\n",
        "\n"
      ],
      "metadata": {
        "id": "6CRwitZIOt0V"
      }
    },
    {
      "cell_type": "markdown",
      "source": [
        "## 6.3 The Likelihood Principle\n",
        "\n",
        "\n",
        "### 6.3.1. The Likelihood Function:\n",
        " 6.3.1. Let $f(x|\\theta)$ denote the joint pdf or pmf of the sample X = $(X_1..X_n)$\n",
        " then given that X=x is observed , the function of $\\theta$ defined by\n",
        "\n",
        " $$L(\\theta|x) = f(x|\\theta)$$\n",
        " is called the likelihood function\n",
        "\n",
        " ex: 6.3.2. Negative binomial likelihood\n",
        "\n",
        " ### LIKELIHOD PRINCIPLE\n",
        "If x and y are two sample points such that $l(\\theta|x)$ is proportional to $L(\\theta|y)$, that is, there exists a constant C(x,y) such that:\n",
        "$$L(\\theta|x) = C(x,y) L(\\theta|y)$$ for all $\\theta$\n",
        "\n",
        "then the conclusions drawn from x and y should be identical.\n",
        "\n",
        "ex: 6.3.3. Normal fiducial distribution\n",
        "\n",
        "### 6.3.2. The Formal Likelihood Principle:\n",
        "\n",
        "ex: 6.3.4. Evidence function\n",
        "\n",
        "- formal sufficient principle\n",
        "\n",
        "- conditional principle\n",
        "\n",
        "ex: 6.3.5. Binomila/negative binomial experiment\n",
        "\n",
        "LIKELIHOOD PRINCIPLE COROLLARY ⁉\n",
        "\n",
        "Theorem 6.3.6. Birnbaum's Theorem:\n",
        "\n",
        "The  Formal Likelihood Principle follows from the Formal SUfficient Principle and the COnditionality Principle. The conversi is also true.\n",
        "\n",
        "Proof:\n",
        "\n",
        "ex: 6.3.7.\n",
        "\n",
        "\n",
        "\n",
        "\n",
        "\n",
        "\n",
        "\n",
        "## 6.4 The equivariance Principle"
      ],
      "metadata": {
        "id": "uP8BgwlXOt27"
      }
    },
    {
      "cell_type": "markdown",
      "source": [],
      "metadata": {
        "id": "ivv6NWAvOt5X"
      }
    },
    {
      "cell_type": "markdown",
      "source": [],
      "metadata": {
        "id": "Mx19zCcPOt8D"
      }
    },
    {
      "cell_type": "markdown",
      "source": [],
      "metadata": {
        "id": "8byTEuqaOt-J"
      }
    },
    {
      "cell_type": "markdown",
      "source": [],
      "metadata": {
        "id": "M3VG2pqrOuAX"
      }
    },
    {
      "cell_type": "markdown",
      "source": [],
      "metadata": {
        "id": "c_HFm9krOuCt"
      }
    }
  ]
}