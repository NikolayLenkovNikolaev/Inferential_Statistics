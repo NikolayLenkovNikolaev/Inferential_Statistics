{
  "nbformat": 4,
  "nbformat_minor": 0,
  "metadata": {
    "colab": {
      "provenance": [],
      "authorship_tag": "ABX9TyMBVQIif+HH9Ef0IMHMaiGX",
      "include_colab_link": true
    },
    "kernelspec": {
      "name": "python3",
      "display_name": "Python 3"
    },
    "language_info": {
      "name": "python"
    }
  },
  "cells": [
    {
      "cell_type": "markdown",
      "metadata": {
        "id": "view-in-github",
        "colab_type": "text"
      },
      "source": [
        "<a href=\"https://colab.research.google.com/github/NikolayLenkovNikolaev/Inferential_Statistics/blob/main/Dictionary%2C_signs.ipynb\" target=\"_parent\"><img src=\"https://colab.research.google.com/assets/colab-badge.svg\" alt=\"Open In Colab\"/></a>"
      ]
    },
    {
      "cell_type": "markdown",
      "source": [
        "$ A \\xrightarrow[T]{P} C $"
      ],
      "metadata": {
        "id": "feCD_yWQr_3a"
      }
    },
    {
      "cell_type": "markdown",
      "source": [
        "$\n",
        "\\begin{equation}\n",
        "  D_{it} =\n",
        "    \\begin{cases}\n",
        "      1 & \\text{if bank $i$ issues ABs at time $t$}\\\\\n",
        "      2 & \\text{if bank $i$ issues CBs at time $t$}\\\\\n",
        "      0 & \\text{otherwise}\n",
        "    \\end{cases}       \n",
        "\\end{equation}\n",
        "$"
      ],
      "metadata": {
        "id": "B86dt7h4r_5u"
      }
    },
    {
      "cell_type": "markdown",
      "source": [
        "\n",
        "|A|A|A|\n",
        "|---|---|---|\n",
        "|a|a|a|\n",
        "|a|a|a|\n"
      ],
      "metadata": {
        "id": "tm4xktQur_8C"
      }
    },
    {
      "cell_type": "markdown",
      "source": [
        "\n",
        "$\\approx$"
      ],
      "metadata": {
        "id": "L0rjEvKKr_-Z"
      }
    },
    {
      "cell_type": "markdown",
      "source": [],
      "metadata": {
        "id": "5GRyVg9rsAAl"
      }
    },
    {
      "cell_type": "markdown",
      "source": [],
      "metadata": {
        "id": "0GSpOHGPsACj"
      }
    },
    {
      "cell_type": "markdown",
      "source": [],
      "metadata": {
        "id": "SQMRvBwpsAEo"
      }
    },
    {
      "cell_type": "markdown",
      "source": [],
      "metadata": {
        "id": "AhHgLSb6sAGu"
      }
    },
    {
      "cell_type": "markdown",
      "source": [],
      "metadata": {
        "id": "QSAvDKGNsAI1"
      }
    },
    {
      "cell_type": "markdown",
      "source": [],
      "metadata": {
        "id": "uY5pN-NKsALJ"
      }
    }
  ]
}