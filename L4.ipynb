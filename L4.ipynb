{
  "nbformat": 4,
  "nbformat_minor": 0,
  "metadata": {
    "colab": {
      "provenance": [],
      "authorship_tag": "ABX9TyOFg6MuvEevRp+pvxqfgIR3",
      "include_colab_link": true
    },
    "kernelspec": {
      "name": "python3",
      "display_name": "Python 3"
    },
    "language_info": {
      "name": "python"
    }
  },
  "cells": [
    {
      "cell_type": "markdown",
      "metadata": {
        "id": "view-in-github",
        "colab_type": "text"
      },
      "source": [
        "<a href=\"https://colab.research.google.com/github/NikolayLenkovNikolaev/Inferential_Statistics/blob/main/L4.ipynb\" target=\"_parent\"><img src=\"https://colab.research.google.com/assets/colab-badge.svg\" alt=\"Open In Colab\"/></a>"
      ]
    },
    {
      "cell_type": "markdown",
      "source": [
        "# Ubtervals for binomial parameters\n",
        "\n",
        "\n",
        " When $X \\sin Binomial(n, p)$ we know that\n",
        " - $\\hat{p}= X/n$ is the MLE for p\n",
        " - $E[\\hat{p}]=p$\n",
        " - Var$(\\hat{p})= p(1-p)/n$\n",
        " - $\\frac{\\hat{p}- p}{\\sqrt{\\hat{p}(1-\\hat{p})/n}}$ follows a nortmal distribution for large n\n",
        " - the latter leads to the Wald interval for p\n",
        " $\\hat{p} -+ Z_{1-\\alpha/2}\\sqrt{\\hat{p}(1-\\hat{p})/n}$\n",
        "\n",
        " - the Wald interval performs terribly\n",
        " - coverage probability varies wildly , sometimes being quite low for certain calues of n even when p in not near the boudaries\n",
        "  - example: when p=0.5 and n=40 the actual coverage of a 95% interval is only 92%\n",
        "\n",
        "- when p is small or large, coverage can be quite poor even for extremely large values of n\n",
        "  - example, ehwn p=0.005 and m=1,876 the actuial coverage rate of a 95% interval is only 90%\n",
        "\n",
        "\n",
        "### SImple fix\n",
        "\n",
        "- a simpe fix for the problem is to add two successes and two failurees\n",
        "- that is let $\\widetilde{p}-+ Z_{1-\\alpha/2}\\sqrt{\\widetilde{p}(q-\\widetilde{p} ) / \\widetilde{n} } $\n",
        "- motivation: when p is large or small , the distribution of $\\hat{p}$ is skewed and it does not make sense to center the interval at the MLE, adding the pseudo observations pulls the center of the interval toward 0.5\n",
        "\n",
        "- later we will show that this interval is the inversion of a hypothesis testing technique\n",
        "\n"
      ],
      "metadata": {
        "id": "dmwjnN7H6kXB"
      }
    },
    {
      "cell_type": "markdown",
      "source": [
        "Bayesian analysis\n",
        "- bayesian statistic posit a prior on the parameter of interest\n",
        "- all inferentices are then performed on the distribution of the parametert given the data, called the posterior\n",
        "- in geeral\n",
        "  $Posterior ∝ likelihood * prior$\n",
        "\n",
        "therefor as we saw in diagnostic testing the likelihood is the factor by which our prior beliefs are updated to produce conclusions in the light of the data\n",
        "\n",
        "Beta Priors:\n",
        "- the beta distributions is the default priior for parameters between 0 and 1\n",
        "- the beta density depends on two parameters $\\alpha, \\beta$\n",
        "$\\frac{Γ(α + \\beta)}{Γ(\\alpha). Γ(\\beta)}p^{\\alpha-1}(1-\\alpha)^{\\beta-1}$\n",
        "for 0=< p =< 1\n",
        "\n",
        "0 the mean if beta density is a $\\alpha / (α + \\beta)$\n",
        "\n",
        "the variance of the beta density is\n",
        "\n",
        "$\\frac{α β}{(α + β)^2(\\alpha + \\beta + 1)}$\n",
        "\n",
        "\n",
        "the uniform density is the special case where $\\alpha=\\beta= 1$\n"
      ],
      "metadata": {
        "id": "bHscRHRF6kZv"
      }
    },
    {
      "cell_type": "markdown",
      "source": [
        "###  Posterior:\n",
        "\n",
        "- suppose that we chsose values of $\\alpha \\beta$ so that the beta prior is indicative of our degree of belief regariding p in the absense of data\n",
        "- then using the rule that\n",
        "$Posterior ∝ Likelihhod * Prior$\n",
        "\n",
        "and throwing out anything that doesn't depend on p , we have that\n",
        "\n",
        "$Posterior ∝ P^x (1-p)^{n-x}* p^{\\alpha-1}(1-p^{\\beta-1})$\n",
        "\n",
        "$= p^{X+ \\alpha -1}(1-p)^{n-x + \\beta-1}$\n",
        "\n",
        "This density is just another beta bensity with parameter $\\widetilde{\\alpha}= x+ \\alpha $ and $\\widetilde{\\beta}= n-x+\\beta $"
      ],
      "metadata": {
        "id": "QoPeMJRd6kci"
      }
    },
    {
      "cell_type": "markdown",
      "source": [
        "Posterior mean:\n",
        "\n",
        "- $E[p|X] = \\frac{\\widetilde{\\alpha} }{\\widetilde{\\alpha} + \\widetilde{\\beta} }$"
      ],
      "metadata": {
        "id": "Mo09VTzu6kfV"
      }
    },
    {
      "cell_type": "markdown",
      "source": [
        "$$ = \\frac{x + \\alpha}{x + \\alpha + n - x + \\beta}$$\n",
        "\n",
        "$$ \\frac{x +\\alpha}{n+ \\alpha + \\beta}$$\n",
        "\n",
        "$$\\frac{x}{n} * \\frac{n}{n + \\alpha + \\beta}+ \\frac{\\alpha}{\\alpha + \\beta}* \\frac{\\alpha + \\beta}{n + \\alpha + \\beta}$$\n",
        "\n",
        "$$MLE * \\pi + PriorMena*(1-\\pi)$$\n",
        "\n",
        "- the posterior mean is a mixture ot the MLE($\\hat{p}$) and the prior mean\n",
        "- $\\pi$ goes to 1 as n gets large; for large n the data swapmps the prior\n",
        "- for small n, the prio mean dominates\n",
        "- generalizes how science should idelly work, as data becomes increasigly available, prior beliefs should matter less and less\n",
        "- with a prior that is degenerate at a value, no amout of data can overcome the prior\n",
        "\n"
      ],
      "metadata": {
        "id": "ldSWPZiL6kiD"
      }
    },
    {
      "cell_type": "markdown",
      "source": [
        "## Posterior variance\n",
        "- the posterior variance is:\n",
        "\n",
        "$$ Var{p|x}= \\frac{\\widetilde{\\alpha}.\\widetilde{\\beta}}{(\\widetilde{\\alpha} + \\widetilde{\\beta}  )^2(\\widetilde{\\alpha}+\\widetilde{\\beta}+1  )} $$\n",
        "\n",
        "$$ \\frac{(x+\\alpha)(n-x+\\beta)}{(n+\\alpha + \\beta)^2(n+\\alpha +\\beta + 1)}$$\n",
        "\n",
        "- Let $\\widetilde{p}= (x+\\alpha)/ (n + \\alpha + 'beta) $ and $\\widetilde{n}= n + \\alpha + \\beta $ then we have\n",
        "\n",
        "$$Var(p|x)=\\frac{\\widetilde{p}(1-\\widetilde{p} ) }{\\widetilde{n} + 1 }$$"
      ],
      "metadata": {
        "id": "NmN61djK6kk4"
      }
    },
    {
      "cell_type": "markdown",
      "source": [
        " If $\\alpha = \\beta= 2$ then the postrior mean is $\\widetilde{p} = (x+2)/ (n+4) $\n",
        "\n",
        " and the posterior variance is\n",
        " $$\\widetilde{p}(1-\\widetilde{p} )/(\\widetilde{n}+1 ) $$\n",
        "\n",
        " This is almost exacly the mean and variance we used for the Agresti-Coull interval\n",
        "\n",
        ""
      ],
      "metadata": {
        "id": "6vKbxDKK6knU"
      }
    },
    {
      "cell_type": "markdown",
      "source": [
        "Bayes credible intervals\n",
        "\n",
        "- a Bayesian credible interval is the Bayesian analog of a confidence interval\n",
        "- a 95% credible interval [a,b] would satisfy\n",
        "\n",
        "$P(p \\in [a,b]|x)=0.95$\n",
        "\n",
        "- the best credible intervals chop off the posterior with a horizontal line in the same way we did for likelihoods\n",
        "- these are called highest posterior density HPD intervals\n",
        "\n",
        "```\n",
        "library(binom)\n",
        "binom.bayes(13, 20, type=\"highest\")\n",
        "```\n",
        "\n",
        "gives the HPOD interval, The dafault credible level is 95% and the default prior is the Jeffrey's prior\n",
        "\n"
      ],
      "metadata": {
        "id": "9xaNK6Af6kpz"
      }
    },
    {
      "cell_type": "markdown",
      "source": [],
      "metadata": {
        "id": "83Nin-Ew6ksN"
      }
    },
    {
      "cell_type": "markdown",
      "source": [],
      "metadata": {
        "id": "K3aogoQx6kup"
      }
    },
    {
      "cell_type": "markdown",
      "source": [],
      "metadata": {
        "id": "RyX37Aa26kxP"
      }
    },
    {
      "cell_type": "markdown",
      "source": [],
      "metadata": {
        "id": "2sqUqiMQ6kzb"
      }
    },
    {
      "cell_type": "markdown",
      "source": [],
      "metadata": {
        "id": "11SS08OV6k1x"
      }
    },
    {
      "cell_type": "markdown",
      "source": [],
      "metadata": {
        "id": "D8mbOR8Q6k4H"
      }
    },
    {
      "cell_type": "markdown",
      "source": [],
      "metadata": {
        "id": "DimPjAFA6k6T"
      }
    },
    {
      "cell_type": "markdown",
      "source": [],
      "metadata": {
        "id": "NLRh_66a6k_j"
      }
    },
    {
      "cell_type": "markdown",
      "source": [],
      "metadata": {
        "id": "HxkAfxYc6lCn"
      }
    },
    {
      "cell_type": "markdown",
      "source": [],
      "metadata": {
        "id": "9dTegbIT6lFr"
      }
    }
  ]
}