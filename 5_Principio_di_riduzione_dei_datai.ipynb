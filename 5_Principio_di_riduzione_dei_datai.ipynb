{
  "nbformat": 4,
  "nbformat_minor": 0,
  "metadata": {
    "colab": {
      "provenance": [],
      "authorship_tag": "ABX9TyMP5mHOuBnfHWku67h55Kfe",
      "include_colab_link": true
    },
    "kernelspec": {
      "name": "python3",
      "display_name": "Python 3"
    },
    "language_info": {
      "name": "python"
    }
  },
  "cells": [
    {
      "cell_type": "markdown",
      "metadata": {
        "id": "view-in-github",
        "colab_type": "text"
      },
      "source": [
        "<a href=\"https://colab.research.google.com/github/NikolayLenkovNikolaev/Inferential_Statistics/blob/main/5_Principio_di_riduzione_dei_datai.ipynb\" target=\"_parent\"><img src=\"https://colab.research.google.com/assets/colab-badge.svg\" alt=\"Open In Colab\"/></a>"
      ]
    },
    {
      "cell_type": "markdown",
      "source": [
        "Abbaiamo visto che , una volta raccolti i dati, campito dell'inferenza e' quello di sintetizzarli o ridurli. tramite la costruzione di opportune statistiche.\n",
        "\n",
        "Le proprieta campionarie delle statistiche vengono ricavate. dal modello statistico da cui si presuppone provengono i dati,\n",
        "\n",
        "Il tpoblema e' naturalmente, quello di ricavarne informazione sul modello statistico prioprio tramite il valore osservato delle statistiche. DUnque ci si puo chiedere , non tanto se le conclusini tratte siano corrette , quanto se il processo con cui abbiamo estratto queste informazioni sia coerente o abbia delle lacune. Es\n",
        "- abbiamo perso informazioni rilevanti quando abbiamo sintetizzato i dati?\n",
        "- la nosra sintesi contine anche elementi ridondanti o solo quelle esenziali?\n",
        "- in ultima analisi , quale e' il contenitore dlle informazioni sul modello statistico fornite dai dati?\n",
        "\n",
        "# Principio di sufficienza e stastiche sufficienti\n",
        "\n",
        "Un idea elementare e' che, nel cosruire una statistica e' necessario sintetizzare quanto piu possibile i dati senza, che tuttavia nessuna informazione (riguardante il modello stat , dunque il parametro) rilevante vera persa\n",
        "\n",
        "Se la stastica contine tutte le informazioni rilevanti sul parametro $\\theta$ significa che e' rilevante solo il valore da essa assunto e non i singoli dati. In altri termini , potremmo avere diversi dataset che tuttavia producono lo stasso valore della statistica e' linferenza rimarebbe la stessa, nonstante i singoli dati siamo diversi.\n",
        "\n",
        "Piu formalment:\n",
        "- statistica: $T(X_1...X_n)=T$\n",
        "- primo dataset : $x=(x_1...x_n)$\n",
        "  - valore osservato di T: $t_1=(T(x_1...x_n))$\n",
        "- secondo dataset : $y=(y_1...y_n)$\n",
        "  - valore osservato di T: $t_2=(T(y_1...y_n))$  \n",
        "\n",
        "Se $t_1=t_2$ - i due dataset forniscono la stesso inferenza su $\\theta$\n",
        "\n",
        "Pervhe una statistica realizza il principio sopra, deve essese SUFFIENTE\n",
        "\n",
        "Una definizione formale di statistica sufficiente:\n",
        "\n",
        "DEF: una stat $T(X_1 ... X_N)$ e` sufficiente dato un modello, sela distribuzione condizionata del campione dato il valore assunto da T non dipende dal parametro $\\theta$\n",
        "\n",
        "La verica dello sufficienza di una statistica non e' molto semplice. Per questo, e` molto utile il seguente teorema.\n",
        "\n",
        "TEOREMA:\n",
        "\n",
        "Siamo:\n",
        "- $p(x|\\theta)= p(x_1...x_n)$ la funzione di probabilita congiunta del campione\n",
        "- $q(t|\\theta)$ - la funzione di probabilita di una statistica $T=(X_1 ... X_n)$\n",
        "\n",
        "T e' sufficiente se e solo se il rapporto\n",
        "\n",
        "$\\frac{p(x|\\theta)}{q(t|\\theta)}$ - $t=T(x_1 ... x_n)$\n",
        "\n",
        "non dipende da $\\theta$ per ogni $x \\in X$\n",
        "\n",
        "Dim:\n",
        "\n",
        "Fissiamo un dataset $x=(x_1 ... x_n)$ e un valore t. Dobbiamo dimostrare che\n",
        "$P(X=x|T=t)$ non dipende da $\\theta$\n",
        "\n",
        "Notiamo che se $t \\ne T(x_1 ... x_n)$ la probabilita sopra e' zero . Dunque porre $t=T(x)$$\n",
        "\n",
        "$P[X=x | T= T(x)]= \\frac{p[X(X=x) \\cap (T=T(x))]}{P(T=T(x))} = \\frac{P(X=x)}{P(T=T(x))}= \\frac{p(x|\\theta)}{q(t|\\theta)}$\n",
        "\n",
        "- perche la stat sia sufficiente, non deve dipendere da $\\theta$\n",
        "\n",
        "Nota:\n",
        "- il teorema e' stato ennuciata e dimostrato nel caso discreto. Nonostante l'uno delle probabilita condizionate porti qualche problema in piu, si puo mostrare che e' valido anche nel caso continuo, cioe quando le funzioni di probabilita sono sostituire da funzioni di densita.\n",
        "\n",
        "\n",
        "\n",
        "\n"
      ],
      "metadata": {
        "id": "QsG4XPvV3dYc"
      }
    },
    {
      "cell_type": "markdown",
      "source": [
        "Esempio:\n",
        "- consideriamo un campione $X_1...X_n$ da $X \\sim Bernoulli(\\theta)$. mostriamo che: $T= \\sum_{i=1}^n X|_i$ e' uno statistica suffiiciente.\n",
        "\n",
        "Sappiamo che $T \\sim Binomiale(n, \\theta)$\n",
        "\n",
        "$P(T=t)= q(t|\\theta)= \\binom{n}{t} \\theta^t (1-\\theta)^{n-t}$\n",
        "\n",
        "Inoltre:\n",
        "\n",
        "$P(X=x)= \\theta^x (1-\\theta)^{1-x}$\n",
        "\n",
        "$p(x|\\theta)= \\prod_{i=1}^n \\theta^{x_i} (1-\\theta)^{1-x_i}= \\theta^{\\sum x_i} (1-\\theta)^{n  - \\sum x_i}$\n",
        "\n",
        "Come nella dimostraione, possiamo $t=\\sum x_i$ e consideriamo il rapporto\n",
        "\n",
        "$\\frac{p(x|\\theta)}{q|\\theta} = \\frac{\\theta^t (1-\\theta)^{n-t}}{\\binom{n}{t} \\theta^t (1-\\theta)^{n-t}} = \\binom{n}{t}^{-1}$ non dipende da $\\theta$\n",
        "\n",
        "-> $T=\\sum_{i=1}^n X_i$ e' sufficiente\n",
        "\n",
        "\n",
        "\n"
      ],
      "metadata": {
        "id": "gp0rh7Sa3dba"
      }
    },
    {
      "cell_type": "markdown",
      "source": [
        "Esempio 2:\n",
        "\n",
        "Consideraimo $X_1..X_n$ IID $\\sim N(\\mu, \\sigma^2)$ e sappiamo che $\\sigma^2$ sia un valore noto - si potrebbe, per semplicita, porlo uguale ad 1\n",
        "\n",
        "$f(x|\\mu)= \\prod_{i=1}^n \\frac{1}{\\sigma \\sqrt{2\\pi}} exp[-\\frac{1}{2} \\sum_{i=1}^n (x_i -\\mu)^2]$\n",
        "\n",
        "lavoriamo ora sulla sommatoria all'esponente\n",
        "\n",
        "$\\sum(x_i - \\mu)^2 = \\sum(x_i - \\bar{x} +\\bar{x}- \\mu)^2= \\sum [(x_i -\\bar{x})^2 + (\\bar{x}-\\mu)^2 + 2(\\bar{x}- \\mu)(x_i - \\bar{x})]=$\n",
        "\n",
        "$= \\sum(x_i - \\bar{x})^2 + n(\\bar{x}-\\mu)^2 + 2(\\bar{x}- \\mu)\\sum(x_i-\\bar{x})$\n",
        "- $\\sum(x_i - \\bar{x})= 0$\n",
        "\n",
        "$= \\sum (x_i -\\bar{x})^2 + n(\\bar{x}-\\mu)^2$\n",
        "\n",
        "\n",
        "-> $f(x|\\mu)= (\\frac{1}{\\sigma \\sqrt{2\\pi}})^n exp[-\\frac{1}{2\\sigma^2} [\\sum(x_i -\\bar{x})+ n(\\bar{x}-\\mu)^2]]$\n",
        "\n",
        "\n",
        "Ora consideriamo , come statistica la media campionaria $\\bar{x}$ dela quale sappiamo che\n",
        "\n",
        "$\\bar{X} \\sim N(\\mu, \\frac{\\sigma^2}{n})$\n",
        "\n",
        "-> $q(t|\\mu)= \\frac{1}{\\frac{\\sigma}{\\sqrt{n}} \\sqrt{2\\pi}} exp [- \\frac{1}{2\\frac{\\sigma^2}{n}} (t-\\mu)^2]$\n",
        "\n",
        "e ponendo $\\bar{x} = t$ si ha il rapporto:\n",
        "\n",
        "$\\frac{f(x|\\mu)}{q(t|\\mu)} = \\frac{\\frac{1}{\\sigma \\sqrt{2\\pi}})^n}{\\frac{1}{\\frac{\\sigma}{\\sqrt{n}} \\sqrt{2\\pi}}} exp[-\\frac{1}{2\\sigma^2} [\\sum(x_i -\\bar{x})+ n(\\bar{x}-\\mu)^2 + \\frac{1}{2\\frac{\\sigma^2}{n}} (t-\\mu)^2]$\n",
        "\n",
        "= $\\frac{(\\sigma \\sqrt{2\\pi})^{-n-1}}{\\sqrt{n}} exp [-\\frac{1}{2 \\sigma^2} \\sum (x_i - \\bar{x})^2]$\n",
        "\n",
        "che come vediamo non dipende da $\\mu$. Pertanto $\\bar{x}$ e' sufficiente per il modello Normale, quando $\\sigma^2$ e' noto\n",
        "\n"
      ],
      "metadata": {
        "id": "2SVZwIVI3dd-"
      }
    },
    {
      "cell_type": "markdown",
      "source": [
        "I due esempi precedenti mostaranno che, nonostante il teorema non e' molto semplide verificare che una statistica sia sufgficiente (e' infatti necessario conoscere la sua distribuzione campionaria)\n",
        "\n",
        "E' molto utile, quindi, considerare il seguente teorema:\n",
        "\n",
        "TEOREM: di fattoriazzaione\n",
        "\n",
        "Una statistica $T=T(X_1...X_n)$ e' sufficiente se e solo se la distribuzione congiunta del campione si puo fattorizzare come segue.\n",
        "\n",
        "$f(x|\\theta)= h(x) g(T(X)|\\theta)$\n",
        "\n",
        "dove $h$ e' una funzione nondipendente da $\\theta$ e $g$ e' una funzione eventualmente dipendente da $\\theta$ che dipende dal campione solo tramite $T(X)$\n",
        "\n"
      ],
      "metadata": {
        "id": "6y0EWxin3dga"
      }
    },
    {
      "cell_type": "markdown",
      "source": [
        "Esempio: continua consideriamo nuovamente un campione IID $\\sim N(\\mu; \\sigma^2)$ e supponiamo $\\sigma^2$ sia noto\n",
        "\n",
        "Sappiao che:\n",
        "\n",
        "$f(x|\\mu)= =(\\frac{1}{\\sigma\\sqrt{2\\pi}})^n  exp[-\\frac{1}{2\\sigma^2} [\\sum(x_i-\\bar{x})^2 + n(\\bar{x}-\\mu)^2]]$\n",
        "\n",
        "$(\\frac{1}{\\sigma\\sqrt{2\\pi}})^{n - \\frac{\\sum (x_i - \\bar{x})^2}{2\\sigma^2}} e^{-\\frac{n}{2\\sigma^2}(\\bar{x}-\\mu)^2} =h(x)g(\\bar{x}|\\mu)$\n",
        "\n",
        "dove $T=\\bar{X}$ e' sufficiente\n",
        "\n",
        "NB: avremmo potuto anche scirivere come terzo fattore\n",
        "\n",
        "$exp [- \\frac{n}{\\sigma^2} (\\frac{\\sum x_i}{n} -\\mu)^2]$\n",
        "\n",
        "dunque anche $T=\\sum X_i$ e\\ sufficiente\n",
        "\n",
        "Nota: l'ultima considerazione dell'esempio mostra che ogni funzione biunivoca di una statistica sufficiente e' sufficiente\n",
        "\n",
        "Cio e' eviente dal terorema di fattorazzazione perc he dato una funzione $l$ biunivoca e invertibile di t:\n",
        "\n",
        "$T* = l(t)-> t= l^{-1}(t^*)$\n",
        "\n",
        "$f(x|\\theta)= h(x)g(t|\\theta)= h(x)g(l^{-1}(t*)|\\theta)= f(x)g*(t*|\\theta)$\n",
        "\n",
        "vale il teorema di fattorizzazine rispetto alla nuova statistica: $T* = l(T)$\n",
        "\n",
        "Esempio:\n",
        "\n",
        "consideriamo $X_1...X_n$ IID $\\sim U(0, \\theta)$\n",
        " ossia\n",
        "\n",
        " $f(x|\\theta)=$\n",
        " - $ 1/\\theta- if 0<x < \\theta; \\theta >0 $\n",
        " - $0 -altrove$\n",
        "\n",
        " e cerchiamo una statistica sufficiente per questo modello, medianote il teorema di fattorizzazzione.\n",
        "\n",
        " Notiamo in primo luogo vhe la dunzione di densita uniforme si puo riscrivere tramite funzione indicatrice\n",
        "\n",
        " $f(x|\\theta)= 1/\\theta I_{0,\\theta}(x)$\n",
        " - vale 1 se $x \\in (0, \\theta)$\n",
        " - vale 0 altrove\n",
        "\n",
        " lo stesso vale per la distribuzione cangiunta del campione\n",
        "\n",
        " $f(x|\\theta)= \\binom{1}{\\theta}^n \\prod_{i=1}^n I_{0, \\theta}(x_i)$\n",
        "\n",
        " E\\ opportuno lavorare sulla produttoria:\n",
        "\n",
        " - significa che tutte le $x_i$ devono appartenere all'intervallo, basta che una sola non appartiene perche il proddoti si anulli\n",
        "\n",
        " Dunqie: $0 < x_i < \\theta$ all i=1...n\n",
        "\n",
        " oppure:\n",
        "\n",
        " $x_{(1)} < ...< x_{(n)} < \\theta$\n",
        "\n",
        " ossia e' sufficiente richiedere $x_{(n)}< \\theta$ e\n",
        "\n",
        " $f(x|\\theta)= \\frac{1}{\\theta} I_{0, \\theta} (x_{(n)})$\n",
        "\n",
        " - ponendo $h(x)= 1$ quesa e' $g(t|\\theta)$ ossia la statistica sufficiente e' $T=X_{(n)}= max[x_1...x_n]$\n",
        "\n",
        ""
      ],
      "metadata": {
        "id": "dNAzFwkC3djX"
      }
    },
    {
      "cell_type": "markdown",
      "source": [
        "Esempio 3:\n",
        "\n",
        "Consideriamo ora il modello Normale in cui entrambi i parametri sono NON nori:\n",
        "\n",
        "$X_1,,X_n$ IID $\\sim N(\\mu; \\sigma^2)$\n",
        "\n",
        "e orea si puo scrivere:\n",
        "\n",
        "$f(x|\\mu, \\sigma^2)= (\\frac{1}{\\sigma \\sqrt{2\\pi}})^n exp[-\\frac{1}{2\\sigma^2}] [\\sum (x_i - \\bar{x})^2 + n(\\bar{x}- \\mu)^2]$\n",
        "\n",
        "Se ora poniamo $T_1=\\bar{X}, T_2 = S^2 = \\frac{1}{n-1}\\sum (x_i - \\bar{x})^2 -> $\n",
        "\n",
        "$f(x|\\mu, \\sigma^2)= (\\frac{1}{\\sigma \\sqrt{2\\pi}})^n exp[-\\frac{1}{2\\sigma^2} [(n-1)t_2 + n(t_1-\\mu)^2]] $\n",
        "\n",
        "Puo essere considerata una funzione $g(t_1,t_2|\\mu, \\sigma^2)$ e ponendo $h(x)=1$ il teorema di fattorizzazione mostra che $(T_1,T_2)$ spmp cpngiuntamente sufficienti\n",
        "\n",
        "Nota: L'esempio molstra che in generale una statistica sufficiente ha la dimensione del parametro : se questo e' un vettore a due dimensioni , cosi lo e' la statistica.\n",
        "\n",
        "Ci sono tuttavia dei casi in cui cio non avviene\n",
        "\n",
        "Per illustrare questo concetto e' utile considerae un caso particolare : la famiglia esponensiale\n",
        "\n"
      ],
      "metadata": {
        "id": "EiIx_0Yq3dl0"
      }
    },
    {
      "cell_type": "markdown",
      "source": [
        "Sappiamo che nella sua formulazione generale la famiglia esponenziale ha k-parametri . Ci aspettiamo che esistono k-statistiche congiuntemente sufficienti, come mostra il seguente teorema:\n",
        "\n",
        "TEOREMA: supponiao che $f(x|\\theta)$ appartenga alla famiglia esponenziale che k-parametri\n",
        "\n",
        "$f(x|\\theta)= h(x) c(\\theta) exp[\\sum_{j=1}^k w_j (\\theta_j) t_j (x)]$\n",
        "\n",
        "dove $\\theta = (\\theta_1...\\theta_k)$ allora le staistiche:\n",
        "- $T_1$= \\sum_{i=1}^n t_1 (X_i)\n",
        "- ...\n",
        "- $T_k$= \\sum_{i=1}^n t_k (X_i)\n",
        "\n",
        "sono congiuntamente sufficinti\n",
        "\n",
        "In realta il teorema puo essere formulato in modo piu generale mostrando che, se la famiglia esponenziale ha d-parametri e d<k - cioe la famiglia e' come sapiamo curva, si hanno comunque k-statistiche sufficienti.\n",
        "\n",
        "Questo e'un caso in cui il numero di statistiche sufficienti e' diverso dal numero di parametri..\n",
        "\n",
        "Ci limiteremmo tuttavia e considerare famiglie espoeneziali piene (d=k) sopratutto ad un parametro\n",
        "\n"
      ],
      "metadata": {
        "id": "kz3ONZGQ3doY"
      }
    },
    {
      "cell_type": "markdown",
      "source": [
        "## Statistiche sufficienti minimali\n",
        "\n",
        "Le statistiche sufficineti riducono il campione senza perdere informazioni sul parametro. Tuttavia non e' detto che non possa esistre una sitesi del campione ancora piu forte e quindi piu efficace.\n",
        "\n",
        "Qual e' allora la statistica che realizza la sintesi piu spinta dei dati?\n",
        "\n",
        "DEF: una statisticha sufficiente si dice MINIMALE se e' funzione di ogni altra statistica sufficiente.\n",
        "\n",
        "La statistica minimale e' dunque un ulteriore sintesi di ogni statistica sufficiente, essendo una sua funzione. In questo modo, la statisitica minimale non solo non fa perdere informazioni , ma raccoglie solo le informazioni rilevanti.\n",
        "\n",
        "Se una statistica e' sufficiente ed essume lo stesso valore su due dataset i due dataset devono dare le stesse informazioni sul parametro. Tuttavia cio non esclude che possa esistere un terzo dataset, contenente le stesse informazioni, per cui la statistica sufficiente assume n valore diverso:\n",
        "\n",
        "T-sufficiente $T(x=T(y))-. inf(x)= inf(y)$\n",
        "\n",
        "ma $T(x \\\\ne T(y))$ non e' $inf(x) \\ne inf(y)$\n",
        "\n",
        "Qundo si aggiunge la minimalita la prima implicitazione vale in entrambe le direzioni , in questo modo, la statistica minimale non puo assumere valore diverso su due dataset che danno le stesse informazioni\n",
        "\n",
        "T-sufficiente minimale: $T(x)= T(y)$ <-> $inf(x)= inf(y)$\n",
        "\n",
        "e dunque:\n",
        "$T(x) \\ne T(y)$ -> $inf(x) \\ne inf(y)$\n",
        "\n",
        "Il prossimo teorema formalizza questo concetto.\n",
        "\n",
        "Teorema $x=(x_1...x_n); y=(y_1...y_n)$ e una statistica T , questa e minimale se\n",
        "\n",
        "$T(x)=T(y)$ se e solo se $\\frac{f(x|\\theta)}{f(y|\\theta)}$ nondipende da $\\theta$\n",
        "\n",
        "Nota: $f(x|\\theta)$ e la distribuzione congiunta del campione calcolata in corrispondenza del primo dataset e come vedremo puo essere considerata come il contenitore di tutte le informazioni su $\\theta$ fornita dal dataset\n",
        "\n",
        "Parlomeno, due datase x e y per cui $f(x|\\theta), f(y|\\theta) sono tra di loro proporzionali, dovremo fornire le stesse informazioni su $\\theta$$\n",
        "\n"
      ],
      "metadata": {
        "id": "4ZnR2OB13dq9"
      }
    },
    {
      "cell_type": "markdown",
      "source": [
        "Esempio:\n",
        "\n",
        "Normale con parametri incognite:\n",
        "\n",
        "$X_1....X_n$ IID $\\sim N(\\mu;\\sigma^2)$\n",
        "\n",
        "sappiamo che:\n",
        "\n",
        "$f(x|\\mu; \\sigma^2)= (\\frac{1}{\\sigma\\sqrt{2\\pi}})^n exp [-\\frac{1}{2\\sigma^2} [\\sum (x_i - \\bar{x}-)^2 + n(\\bar{x}-\\mu)^2]]$\n",
        "\n",
        "\n",
        "e dunque consideerati due dataset x e y\n",
        "\n",
        "$\\frac{ f(x|\\mu .\\sigma^2) }{ f (y|\\mu, \\sigma^2)} = exp [- \\frac{1}{2\\sigma^2}\n",
        " [\\sum (x_i - \\bar{x}-)^2 + n(\\bar{x}-\\mu)^2]- [-\\frac{1}{2\\sigma^2} [\\sum (y_i - \\bar{y}-)^2 + n(\\bar{y}-\\mu)^2]]$\n",
        "\n",
        "$exp[- \\frac{1}{2\\sigma^2}] [(n-1)(s_x^2 - x_y^2) + n(\\bar{x}^2-\\bar{y}^2) - 2n\\mu(\\bar{x}-\\bar{y})]$\n",
        "\n",
        "dove\n",
        "- $s_x^2 = \\frac{1}{n-1} \\sum (x_i - \\bar{x})^2$\n",
        "- $s_y^2 = \\frac{1}{n-1} \\sum (y_i - \\bar{y})^2$\n",
        "\n",
        "il rapporto e' = 1 e non dipende ne da $\\mu$ ne da $\\theta$\n",
        "\n",
        "Pertnato: $\\bar{x], s^2$ son ostattistiche congiuntamente sufficienti minimali\n",
        "\n",
        "Nota: e' facile usare stssa technica per mostrare che quando $\\sigma^2 $ e' noto $\\abr{x}$ e\\ sufficiente minimale (per il solo $\\mu$)"
      ],
      "metadata": {
        "id": "yD848axB3dti"
      }
    },
    {
      "cell_type": "markdown",
      "source": [],
      "metadata": {
        "id": "S5qaJX4a3dv5"
      }
    },
    {
      "cell_type": "markdown",
      "source": [],
      "metadata": {
        "id": "iJ9yz9TR3dye"
      }
    },
    {
      "cell_type": "markdown",
      "source": [],
      "metadata": {
        "id": "NE7d_S8i3d0x"
      }
    },
    {
      "cell_type": "markdown",
      "source": [],
      "metadata": {
        "id": "NZduZHEU3d3E"
      }
    },
    {
      "cell_type": "markdown",
      "source": [],
      "metadata": {
        "id": "7c75wUkW3d5S"
      }
    },
    {
      "cell_type": "markdown",
      "source": [],
      "metadata": {
        "id": "TZxVEh0s3d7u"
      }
    },
    {
      "cell_type": "markdown",
      "source": [],
      "metadata": {
        "id": "30JwuNFy3d-E"
      }
    },
    {
      "cell_type": "markdown",
      "source": [],
      "metadata": {
        "id": "FR5BqjE23eAS"
      }
    },
    {
      "cell_type": "markdown",
      "source": [],
      "metadata": {
        "id": "8LZv7Too3eC4"
      }
    },
    {
      "cell_type": "markdown",
      "source": [],
      "metadata": {
        "id": "h_wOLEQI3eE9"
      }
    },
    {
      "cell_type": "markdown",
      "source": [],
      "metadata": {
        "id": "eu1WZJ7k3eHY"
      }
    },
    {
      "cell_type": "markdown",
      "source": [],
      "metadata": {
        "id": "r-VlYfse3eJs"
      }
    },
    {
      "cell_type": "markdown",
      "source": [],
      "metadata": {
        "id": "mu5DRiFg3eLq"
      }
    }
  ]
}