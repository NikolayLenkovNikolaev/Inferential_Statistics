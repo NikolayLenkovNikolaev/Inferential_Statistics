{
  "nbformat": 4,
  "nbformat_minor": 0,
  "metadata": {
    "colab": {
      "provenance": [],
      "authorship_tag": "ABX9TyNgWfeP9MU2AqrifEtk2nYT",
      "include_colab_link": true
    },
    "kernelspec": {
      "name": "python3",
      "display_name": "Python 3"
    },
    "language_info": {
      "name": "python"
    }
  },
  "cells": [
    {
      "cell_type": "markdown",
      "metadata": {
        "id": "view-in-github",
        "colab_type": "text"
      },
      "source": [
        "<a href=\"https://colab.research.google.com/github/NikolayLenkovNikolaev/Inferential_Statistics/blob/main/3_Common_Families_of_DIstributionss.ipynb\" target=\"_parent\"><img src=\"https://colab.research.google.com/assets/colab-badge.svg\" alt=\"Open In Colab\"/></a>"
      ]
    },
    {
      "cell_type": "markdown",
      "source": [
        "## 3.1. Intyroduction\n",
        "\n",
        "## 3.2. Discrete Distributions\n",
        "\n",
        "## 3.3. COntinuous DIstribution\n",
        "\n",
        "## 3.4. Exponential Families\n",
        "\n",
        "## 3.5. Location and Scale Families\n",
        "\n",
        "## 3.6. Aditional"
      ],
      "metadata": {
        "id": "I0_nnJSkNHN2"
      }
    },
    {
      "cell_type": "markdown",
      "source": [],
      "metadata": {
        "id": "vMalr523NHQo"
      }
    },
    {
      "cell_type": "markdown",
      "source": [],
      "metadata": {
        "id": "qwhuVbUYNHS-"
      }
    },
    {
      "cell_type": "markdown",
      "source": [],
      "metadata": {
        "id": "QVKlwIZFNHVb"
      }
    },
    {
      "cell_type": "markdown",
      "source": [],
      "metadata": {
        "id": "jVp4ie5WNHXh"
      }
    },
    {
      "cell_type": "markdown",
      "source": [],
      "metadata": {
        "id": "7AdOnqNGNHZt"
      }
    },
    {
      "cell_type": "markdown",
      "source": [],
      "metadata": {
        "id": "g9iOeEb0NHb7"
      }
    }
  ]
}