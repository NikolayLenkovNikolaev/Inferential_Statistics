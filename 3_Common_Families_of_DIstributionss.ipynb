{
  "nbformat": 4,
  "nbformat_minor": 0,
  "metadata": {
    "colab": {
      "provenance": [],
      "authorship_tag": "ABX9TyMYWiuWWCb7M0cr0usaIv1T",
      "include_colab_link": true
    },
    "kernelspec": {
      "name": "python3",
      "display_name": "Python 3"
    },
    "language_info": {
      "name": "python"
    }
  },
  "cells": [
    {
      "cell_type": "markdown",
      "metadata": {
        "id": "view-in-github",
        "colab_type": "text"
      },
      "source": [
        "<a href=\"https://colab.research.google.com/github/NikolayLenkovNikolaev/Inferential_Statistics/blob/main/3_Common_Families_of_DIstributionss.ipynb\" target=\"_parent\"><img src=\"https://colab.research.google.com/assets/colab-badge.svg\" alt=\"Open In Colab\"/></a>"
      ]
    },
    {
      "cell_type": "markdown",
      "source": [
        "## 3.1. Intyroduction\n",
        "\n",
        "Statistical distribution are used to model population , as such we usually deal with a family of distributiion rather than a single distribution. This family is indexed by one or more parameters, which allow us to vary certain characteristic of the distribution wihile staying with one functional form.\n",
        "\n",
        "\n",
        "\n",
        "## 3.2. Discrete Distributions\n",
        "- A random variable X is said to have a discrete distribution if the range of X, the sample space, is countable.\n",
        "\n",
        "Discrete Uniform distribution:\n",
        "- a random variable X has s discrete unoform  (1,N) distribution if:\n",
        "$P(X=x|N) = \\frac{1}{N} $ - x=1,2...N\n",
        "= where N is a specified integer. This distribution puts equal mass on each of the outcomes 1,2...N\n",
        "\n",
        "Ex: 3.2.1. Acceptance sampling\n",
        "\n",
        "Binomail Distribution:\n",
        "- based n the idea of a Bernoulli trial ~ Bernoulli(p)\n",
        "- $E[X] = p$\n",
        "- $Var[X] = p(1-p)$\n",
        "\n",
        "\n",
        "Theorem 3.2.2. Binomial Theorem: For any real numbers x and y and integer n>= 0\n",
        "\n",
        "$(x+y)^n = \\sum_{i=0}^n \\binom{n}{i} x^i y^{n-i}$\n",
        "\n",
        "Proof:\n",
        "\n",
        "Ex: 3.2.3. Dice probabilities\n",
        "\n",
        "Poisson Distribution: isa widely applied discrete distribution and canserve as a model for a number of different types of experiments.\n",
        "- single pparameter $\\lambda$\n",
        "- $P(X=x|\\lambda) = \\frac{e^{-\\lambda} \\lambda^x}{x!}$ x=0,1...\n",
        "\n",
        "- $E[X] = \\lambda$\n",
        "- $Var[X] = \\lambda$\n",
        "- $M_X(t)= e^{\\lambda (e^t - 1)}$\n",
        "\n",
        "Ex. 3.2.4. Waiting time\n",
        "\n",
        "Ex: 3.2.5: Poisson approximation\n",
        "\n",
        "Negative Binomial Distribution:\n",
        "\n",
        "- $P(X=x|r,p) = binom{x-1}{r-1} p^r (1-p)^{x-r}$ - x=r, r+1....\n",
        "\n",
        "Ex: 3.2.6. Inverse binomial sampling\n",
        "\n",
        "\n",
        "Geometric distribution:\n",
        "\n",
        "$P(X=x|p)= p(1-p)^{x-1}$ - x=1,2...\n",
        "\n",
        "- $E[X] = \\frac{1}{p}$\n",
        "- $Var[X]= \\frac{1-p}{p^2}$\n",
        "\n",
        "Ex. 3.2.7. Failure times"
      ],
      "metadata": {
        "id": "I0_nnJSkNHN2"
      }
    },
    {
      "cell_type": "markdown",
      "source": [
        "\n",
        "## 3.3. COntinuous DIstribution\n",
        "\n",
        "Uniform distribution:\n",
        "\n",
        "$f(x|a,b)$\n",
        "- $\\frac{1}{b-a}$ if $x \\in [a,b]$\n",
        "- 0 - otherwise\n",
        "\n",
        "- $E[X] = \\frac{b+a}{2}$\n",
        "- $Var[X] \\frac{(b-a)^2}{12}$\n",
        "\n",
        "\n",
        "Gamma Distribution:\n",
        "- $E[X]= \\alpha \\beta$\n",
        "- $Var[X] = \\alpha \\beta^2$\n",
        "\n",
        "ex: 3.3.1. Gamma-Poisson relationship\n",
        "\n",
        "Normal Distribution:\n",
        "- $f(x|\\mu, \\sigma^2) = \\frac{1}{\\sqrt{2\\pi}\\sigma} e^{-(x-\\mu)^2 /(2\\sigma^2)}$\n",
        "\n",
        "$-\\infty <x < ∞$\n",
        "\n",
        "\n",
        "Ex: 3.3.2. Normal Approximation\n",
        "\n",
        "\n",
        "Beta distribution:\n",
        "\n",
        "$$\\Bata (\\alpha, \\beta) = \\int_0^1 x^{\\alpha-1} (1-x)^{\\beta-1} dx$$\n",
        "\n",
        "$$ Beta(\\alpha, \\beta) \\frac{Γ(\\alpha) Γ(\\beta)}{Γ(\\alpha + \\beta)}$$\n",
        "\n",
        "- $E[X] = \\frac{\\alpha}{\\alpha + \\beta}$\n",
        "- $Var[\\frac{\\alpha \\beta}{(\\alpha+ \\beta)^2} (\\alpha + \\beta + 1)] $\n",
        "\n",
        "\n",
        "Couchy Distribution\n",
        "\n",
        "Double Exponential distribution:\n",
        "\n",
        "\n"
      ],
      "metadata": {
        "id": "vMalr523NHQo"
      }
    },
    {
      "cell_type": "markdown",
      "source": [
        "\n",
        "## 3.4. Exponential Families\n",
        "\n",
        "A family of pdfs or pmfs is called an exponential family if it can be expressed as:\n",
        "\n",
        "$$f(x|\\theta)= h(x) c(\\theta) exp(\\sum_{i=1}^k w_i(\\theta) t_i(x))$$\n",
        "\n",
        "- h(x) >0 and $t_1(x) ...t_k(x)$ are real-valued functions of the observation x (they cannot depend on $\\theta)$\n",
        "- $c(\\theta)>0 $ and $w_1(\\theta) ... w_k(\\theta)$ are real-valued functions of the possibgle vector-valued parameter $\\theta$ (they cannot depend on x)\n",
        "\n",
        "- we must identify the functions $h(x), c(\\theta), w_i(\\theta), t_i(x)$\n",
        "\n",
        "Ex: 3.4.1. Binomail exponential family\n",
        "\n",
        "Theorem 3.4.2.\n",
        "\n",
        "\n",
        "Ex: 3.4.3. Binomial mean and variance:\n",
        "\n",
        "Ex: Normal Exponential family:\n",
        "\n",
        "3.4.5. The indicator function of a set A , most often denoted by $I_A(x)$, is the function\n",
        "\n",
        "$I_(X = )$\n",
        "- $1, x \\in A$\n",
        "- $0 , x \\notin A$\n",
        "\n",
        "Alternative notation is $I (x \\in A)$\n",
        "\n",
        "$F(x|\\mu, \\sigma^2) = h(x) c(\\mu, \\simga) exp[w_1(\\mu, \\sigma)t_1(x) + w_2(\\mu, \\sigma)t_2(x)] . I_{(-\\infty; \\infty)} (x)$\n",
        "\n",
        "ex: 3.4.6. Countinuation of ex 3.4.4.\n",
        "\n",
        "Definition 3.4.7. A curve exponential family is a family of densities of the form (3.4.1.) for which the dimension of the vector $\\theta$ is equal to $d<k$. If d=k , the family is a full exponential family.\n",
        "\n",
        "ex.3.4.8. A curved exponential family\n",
        "\n",
        "ex. 3.4.9. Normal approximations\n",
        "\n"
      ],
      "metadata": {
        "id": "qwhuVbUYNHS-"
      }
    },
    {
      "cell_type": "markdown",
      "source": [
        "\n",
        "\n",
        "## 3.5. Location and Scale Families\n",
        "\n",
        "Theorem 3.5.1. Let $f(x)$ by any pdf and let $\\mu, \\sigma>0$ by any given constants. Then the function:\n",
        "$$g(x|\\mu, \\sigma) = \\frac{1}{\\sigma} f(\\frac{x-\\mu}{\\sigma})$$ is apdf\n",
        "\n",
        "Proof:\n",
        "\n",
        "3.5.2. Let $f(x)$ be any pdf. Then the family of pdfs $f(x-\\mu)$, indexed by the parameter $\\mu, -\\infty < \\mu < \\infty$, is called the location family with standard pdf f(x) and $\\mu$ is called the location parameter for the family\n",
        "\n",
        "example: 3.5.3. exponential location family\n",
        "\n",
        "3.5.4. Let $f(x)$ be any pdf. Then for aby $\\sigma>0$ the family of pdfs, $(1/\\sigma)f(x/\\sigma)$, indexed by the parameter $\\sigma$ us called scale family with st.pdf $f(x)$ and $\\sigma$ is called the scale parameter of the family\n",
        "\n",
        "3.5.5. Let $f(x)$ by any pdf. Then for any $\\mu, -\\infty < \\mu < \\infty$ and any $\\sigma > 0 $, the family of pdfs $(1/\\sigma) f((x-\\mu)/\\sigma)$, indexed by the parameter $(\\mu, \\sigma)$, ios called the location -scvlae family wiht standard pdf f(x), $\\mu$ is called the location parameter and $\\sigma $ is called the scale parameter\n",
        "\n",
        "\n",
        "Theore: 3.5.6. Let $f(.)$ be any pdf. Lert $\\mu$ be any real number, and let $\\sigma$ be any positive real number. Thne X is a random variable with pdf $(1/\\sigma) f((x-\\mu)/\\sigma)$ if and only if there exist a random variable Z with pdf $f(x)$ and $X= \\sigma.Z + \\mu$\n",
        "\n",
        "Proof:\n",
        "\n",
        "Theorem: 3.5.7. Let Z be a random variable with pdf $f(z)$. Suppose $E[Z]$ and $Var[Z]$ exist. If X is a random variable with pdf $(1/\\sigma) f((x- \\mu)/\\sigma)$ then:\n",
        "\n",
        "- $E[X] = \\sigma E[Z] + \\mu$\n",
        "- $Var{X} = \\sigma^2 . Var[Z]$\n",
        "\n",
        "In particular, if $E[Z]= 0$ and $Var[Z]= 1$, then $E[X]= \\mu$ and $Var[X]= \\sigma^2$\n",
        "\n",
        "Proof:\n",
        "\n",
        "\n",
        "\n",
        "## 3.6. Additional"
      ],
      "metadata": {
        "id": "QVKlwIZFNHVb"
      }
    },
    {
      "cell_type": "markdown",
      "source": [],
      "metadata": {
        "id": "jVp4ie5WNHXh"
      }
    },
    {
      "cell_type": "markdown",
      "source": [],
      "metadata": {
        "id": "7AdOnqNGNHZt"
      }
    },
    {
      "cell_type": "markdown",
      "source": [],
      "metadata": {
        "id": "g9iOeEb0NHb7"
      }
    }
  ]
}