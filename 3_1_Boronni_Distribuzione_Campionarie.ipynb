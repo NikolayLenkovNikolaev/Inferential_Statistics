{
  "nbformat": 4,
  "nbformat_minor": 0,
  "metadata": {
    "colab": {
      "provenance": [],
      "authorship_tag": "ABX9TyMyDRc+khLTBKKenu9Wygpj",
      "include_colab_link": true
    },
    "kernelspec": {
      "name": "python3",
      "display_name": "Python 3"
    },
    "language_info": {
      "name": "python"
    }
  },
  "cells": [
    {
      "cell_type": "markdown",
      "metadata": {
        "id": "view-in-github",
        "colab_type": "text"
      },
      "source": [
        "<a href=\"https://colab.research.google.com/github/NikolayLenkovNikolaev/Inferential_Statistics/blob/main/3_1_Boronni_Distribuzione_Campionarie.ipynb\" target=\"_parent\"><img src=\"https://colab.research.google.com/assets/colab-badge.svg\" alt=\"Open In Colab\"/></a>"
      ]
    },
    {
      "cell_type": "markdown",
      "source": [
        "# Distribuzioni Campionarie:\n",
        "\n",
        "Abbiamo visto che in una schema piutosto generale gli elementi del campione $X_1..X_n$ sono variabili aleatorie IID\n",
        "\n",
        "Il campione generara un insieme di dati - realizzazioni campionarie- che dovra essere usato a scopo di inferenza e dunque sintetizzato\n",
        "\n",
        "I risultati potenziali di questa sintesi possono essre gie valutati sul campione, considerando la funzione che verra applicata.\n",
        "\n",
        "DEF: una STATISTICA e' una qualunque funzione $T=T(x_1,....,x_n)$\n",
        "\n",
        "degli elementi del campione che non contiene quantita in cognite\n",
        ". Il risultato e' una variabile alattoria T la cui distribuzone probabiistica e' detta DISTIBUZIONE CMPIONARIA\n",
        "\n",
        "Nota: sappiamo che gli elementi del campione possono essere vettori- allo stesso modo, anche la funzione T puo generale vettori (aleatori). COnsiderano soltanto , tuttavia, solo il caso semplificato contenuto nella definizione\n",
        "\n",
        "Nota2: cosi come aabiamo distinto tra campione e realizzazione campionaria , distingeremmo tra:\n",
        "- STATISTICA: $T= T(X_1..X_n)$ - e' una var.casuale\n",
        "- VALORE OSSERVATO DELLA STATISTIVA: $t= T(x_1..x_n)$- e' un numero reale\n",
        "\n",
        "Alcuni esempi di statistiche sono:\n",
        "1. La media campionaria:\n",
        "\n",
        "$$\\bar{X}= \\frac{1}{n} \\sum_{i=1}^n X_i$$\n",
        "- valore osservato $\\bar{x}$\n",
        "\n",
        "2. la Variabile campionaria\n",
        "$$S^2 = \\frac{1}{n-1} \\sum_{i=1}^n (X_i - \\bar{X})^2$$\n",
        "- valore osservato - $\\lambda^2$\n",
        "\n",
        "3. Proporzione campionaria:\n",
        "$$\\hat{P}= \\frac{\\# successi(X_1,...X_n)}{n}$$\n",
        "- valore osservato - $\\hat{p}$\n",
        "- in realta un caso particolare di $\\bar{X}$\n",
        "\n",
        "\n",
        "## Proprieta campionarie di $\\bar{X}$\n",
        "\n",
        "Consideriamo una popolazione X con $E[X]= \\mu, Var[X]= \\sigma^2 < \\infty$\n",
        "\n",
        "1. $E[\\bar{X}]= \\mu$\n",
        "2. $Var[\\bar{X}]= \\frac{\\sigma^2}{n}$\n",
        "3. Se $X \\sim M_x(t)$ - funzione generatirece dei momenti\n",
        "- $M_{\\bar{X} [M_X (\\frac{t}{n})]^n$\n",
        "\n",
        "Dimostraazione:\n",
        "\n",
        "$M_{\\bar{X}} (t)= E[e^{t\\bar{X}}] = E[e^[t \\frac{X_1+..+X_n}{n}]]= E[e^{\\frac{t}{n}X_1+\\frac{t}{n}X_2+...+\\frac{t}{n}X_n}]$\n",
        "\n",
        "$= E[e^{\\frac{t}{n}X_1}.e^{\\frac{t}{n}X_2}.,,,,.e^{\\frac{t}{n}X_n}]$\n",
        "\n",
        "$E[e^{\\frac{t}{n}X_1}]E[e^{\\frac{t}{n}X_2}]...E[e^{\\frac{t}{n}X_n}]$\n",
        "\n",
        "$= M_{X_1}(\\frac{t}{n})M_{X_2}(\\frac{t}{n})...M_{X_n}(\\frac{t}{n})$\n",
        "\n",
        "$[M_{X}(\\frac{t}{n})]^n$\n",
        "\n",
        "Esempio:\n",
        "\n",
        "Ricordiamo che, se $X \\sim N(\\mu, \\sigma^2)$\n",
        "\n",
        "$M_X(t)= exp[\\mu .t +\\frac{1}{2}\\sigma^2.t^2]$\n",
        "\n",
        "$M_{\\bar{X}}(t)= [exp(\\mu.\\frac{1}{n} + \\frac{1}{2}\\sigma^2 \\frac{t^2}{n^2}) ]^2$\n",
        "\n",
        "$exp(n.\\mu\\frac{t}{n} + n.\\frac{1}{2}\\sigma^2 \\frac{t^2}{n^2})$\n",
        "\n",
        "$exp(\\mu.t + \\frac{1}{2}(\\frac{\\sigma^2}{n})t^2)$\n",
        "\n",
        "che e' la fgm di $N(\\mu, \\frac{\\sigma^2}{n}) => \\bar{X} \\sim N(\\mu, \\frac{\\sigma^2}{n})$\n",
        "\n",
        "\n",
        "## Proprieta campionarie di $S^2$\n",
        "1. $E[S^2]= \\sigma^2$\n",
        "2. $Var(S^2) = \\frac{1}{2}(\\mu_4 - \\frac{n-3}{n-1}\\sigma^4)$\n",
        "- con $\\mu_4 = E(X-\\mu)^4$\n",
        "\n",
        "## Campionamento della famiglia esponenziale\n",
        "\n",
        "La famiglia esponenziale e' una famiglia molto ampia di distribuzioni , alla base di numerosi risultati. Non e' da confondere con la distribuzione esponenziale- che comunque ci appartiene\n",
        "\n",
        "Def: si dice che una famiglia funzione di probabilita o una funzione di densita appartiene alla famiglia esponenziale (ad un parametro ) se esistono le funzioni h,c,w,t tali che\n",
        "\n",
        "$$f(x|\\theta)= h(x)c(\\theta)exp[w(\\theta)t(x)]$$\n",
        "\n",
        "Esempio:\n",
        "\n",
        "consideriamo proprio la densita esponenzaiale\n",
        "$$f(x|\\theta)= \\theta.e^{-\\theta x}= \\theta exp[-\\theta x]$$"
      ],
      "metadata": {
        "id": "3i4B2-Olq8Az"
      }
    },
    {
      "cell_type": "markdown",
      "source": [
        "- $h(x)= 1$\n",
        "- $c(\\theta)= \\theta$\n",
        "- $w(\\theta)= -\\theta$\n",
        "- $t(x)= x$\n",
        "\n",
        "Anche se nell esempio precedente non vi abbiamo posto attenzione e' rilevante anche il supporto della funzione di prob/densita\n",
        "\n",
        "Esempio2:\n",
        "\n",
        "Consideriamo la Bernoulliana\n",
        "\n",
        "$p(x|\\theta)= \\theta^x (1-\\theta)^{1-x}= exp[log[\\theta^x(1-\\theta)^{1-x}]]$\n",
        "\n",
        "$exp[x.log\\theta + (1-x)log(1-\\theta)]$\n",
        "\n",
        "$exp[x[log\\theta - log(1-\\theta)]+ log(1-\\theta)]$\n",
        "\n",
        "$exp[x.log \\frac{\\theta}{1-\\theta}](1-\\theta)$\n",
        "\n",
        "Tuttavia vale solo se X=1,0. Per cui vale la pena scrivere.\n",
        "\n",
        "$p(x|\\theta)= (1-\\theta) exp(x.log \\frac{\\theta}{1-\\theta}) I_{(0;1)}(x)$\n",
        "\n",
        "- $h(x)= I_{(0;1)}(x)$\n",
        "- $c(\\theta)= 1-\\theta$\n",
        "- $w(\\theta)= log \\frac{\\theta}{1-\\theta}$\n",
        "- $t(x)= x$\n",
        "\n",
        "Questo spiega perche le distribuzioni in cui il supporto contiene il parametro non appartengono alla famiglia esponenziale.\n",
        "\n",
        "Esempi 3:\n",
        "\n",
        "Consideriamo l'uniforme continua su (0, \\theta)\n",
        "\n",
        "$f(x|\\theta)= \\frac{1}{\\theta} I_{(0;\\theta)} (x)$\n",
        "\n",
        "- il termine $0;\\theta$ non si puio mai separare nel prodotto di una funzione dipendente solo da x e una dipendente solo da $\\theta$\n",
        "\n",
        "- non apartiene alla famiglia esponenziale\n",
        "\n",
        "## Teorema:\n",
        "\n",
        "Dato un campione $X_1..X_n$ estratto da una popolazione che appartiene alla famiglia esponenziale e considerata la statistica\n",
        "$$T(X_1...X_n) = \\sum_{i=1}^n t(X_i)$$\n",
        "\n",
        "la sua distribuzione appartiene nuovamente alla famiglia esponenziale\n",
        "\n",
        "$f_T(m|\\theta) = H(m) [c(\\theta)]^n exp(W(\\theta) m)$\n",
        "- m - usiamo un altra variabile per chiarezza\n",
        "- H- e una funzione diversa\n",
        "- c and W - e la stessa\n",
        "- m- gioca il ruolo di t:t(m)=m\n",
        "\n",
        "Esempio: continua\n",
        "\n",
        "Se $X_1..X_n$ IID $\\sim Bernoulli(\\theta)$\n",
        "\n",
        "$t(x)= x => T=\\sum_{i=1}^n X_i$\n",
        "\n",
        "Ma sappiamo che $\\sum_{i=1}^n X_i \\sim bin(n, \\theta)$\n",
        "\n",
        "$f_T(m)= \\binom{n}{m} \\theta^m (1-\\theta)^{n-m} . I_{0,...,n}(m)$\n",
        "\n",
        "$...$\n",
        "\n",
        "- $\\binom{n}{m} I_{(...)} = H(m)$\n",
        "- $(1-\\theta)^n = [c(\\theta)]^n$\n",
        "- $log \\frac{\\theta}{1-\\theta} = W(\\theta)$\n",
        "\n",
        "$=\\binom{n}{m} I_{(...)} (1-\\theta)^n exp[m log \\frac{\\theta}{1-\\theta}] $\n",
        "\n",
        "quindi il risultato e' verificato\n",
        "\n",
        "In realta la versione considerata della famiglia esponenziale e' una semplificazone perche possono valere uno o entrambe le quete condizioni\n",
        "- $\\theta$ e' un parmetro vettorial - ci sono cie $\\alpha$ parametri\n",
        "- ci sono k-funzioni all esponente\n",
        "\n",
        "Nella nostra versione, dunque d=1, k=1 . In generale deve sempre essere d =< k ma molto spesso e; d=k\n",
        "\n",
        "\n"
      ],
      "metadata": {
        "id": "19BwOaVoq8Df"
      }
    },
    {
      "cell_type": "markdown",
      "source": [
        "Esempio:\n",
        "\n",
        "consideriamo la densita Normale di parametri $\\mu$ e $\\sigma^2$. SI puo scrivere $\\vec{\\theta}= (\\mu; \\sigma^2)$\n",
        "\n",
        "$f(x|\\mu, \\sigma^2) = \\frac{1}{\\sigma \\sqrt{2 \\pi}} exp[-\\frac{1}{2\\sigma^2} (n-\\mu)^2]$\n",
        "\n",
        "$\\frac{1}{\\sigma \\sqrt{2 \\pi}} exp[ -\\frac{x^2}{2\\sigma^2} - \\frac{\\mu^2}{2\\sigma^2} + \\frac{x\\mu}{\\sigma62}]$\n",
        "\n",
        ".........\n",
        "\n",
        "$\\frac{1}{\\sigma \\sqrt{2 \\pi}} .e^{-\\frac{x^2}{2\\sigma^2}} exp[-\\frac{1}{2\\sigma^2}x^2 + \\frac{\\mu}{\\sigma^2}x]$\n",
        "\n",
        "- $-\\frac{1}{2\\sigma^2}x^2  = w_1(\\theta)t_1(x)$\n",
        "- $\\frac{\\mu}{\\sigma^2}x    = w_2(\\theta)t_2(x)$\n",
        "\n",
        "dove\n",
        "- $w_1(\\theta) = -\\frac{1}{2\\sigma^2}$\n",
        "- $w_2(\\theta)= \\frac{\\mu}{\\sigma^2}$\n",
        "- $t_1(x)= x^2$\n",
        "- $t_2(x)= x$\n",
        "\n",
        "- ovviamente $h(x)= 1$\n",
        "\n",
        "Nel esempio d=k. In questi casisi dice che la famiglia esponenziale e PIENA. QUndo invece d< k si ha famiglia CURVA\n",
        "\n",
        "CI limiteremo molto spesso al caso d=k=1 e talvolta consideriamo il caso d=k>1. In questa seconda iptesi, faremo riferimento a questo tipo di rappretazione\n",
        "\n",
        "DEF: si dice che una funzione di probabilita 0 una funzione di densita appartiene alla famiglia esponenziale a k parametri se esitono le funzioni h,c,$w_j, t_j; j=1...k$ tali che\n",
        "\n",
        "$f(x|\\vec{\\theta})= h(x)c(\\theta_1...\\theta_n) exp(\\sum_{j=1}^k w_j(\\theta_j) t_j(n))$\n",
        "\n",
        "Nota: l'esempio visto nella $N(\\mu, \\sigma^2)$ none' esatamente in questa formula, ma puio essere riscritto in questo modo ridefinendi i parametri considerati. In ogni caso e' d=k=2"
      ],
      "metadata": {
        "id": "kibqvpE5q8F1"
      }
    },
    {
      "cell_type": "markdown",
      "source": [
        "# Campionameto da distribuzione normale\n",
        "\n"
      ],
      "metadata": {
        "id": "BJMCscz8q8KX"
      }
    },
    {
      "cell_type": "markdown",
      "source": [],
      "metadata": {
        "id": "OSdS3Hy0q8M8"
      }
    },
    {
      "cell_type": "markdown",
      "source": [],
      "metadata": {
        "id": "UpVmF4xfq8PR"
      }
    },
    {
      "cell_type": "markdown",
      "source": [],
      "metadata": {
        "id": "lKyCNttWq8R9"
      }
    },
    {
      "cell_type": "markdown",
      "source": [],
      "metadata": {
        "id": "3pNorxhSq8UD"
      }
    },
    {
      "cell_type": "markdown",
      "source": [],
      "metadata": {
        "id": "D2LpFKkHq8Wn"
      }
    },
    {
      "cell_type": "markdown",
      "source": [],
      "metadata": {
        "id": "vOYuGHk3q8Y7"
      }
    },
    {
      "cell_type": "markdown",
      "source": [],
      "metadata": {
        "id": "zyWNPZyJq8bj"
      }
    },
    {
      "cell_type": "markdown",
      "source": [],
      "metadata": {
        "id": "X7AfsSXeq8d8"
      }
    },
    {
      "cell_type": "markdown",
      "source": [],
      "metadata": {
        "id": "29-AwqwDq8gh"
      }
    },
    {
      "cell_type": "markdown",
      "source": [],
      "metadata": {
        "id": "EJmkX5tkq8iv"
      }
    },
    {
      "cell_type": "markdown",
      "source": [],
      "metadata": {
        "id": "2GAGr3XJq8nn"
      }
    },
    {
      "cell_type": "markdown",
      "source": [],
      "metadata": {
        "id": "9fJmAmmVq8qL"
      }
    },
    {
      "cell_type": "markdown",
      "source": [],
      "metadata": {
        "id": "XG_tmxqaq8sc"
      }
    },
    {
      "cell_type": "markdown",
      "source": [],
      "metadata": {
        "id": "VDy74Cywq8vF"
      }
    },
    {
      "cell_type": "markdown",
      "source": [],
      "metadata": {
        "id": "szYpliYSq8xq"
      }
    },
    {
      "cell_type": "markdown",
      "source": [],
      "metadata": {
        "id": "rioPrWELq80A"
      }
    },
    {
      "cell_type": "markdown",
      "source": [],
      "metadata": {
        "id": "6IvJb0Pqq82V"
      }
    },
    {
      "cell_type": "markdown",
      "source": [],
      "metadata": {
        "id": "N5xMi3MNq84-"
      }
    },
    {
      "cell_type": "markdown",
      "source": [],
      "metadata": {
        "id": "ks08Dsw1q87F"
      }
    },
    {
      "cell_type": "markdown",
      "source": [],
      "metadata": {
        "id": "OHpWqgaMq89j"
      }
    },
    {
      "cell_type": "markdown",
      "source": [],
      "metadata": {
        "id": "P2bru810q8__"
      }
    },
    {
      "cell_type": "markdown",
      "source": [],
      "metadata": {
        "id": "7Qn3AguCq9Cc"
      }
    },
    {
      "cell_type": "markdown",
      "source": [],
      "metadata": {
        "id": "xfdiHkaeq9Er"
      }
    },
    {
      "cell_type": "markdown",
      "source": [],
      "metadata": {
        "id": "XPEHRFofq9H9"
      }
    }
  ]
}