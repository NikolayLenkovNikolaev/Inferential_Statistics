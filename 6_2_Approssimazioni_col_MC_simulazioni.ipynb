{
  "nbformat": 4,
  "nbformat_minor": 0,
  "metadata": {
    "colab": {
      "provenance": [],
      "authorship_tag": "ABX9TyOPGkZ87EcrZMq5/ch7qCZS",
      "include_colab_link": true
    },
    "kernelspec": {
      "name": "python3",
      "display_name": "Python 3"
    },
    "language_info": {
      "name": "python"
    }
  },
  "cells": [
    {
      "cell_type": "markdown",
      "metadata": {
        "id": "view-in-github",
        "colab_type": "text"
      },
      "source": [
        "<a href=\"https://colab.research.google.com/github/NikolayLenkovNikolaev/Inferential_Statistics/blob/main/6_2_Approssimazioni_col_MC_simulazioni.ipynb\" target=\"_parent\"><img src=\"https://colab.research.google.com/assets/colab-badge.svg\" alt=\"Open In Colab\"/></a>"
      ]
    },
    {
      "cell_type": "markdown",
      "source": [
        "# A[[rpssimaziione Monte Carlo\n",
        "\n",
        "I risultato asintotici sono sicuramente molto utuli per approssimare le distribuzioni campionarie. Tuttavia,nei casi piu complessi, non sono sufficienti per determinare una distribuzione campionaria. Possiamo allora cercare di \"Simularla\"\n",
        "\n",
        "L'idea di fondo e' che quando disponiamo di un campine IID da una variabile aleatoria $X$, secondo la legge dedi grandi numeri\n",
        "\n",
        "$\\frac{1}{n} \\sum_{i=1}^n \\xrightarrow{P} E[X] $\n",
        "- $X_i$ - il campione puo essere generato casualmente da una distribuzine . Potrebbe trattari di un insieme di valori di una statistica generati casualmente.\n",
        "\n",
        "- $E[X]$ si puo trattare non banalmente della media di una popolazione ma anche dal valore stesso di una statistica o di una probabilita che la riguarda.\n",
        "\n",
        "Per quanto detto , e' essenziale sapere come si genera un numero casuale (e poi insieme di numeri casuali da una data distribuzione probabilistica)\n",
        "\n",
        "Ci sono essenzialmente due metodi (o algoritmi) di generalizazione di rivesione e quello di accetazzionerifiuto.\n",
        "\n",
        "## Algoritmo di Inversione\n",
        "\n",
        "Si basa su questo risultato fondamentale, che riguarda le distribuzioni cantinue.\n",
        "\n",
        "Teorema: Sia X una variabile aleatoria continua con funzione di ripartizione F . allora\n",
        "\n",
        "$$U=F(X) \\sin U(0,1)$$\n",
        "\n",
        "$$X=F^{-1}(U)$$\n",
        "where $U \\sim U(0,1)$\n",
        "\n",
        "Demo:\n",
        "\n",
        "$P(U \\leq u) = P[F(x) \\leq u] = P[X \\leq F^{-1}(u)] = F(F^{-1}(u))= u$\n",
        "\n",
        "NB: F e' sicuramente invertibile\n",
        "\n",
        "$=> f_U (u)=1 $ dove $0 < u < 1$ cioe $U \\sim(0,1)$\n",
        "\n",
        "Analogamente, ogni variabile continua $X$ pip essere otttenuta per trasfrmazione da una variabile uniforme $U$, ponendo $X=F^{-1}(U)$\n",
        "\n",
        "Pertanto l'algoritmo e' il seguente\n",
        "\n",
        "a. si genera un valore $U \\sim U(0,1)$\n",
        "\n",
        "b. si ottiene il valore $X=F^{-1}(U)$\n",
        "\n",
        "Esempio: come generare un numero casuale da:\n",
        "\n",
        "$$X \\sim f_X(x)= \\frac{2x}{21}$$\n",
        "- $2< x< 5$\n",
        "\n",
        "Dobbiamo prima determinare la funzione di ripartizione di $X$ e la sua inversa:\n",
        "\n",
        "$F(x) = \\int_2^x \\frac{2t}{21} dt = \\frac{2}{21} [\\frac{t^2}{2}]_2^x = \\frac{x^2-6}{21}$\n",
        "\n",
        "$F(x)= u => \\frac{x^2 - 6}{21} = u$\n",
        "\n",
        "$x^2 -4 =21u$\n",
        "\n",
        "$x^2=21u+6$\n",
        "\n",
        "$x=\\sqrt{21u+6}$\n",
        "\n",
        "NB:solo la soluzione positiva:\n",
        "\n",
        "a. generare $U$ da $U(0,1)$\n",
        "\n",
        "b. porre $X=\\sqrt{21U + 6}$\n",
        "\n",
        "Il metodo funzione anche quando $X$ non e' continuo - la funzione di ripartizione, in questo caso non e' invertibile , ma si puo usare l'inversa generalizzata gia vista coni quantili\n",
        "\n",
        "\n"
      ],
      "metadata": {
        "id": "j64KpNyIAojQ"
      }
    },
    {
      "cell_type": "markdown",
      "source": [
        "Esempio:\n",
        "\n",
        "SIa\n",
        "$\n",
        "\\begin{equation}\n",
        "  X \\sim p(x) =\n",
        "    \\begin{cases}\n",
        "      0.2 &  x=1\\\\\n",
        "      0.25 & x=5 \\\\\n",
        "      0.55 & x=6 \\\\\n",
        "      0 & altrove\n",
        "    \\end{cases}       \n",
        "\\end{equation}\n",
        "$\n",
        "\n",
        "Ossia $X$ assume solo i valori 1,5,6 e\n",
        "\n",
        "| x | p(x) | F(x) |\n",
        "|---|---|---|\n",
        "|1|0.2|0.2|\n",
        "|5|0.25|0.45|\n",
        "|6|0.55|1|\n",
        "||1||\n",
        "\n",
        "L'iodea e' quella di diveidere l'intervallo (0,1) in parti proporzionali rispetto alla prob. Ad ogni subintervallo corrisponde un valore.\n",
        "\n",
        "\n"
      ],
      "metadata": {
        "id": "ku0iVmiXAomA"
      }
    },
    {
      "cell_type": "markdown",
      "source": [
        "![image.png](data:image/png;base64,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)"
      ],
      "metadata": {
        "id": "j3fVbOb_AooO"
      }
    },
    {
      "cell_type": "markdown",
      "source": [
        "Considerato ora un valore $u$ in $(0,1)$ il valore di $X$ si ottiene individuando il sub.intervallo in cui cade $u$ . Ad esempio se $u=0.8 => x=6$\n",
        "\n",
        "cioe $6=F^{-1}(0.8)$\n",
        "\n",
        "Algoritmo:\n",
        "\n",
        "a. generare $U$ da $U(0,1)$\n",
        "\n",
        "b. Porre\n",
        "- $x=1$ se $0 \\leq U \\leq 0.2$\n",
        "- $x=5$ se $0.2 < U \\leq 0.45$\n",
        "- $x=6$ se $0.45 < U \\leq 1$\n",
        "\n",
        "ossia porre $X = F^{-1}(U)$\n",
        "\n",
        "Nota: L'algoritmo di inversione richiede sempre il calcolo di una funzione inversa, il che non e' sempre agevole.\n",
        "\n",
        "Talvolta si puo pensare di generare numeri da una distribuzioni altrui risultati noti debba probabilita (ad esempio, il legame tra l'esponenziale e la gamma). Se anche questo non e' possibile, si po ricorrere ad altri algortmi come quallo di accetazione rigiuto.\n",
        "\n",
        "\n"
      ],
      "metadata": {
        "id": "-QilNQhdAoqa"
      }
    },
    {
      "cell_type": "markdown",
      "source": [
        "Esempio- continua\n",
        "\n",
        "Dato un campione $X_1,X_2 ...X_n$ IID $\\sim X$ con\n",
        "\n",
        "$$X \\sum f_X (x)= \\frac{2x}{21} $$\n",
        "- $2 < x < 5$\n",
        "\n",
        "e la statistica $T = \\frac{1}{n} \\sum+_{i=1}^n \\sqrt[3]{x_i-2}$\n",
        "\n",
        "descrivere due algoritmi pere simulare\n",
        "- $E[T]$\n",
        "- $P(T < 0.6)$\n",
        "\n",
        "Algortmo per E(T):\n",
        "\n",
        "a. generare $u$ da $U(0,1)$\n",
        "b. porre $x=\\sqrt{21u+4}$\n",
        "c. ripetere a->b $n$  volte ottenendo $x_1..x_n$\n",
        "d. calcolare $t= \\frac{1}{n} \\sum_{i=1}^n \\sqrt[3]{x_i-2}$\n",
        "e. ripetere a-> d N volte ottenendo $t_1..t_N$\n",
        "f. calcolare $\\frac{1}{N} \\sum_{i=1}^N t_i$\n",
        "\n",
        "$$\\frac{1}{N} \\sum_{i=1}^N t_i \\xrightarrow{P} E(T) $$\n",
        "\n",
        "Algoritmo per P(T< 0.4)\n",
        "\n",
        "a. ...\n",
        "b. ....\n",
        "\n",
        "e. calcolare\n",
        "\n",
        "$\n",
        "\\begin{equation}\n",
        "  I_{[0 ; 0.4)(t)}  =\n",
        "    \\begin{cases}\n",
        "      1 & \\text{ se } 0 \\leq t < 0.4\\\\\n",
        "      0 & \\text{ se } t \\geq 0.4\n",
        "    \\end{cases}       \n",
        "\\end{equation}\n",
        "$\n",
        "\n",
        "f. ripeter a-> d N volte ottenendo $I_1, I_2...I_N$\n",
        "\n",
        "g. calcolare $\\frac{1}{N} \\sum_{i=1}^N I_j$\n",
        "\n",
        "$\\frac{1}{N} \\sum_{i=1}^N I_j \\xrightarrow{P} E(I ) = P(T < 0.4)$"
      ],
      "metadata": {
        "id": "CGjVMO-fAotA"
      }
    },
    {
      "cell_type": "markdown",
      "source": [
        "## Algoritmo di Accetazione/Rifiuto\n",
        "\n",
        "Spesso noto come \"Regection Sampling\"\n",
        "\n",
        "Supponiamo di voler generare casualmente un valore da $Y \\sim f_y$ ma di non poter applicare il classico metodo di inversione.\n",
        "\n",
        "Supponiamo tuttavia che $Y$ abbia supporto limitato (o porlomeno che possiamo trovare un intervallo limitato rilevante) e che , in questo supporto la densita sia limitata  ossia che riusciamo a trovare una costante 4C4 tale che\n",
        "\n",
        "$max_{y \\in S} f_Y (y) \\leq c$\n",
        "\n",
        "si ottine una situazione come quaella in figura:\n",
        "\n"
      ],
      "metadata": {
        "id": "WRBaDRg_AovN"
      }
    },
    {
      "cell_type": "markdown",
      "source": [
        "![image.png](data:image/png;base64,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)"
      ],
      "metadata": {
        "id": "KHBcmO7tAoxK"
      }
    },
    {
      "cell_type": "markdown",
      "source": [
        "Siumulare un valore da $Y$ vuol dire generare un valore nel suo supporto in modo tale che sia piu probabile trovare un valore dove la densita e' piu alta (considerando che essa non puo andare oltre $c$)\n",
        "\n",
        "Una semplice idea e' dunque:\n",
        "- generare un valore uniformemente nel supporto: V\n",
        "- accetare il valore Vsulla base di un secondo valore D genrato uniformemente tra 0 e c\n",
        "\n",
        "D- e; una sorta di \"densita potenziale\" associata a V: se questa densita e' minore di quella associata  del modello $f_y$ allora V puo essere accetato, altrimenti va rifiutato e l'estrazione va rifiutata\n",
        "\n",
        "Piu nello specifico supponendo per semplicate che $Y$ abbia supporto in [0,1]\n",
        "a. si geerano due valori U,V da $U(0,1)$\n",
        "\n",
        "b.si accetta il valore $V$ , ponendo $Y=V$ se $cU \\leq f_Y(V)$ oppure $ U\\leq \\frac{1}{c} f_Y(V)$\n",
        "\n",
        "c. se il valore non e' accetato si ripete fino a quando la doncuzione sopra non e' accettata\n",
        "\n",
        "Qual e' la probabilita che il valore venga accettato\n",
        "\n",
        "$P(cU \\leq g_Y(V)) = P(U \\leq \\frac{1}{c} f_Y(V))= \\int_0^1 \\int_0^{\\frac{1}{c} f_Y (N)} du dv$\n",
        "\n",
        "$$ \\int_0^1 \\frac{1}{c} f_Y (v) dv = \\frac{1}{c} \\int_0^1 f_Y(v) dv = \\frac{1}{c }$\n",
        "\n",
        "Pertanto piu alto e' $c$ piu alto sara il numero di valori $V$ generati e poi scartati. Per rendere l'algoritmo il piu velora possibili vonviene allora porre $c= max{y \\in S} f_Y (y)$\n",
        "\n",
        "In realta l'algortmo potrebbe ancora di piu essere velocizzato se il valore $V$ condidato fosse gia generato da una disribuzione che \"assomiglia\" a quella di Y\n",
        "\n",
        "V- dovrebbe essere dunque generato da una distribuzione il cui supporto cantega o coincida con il supporto di $Y$ . Ad ogni valore generato si associera una \"densita\" potenziale calcolata sulla base della densita di $V$ e, in particolare data da un multiplo M di questa densita:\n",
        "- valore condidato - V\n",
        "- densita potenziale: $U M f_V(V)$ dove $U \\sim (0,1)$\n",
        "  - accetazione avvera in base alla condizone\n",
        "\n",
        "  $$UM f_V(V) \\leq f_Y(V)$$ oppure\n",
        "\n",
        "  $$U \\leq \\frac{1}{M} \\frac{f_Y(V)}{f_V(V)}$$\n",
        "\n",
        "  - $f_V$- quella che prima era la costante- $c$\n",
        "\n",
        "  "
      ],
      "metadata": {
        "id": "thZtlzcgAozR"
      }
    },
    {
      "cell_type": "markdown",
      "source": [
        "L'algoritmo puo dunque essere definito cosi:\n",
        "- date due densita $f_Y $ e $f_V$ con lo stesso supporto e tali che $1 < M < \\infty$ con\n",
        "$$M = sup_{y} \\frac{f_y (y)}{f_V (y)}$$\n",
        "\n",
        "a. si genera un valore V da $f_V$\n",
        "\n",
        "b. si genera un valore U da U(0,1) e si accetta il valore V ponendo Y=V se\n",
        "\n",
        "$$U \\leq \\frac{1}{M} \\frac{f_Y (V)}{f_V (V)}$$\n",
        "\n",
        "c. se il valore non e' accettato si ripete fino a quando la condizione sopra non e' verificata\n",
        "\n"
      ],
      "metadata": {
        "id": "JHd1k9KxAo1k"
      }
    },
    {
      "cell_type": "markdown",
      "source": [
        "Nota: oni densita $f_V$ puo esssere usata a questo scopo , perche il supporto sia piu ampio della distrib.di simulare (ad esempio, non si puo usare una distribuzione con code leggere per simularne una con code penenti)- al limite, $f_V$ puo anceh non essere una densita propria (cioe che non integra ad 1) . DIventa dunque un prblema usare l'algoritmo per simulare da distribuzione con code penenti: si possono allora usare algoritmi alternativi.\n",
        "\n",
        "\n",
        "Si tratta degli algortmi della clase MCMC che creano una sequenza (catena) in cui lo stato attuale, oltre che della generalizone corrente, dipende dallo stato precedente in modo che la tena \"apprenda\" dal pasato e cenvega pu rapidamente.\n",
        "\n",
        "Ta;o algoritmi (nello specifico un suo caso particolare il Gibs Sample) sono molto usat nell'infgerenza Bayesiana.\n",
        "\n",
        "\n"
      ],
      "metadata": {
        "id": "h7GBAPN2Ao32"
      }
    },
    {
      "cell_type": "markdown",
      "source": [],
      "metadata": {
        "id": "pVKKvsWNAo5-"
      }
    },
    {
      "cell_type": "markdown",
      "source": [],
      "metadata": {
        "id": "tgR-GQ82Ao8N"
      }
    },
    {
      "cell_type": "markdown",
      "source": [],
      "metadata": {
        "id": "Nl8CMcqiAo-a"
      }
    },
    {
      "cell_type": "markdown",
      "source": [],
      "metadata": {
        "id": "6hGt8KJIApAW"
      }
    },
    {
      "cell_type": "markdown",
      "source": [],
      "metadata": {
        "id": "2Dd7xGXHApCu"
      }
    }
  ]
}