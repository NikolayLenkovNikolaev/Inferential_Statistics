{
  "nbformat": 4,
  "nbformat_minor": 0,
  "metadata": {
    "colab": {
      "provenance": [],
      "authorship_tag": "ABX9TyOjLWhm8Y0uUnI1GiKCl+2c",
      "include_colab_link": true
    },
    "kernelspec": {
      "name": "python3",
      "display_name": "Python 3"
    },
    "language_info": {
      "name": "python"
    }
  },
  "cells": [
    {
      "cell_type": "markdown",
      "metadata": {
        "id": "view-in-github",
        "colab_type": "text"
      },
      "source": [
        "<a href=\"https://colab.research.google.com/github/NikolayLenkovNikolaev/Inferential_Statistics/blob/main/6_1_Richiami_sulle_convergenze_di_successioni_di_variabile_aaleatorie.ipynb\" target=\"_parent\"><img src=\"https://colab.research.google.com/assets/colab-badge.svg\" alt=\"Open In Colab\"/></a>"
      ]
    },
    {
      "cell_type": "markdown",
      "source": [
        "Tutte le statistiche piu \"ragionevoli\" dipendono del numero di elementi del campione - n detto anche AMPIEZZA campionaria\n",
        "\n",
        "Per poter appsossimare il camportamento delle statistiche campionarie, e' utile sapere cosa succede quando n-tende all'infinito (o peleremo quando si puo ritenere sufficiente \"grande\")\n",
        "\n",
        "1. Convergenza in Probabilita\n",
        "\n",
        "Def: si dice che la successione di variabili aleatorie $X)1,X)2...$ converge in probabilita alla variabile aleatoria $x$ se\n",
        "\n",
        "$$lim_{n-> ∞} P(|X_n - X| \\geq \\epsilon) = 0$$\n",
        "\n",
        "oppure\n",
        "\n",
        "$$lim_{n-> \\infty} P(|X_n - X| < \\epsilon) = 1$$\n",
        "\n",
        "per ogni $\\epsilon > 0 $ Scriviamo: $X_n \\xrightarrow{P}C$\n",
        "\n",
        "NB Non necessariamente le variabili della successione sono un campione , anche se spesso lo saranno, spesso , inoltre si avra una suiceessione di statistiche\n"
      ],
      "metadata": {
        "id": "oDhqI4FaqgEk"
      }
    },
    {
      "cell_type": "markdown",
      "source": [
        "Example:\n",
        "\n",
        "Si $U \\sim (0,1)$ e sia:\n",
        "\n",
        "$\n",
        "\\begin{equation}\n",
        "  X_n =\n",
        "    \\begin{cases}\n",
        "      2 & \\text{if } U \\leq \\frac{8}{10} - \\frac{1}{n} \\\\\n",
        "      5 & \\text{if } U \\geq \\frac{8}{10} - \\frac{1}{n}\\\\\n",
        "    \\end{cases}       \n",
        "\\end{equation}\n",
        "$\n",
        "\n",
        "$\n",
        "\\begin{equation}\n",
        "  X_n =\n",
        "    \\begin{cases}\n",
        "      2 & \\text{if } U \\leq \\frac{8}{10} \\\\\n",
        "      5 & \\text{if } U \\geq \\frac{8}{10} \\\\\n",
        "    \\end{cases}       \n",
        "\\end{equation}\n",
        "$\n",
        "\n",
        "Mostriamo che: $X_n \\xrightarrow{P}X$\n",
        "\n",
        "Notiamo che sia la successione $X_n$ sia la variabile $X$ sono discrete e possono valere $2$ and $5$. Inoltre i valori da esse assunti dipendono da $U$\n",
        "\n",
        "|     |0 ---- 8/10-1/n|8/10-1/n---8/10|8/10-1|\n",
        "|---  |---            |---            | ---  |\n",
        "|$X_n$|2              |5              |5     |\n",
        "|$X$  |2              |2              |5     |\n",
        "\n",
        "Notiamo che l'unica possibilia che sia una differenza non nulla tra $X_n$ and $X$  e' che $U$ si trovi nell intervallo:\n",
        "\n",
        "$$(\\frac{8}{10} - \\frac{1}{n} ; \\frac{8}{10}]$$\n",
        "\n",
        "Dunque:\n",
        "\n",
        "$P(|X_n - X| \\geq \\epsilon) = P(\\frac{8}{10} - \\frac{1}{n} < U \\leq \\frac{8}{10})$\n",
        "\n",
        "$lim_{n->\\infty} P(|X_n - X|\\geq \\epsilon) = lim_{n-> \\infty} = \\frac{1}{n} = 0$\n",
        "\n",
        "$\\text{all } \\epsilon > 0$\n",
        "\n",
        "cioe $X_n \\xrightarrow{P}X$"
      ],
      "metadata": {
        "id": "_t7XiU4yqgLe"
      }
    },
    {
      "cell_type": "markdown",
      "source": [
        "2. COnvergenza quasi certa - con probabilita 1\n",
        "\n",
        "DEF: si dice che la succesione di variabili aleatorie $X_1, X_2...$ converge quasi certamente (P=1) alle variabnile X se:\n",
        "\n",
        "$$P (lim_{n-> \\infty} X_n = X)= 1$$\n",
        "\n",
        "oppure\n",
        "\n",
        "$$P(lim_{n->\\infty} |X_n - X| < \\epsilon)= 1$$\n",
        "\n",
        "per ogni $|epsilon > 0$ Scriviamo :$X_n \\xrightarrow{qc}X$\n",
        "\n",
        "Notiamo che si tratta di una sorta di convergenza puntuale: la convergenza di $X_n$ a $X$ avvine per ogni punjto $s$ dello spazio campionario, ad accezione di quellio a cui e' allegato una probabilita nulla:\n",
        "\n",
        "$$X_n(s) -> X(s); \\text{   Vs tc P(1)>0}$$\n",
        "\n",
        "Per capire come distinguere la convergenza quasi certa da quella in probabilita , occore aal definizione stessa di limite che in un caso riguarda la succesione di funzioni (per ogni ) punto dello spazio campionario, nell; altro la succesione delle funzioni di probabilita.\n",
        "\n",
        "$lim_{n->\\infty} f_n = f$ se esiuste $N= N(\\epsilon)$ tale che $|f_n - f| <> \\epsilon$ per ogni $n > N(\\epsilon)$\n",
        "\n",
        "$X_n \\xrightarrow{qc}X$ se esiste $N=N(\\epsilon)$ tale che $P(|X_n - X|< \\epsilon)=1$ per ogni $n> N(\\epsilon)$\n",
        "\n",
        "$X_n \\xrightarrow{P}X$ se esiste $N=N(\\epsilon, c)$ tale che $|P(|X_n - X|< \\epsilon)| < c$ per ogni $n > N(\\epsilon, c)$\n",
        "\n",
        "Si intuisce che la converggenza quasi certa e' una forma piu forte di convergenza rispetto a quella in probabilita. Infatti e' possibili dimostrare in modo rigoroso che:\n",
        "\n",
        "$X_n \\xrightarrow{qc}X => X_n \\xrightarrow{P}X$\n",
        "\n",
        "anche se non e' vero l'implicazone contraria\n",
        "\n"
      ],
      "metadata": {
        "id": "gIadHLEwqgNx"
      }
    },
    {
      "cell_type": "markdown",
      "source": [
        "3. COnvergenza in Distribuzione o in LEGGE\n",
        "\n",
        "E una forma piu debole di convergenza, perche riguard solo  la distribuzione delle variabili aleatorie (ricordiam che due variabili aleatorie con la stessa distribuzione si \"comportano\" allo stesso modeo , mo non sono necessariamente sempre uguali tra loro)\n",
        "\n",
        "DEF: si dice che la successione di variabili aleatorie $X_1, X_2 ... $ converge in distribuzione ala variabilie aleatorie X se\n",
        "\n",
        "$lim_{n-> \\infty} P(X_m \\leq x) = P(X \\leq x)$\n",
        "\n",
        "per ogni $x \\in R $ tale che $P(X=x)=0$\n",
        "\n",
        "Scriviamo:  $X_n \\xrightarrow{Z}X$\n",
        "\n",
        "Si puo anche riscrivere la relazione usando la funzione di ripartizione:\n",
        "\n",
        "$$ lim_{n->\\infty} F_{X_n} (x) = F_x (x)$$\n",
        "\n",
        "per ogni x dove $F_X (x)$ e' continua\n",
        "\n"
      ],
      "metadata": {
        "id": "138A5dKfqgQP"
      }
    },
    {
      "cell_type": "markdown",
      "source": [
        "Esempio:\n",
        "\n",
        "consideriamo un campione $X_1...X_n$ IID $\\sim U(0,1)$\n",
        "\n",
        "e la sequenza\n",
        "\n",
        "$Y_n = n(1-X_{(n)}); n=1,2...$\n",
        "\n",
        "Mostriamo che converge in distribuzione a $Y \\sim exp(1)$\n",
        "\n",
        "Sappiamo che:\n",
        "$P(X_{(n)} \\leq x)= x^n$\n",
        "\n",
        "$P(Y_n \\leq y) = P(n(1-X_{(n)}) \\leq y)$\n",
        "\n",
        "$P(X_{(n)} \\geq 1-\\frac{y}{n})$\n",
        "\n",
        "$1-P(X_n \\leq (1-\\frac{y}{n}))$\n",
        "\n",
        "$1-(1-\\frac{y}{n})^n$\n",
        "\n",
        "$lim_{n->\\infty} P(Y_n \\leq y) = 1-e^{-y}$\n",
        "\n",
        "e , se $Y \\sim exp(1); P(Y \\leq y)= 1- e^{-y}$\n",
        "\n",
        "QUindi $Y_n \\xrightarrow{Z}Y$"
      ],
      "metadata": {
        "id": "NbCLZ80AqgSr"
      }
    },
    {
      "cell_type": "markdown",
      "source": [
        "Esempio 2:\n",
        "\n",
        "Sia $X_n \\sim Bernoulli (p=1-\\frac{1}{2^n}); n=1,2...$\n",
        "\n",
        "Mostrtiamo a cosa converge in distribuzione la seequenza\n",
        "\n",
        "Sappiamo che:\n",
        "\n",
        "$P(X_n = 0) = 1-(1-\\frac{1}{2n})= \\frac{1}{2n}$\n",
        "\n",
        "$P(X_n=1) = 1-\\frac{1}{2n}$\n",
        "\n",
        "Pertanto\n",
        "\n",
        "$\n",
        "\\begin{equation}\n",
        "  P(X_n \\leq x)=\n",
        "    \\begin{cases}\n",
        "      0            & x < 0\\\\\n",
        "      \\frac{1}{2n} & 0 \\leq x < 1\\\\\n",
        "      1            & x \\geq 1\n",
        "    \\end{cases}       \n",
        "\\end{equation}\n",
        "$\n",
        "\n",
        "e\n",
        "\n",
        "$\n",
        "\\begin{equation}\n",
        "  lim_{n-> \\infty} P(X_n \\leq x) =\n",
        "    \\begin{cases}\n",
        "      0            & x < 1\\\\\n",
        "      1            & x \\geq 1\n",
        "    \\end{cases}       \n",
        "\\end{equation}\n",
        "$\n",
        "\n",
        "Graficamente:"
      ],
      "metadata": {
        "id": "0_JuB5gmqgVB"
      }
    },
    {
      "cell_type": "markdown",
      "source": [
        "![image.png](data:image/png;base64,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)"
      ],
      "metadata": {
        "id": "VIfYZyLjqgXV"
      }
    },
    {
      "cell_type": "markdown",
      "source": [
        "NB: Notiamo che , poiche la sequenza $X_n$ puo assumere solo i valori 0 and 1 X e sempre 1, l'unica possibilita che differiscono e' quando $X_n= 0$\n",
        "\n",
        "$P(|X_n-X|) \\geq \\epsilon = P(X_n = 0)= \\frac{1}{2n}$\n",
        "\n",
        "and\n",
        "\n",
        "$lim_{n-> \\infty} P(|X_n - X| \\geq \\epsilon)= 0; \\text{    all }\\epsilon > 0$\n",
        "\n",
        "dunque si ha anche $$X_n \\xrightarrow{P}X$$\n",
        "\n",
        "Quando la convergenza e' ad uno costante , infatti le due tipologie sono eiquivalent\n",
        "\n",
        "$$X_n \\xrightarrow{P}Xc <==> $X_n \\xrightarrow{Z}c$$\n",
        "- c- constante\n",
        "\n",
        "Ma in generale:\n",
        "\n",
        "$X_n \\xrightarrow{P}X => X_n \\xrightarrow{Z}X$\n",
        "\n",
        "X- variabile aleatoria\n",
        "\n",
        "NB: qui non vale limplicazione continua\n",
        "\n"
      ],
      "metadata": {
        "id": "vUiWuFb3qgZa"
      }
    },
    {
      "cell_type": "markdown",
      "source": [
        "Considerazioni:\n",
        "\n",
        "A: condizioni suffficiente per la convegenza in probabilita A caostanti\n",
        "\n",
        "Nella valutazione della statistiche e' spesso importante stabilire la convergenza ad una costante. Perr quanto detto, si puo farlo stabilend la convergenza in distribuzione. Tuttavia esistono anche alcune condizioni sufficienti\n",
        "\n",
        "\n",
        "$\n",
        "\\begin{equation}\n",
        "X_n \\xrightarrow{P}X\n",
        " \\begin{cases}\n",
        "      lim_{n-> \\infty} E[X_n] = \\theta  & \\\\\n",
        "      lim_{n->\\infty} Var(X_n)= 0 &\n",
        "\\end{cases}      \n",
        "\\end{equation}\n",
        "$"
      ],
      "metadata": {
        "id": "MQipJGp_qgbq"
      }
    },
    {
      "cell_type": "markdown",
      "source": [
        "Esempio: consideremo la varianza campinaria poiche\n",
        "\n",
        "$E[S_n^2]= \\sigma^2$\n",
        "\n",
        "$Var(X_n^2)= \\frac{1}{n}(\\mu_4 -\\frac{n-3}{n-1} \\sigma^4)=> 0$\n",
        "\n",
        "si ha\n",
        "\n",
        "$S_n^2 \\xrightarrow{P} \\sigma^2$\n",
        "\n",
        "\n"
      ],
      "metadata": {
        "id": "3LwKFPspqgd1"
      }
    },
    {
      "cell_type": "markdown",
      "source": [
        "B: COnvergenza in probabilita di funzioni di succesioni\n",
        "\n",
        "Talvolta e' necessario applicare una funzione sugli elementi di una successione. Se la funzione e' continua, la convergenza e' preservata\n",
        "\n",
        "Teorema:\n",
        "\n",
        "Sia dato una successione $X_1,X_2...$  con $X_n \\xrightarrow{P}X$\n",
        "\n",
        "s sia $h(.)$ una funzione continua - allora $h(X_n) \\xrightarrow{P} h(X)$\n",
        "\n",
        "Esempio:\n",
        "\n",
        "Poiche $S_n^2 \\xrightarrow{P} \\sigma62$ si avra anche\n",
        "\n",
        "$S_n = \\sqrt{s_n^2}  \\xrightarrow{P} \\sqrt{\\sigma^2}= \\sigma$\n",
        "\n",
        "ossia $S_n  \\xrightarrow{p} \\sigma$ deviazione standard\n",
        "\n"
      ],
      "metadata": {
        "id": "2fmfgEw7qggZ"
      }
    },
    {
      "cell_type": "markdown",
      "source": [
        "C: collegamento tra diverse forme di convergenza\n",
        "\n",
        "Talvolta e' necessario mettere assiame sequenze che convergono in modo diverso..\n",
        "\n",
        "Fondamentale e' il Teorema di Slutsky\n",
        "\n",
        "Teorema:\n",
        "\n",
        "Siano data due sequenze $X_1, X_2....$ and $Y_1,Y_2...$ con\n",
        "\n",
        "$X_n \\xrightarrow{Z}X$ and $Y_n \\xrightarrow{P}X$\n",
        "\n",
        "Allora:\n",
        "\n",
        "- $X_n . Y_x  \\xrightarrow{Z}aX$\n",
        "\n",
        "$X_n +Y_n \\xrightarrow{Z} X+a$"
      ],
      "metadata": {
        "id": "_PbsHinJ5Mab"
      }
    },
    {
      "cell_type": "markdown",
      "source": [
        "ALCUNI RISULTATI ASINTOTICI SULLE STATISTICHE\n",
        "\n",
        "COme anticipato nel campionamneto si possono ottenere alcuni risultati di convergenza sulle statistiche. Questi risultati sono spesso detti asintotici e riguardano principalmente la media campionaria.\n",
        "\n",
        "1. Legge DEBOLE dei grandi numeri\n",
        "\n",
        "Teorema: Sia $X_1,X_2...X_n$ un campione IID estratto da una popolazione X con\n",
        "\n",
        "$E[X]=\\mu; Var[X]\\sigma^2 < \\infty$\n",
        "\n",
        "SIa inoltre:\n",
        "\n",
        "$\\bar{X_n} = \\frac{1}{n} \\sum_{i=1}^n X_i$\n",
        "\n",
        "NB: talvolta si mette un sottosrtio \"n\" per evidenziare la dipendenza da n\n",
        "\n",
        "la media camponaria\n",
        "\n",
        "$lim_{n-> \\infty} P(|\\bar{X_n} -\\mu| < \\epsilon)=1$\n",
        "\n",
        "ossia $\\bar{X_n} \\xrightarrow{P}\\mu$\n",
        "\n"
      ],
      "metadata": {
        "id": "9itIdwjR5Mc0"
      }
    },
    {
      "cell_type": "markdown",
      "source": [
        "2. Legge fote dei grandi numeri\n",
        "\n",
        "stessa iptesi\n",
        "\n",
        "Allora:\n",
        "\n",
        "$P(lim_{n->\\infty} |\\bar{X_n - \\mu}| < \\epsilon)=1$\n",
        "\n",
        "per ogni $\\epsilon > 0$ ossia $b\\bar{X_n} \\xrightarrow{qc}\\mu$\n",
        "\n",
        "Nota: le ipotesi sono le stese perche partiamo sempre da un campione IID. Tuttavia la leegge debole e' tale non solo perche il risultato e' meno forte. (conv in probabilita e non q.c) ma anche perche si potrebbe porre ipotesi piu debole : non serve, ad esempio che gli elementi della sequenza siano identicamente disttribuiti e sotto certe condizioni, e' sufficiente che solo la media sia finita\n",
        "\n",
        "\n"
      ],
      "metadata": {
        "id": "Gl1FRCE05MfV"
      }
    },
    {
      "cell_type": "markdown",
      "source": [
        "3 Teorema centrale del limite\n",
        "\n",
        "Teorema: Sia $X_1...X_n$ un campioone IID estratto da una popolazione X con\n",
        "\n",
        "$E[X]=\\mu; Var[X]=\\sigma^2 < \\infty$\n",
        "\n",
        "Sia inoltre $\\bar{X_n}$ la media campionaria e\n",
        "\n",
        "$Z_n = \\frac{\\bar{X_n}-\\mu}{\\sigma/\\sqrt{n}}$\n",
        "\n",
        "allora\n",
        "\n",
        "$lim_{n->\\infty} P(Z_n \\leq x) = \\int_{-\\infty}^{\\infty} \\frac{1}{\\sqrt{2\\pi} e^{\\frac{-y^2}{2}}}dy = \\Phi(x)$\n",
        "\n",
        "ossia\n",
        "\n",
        "$Z_n \\xrightarrow{Z}Z \\sim N(0,1)$\n",
        "\n",
        "Nota : anche in questo caso alcune condizioni posono essere piu deboli\n",
        "\n",
        "Nota: una vesione spesso utile del TCL si puo ottenere appliando il teorema di Slutsky\n",
        "\n",
        "Poiche:\n",
        "\n",
        "$S_n^2 \\xrightarrow{P}\\sigma^2$\n",
        "\n",
        "$\\frac{\\sigma}{S_n} \\xrightarrow{P} \\frac{\\sigma}{\\sigma}=1 $ funz continua\n",
        "\n",
        "$Z_n = \\frac{\\bar{X}-\\mu}{\\sigma/\\sqrt{n}} \\xrightarrow{Z}Z \\sim N(0,1)$\n",
        "\n",
        "Applicando il teorema si ha:\n",
        "\n",
        "$\\frac{\\bar{X} -\\mu}{S_n/\\sqrt{n}} = \\frac{\\bar{X}-\\mu}{\\sigma/\\sqrt{n}}\\frac{\\sigma}{S_n}  \\xrightarrow{Z} Z.1 = Z \\sim N(0,1)$\n",
        "\n",
        "Cioe il rapporto converga anche se la vera varianza e ' sostituita dalla statistica corrsipondente\n",
        "\n"
      ],
      "metadata": {
        "id": "TFaup3E65Mhp"
      }
    },
    {
      "cell_type": "markdown",
      "source": [
        "4. Metodo Delta\n",
        "\n",
        "In qualche modi si tratta di una generalizzazione del TLC poiche serve ad approssimare la distribuzione difunzioni di successioni assintoticamente Normali (come quella originata dalla media campionaria)\n",
        "\n",
        "Teorema:\n",
        "\n",
        "Sia $Y_n$ una sucessione di variabili aleatorei tai che\n",
        "\n",
        "$$\\frac{Y_n - \\theta}{\\sigma/\\sqrt{n}} \\xrightarrow{Z} N(0,1)$$\n",
        "\n",
        "Sia inoltre g una funzione tale che , per un dato valore di $\\theta$\n",
        "\n",
        "$g^` (\\theta) = \\frac{d}{dx} g(x)|_{x=\\theta}$\n",
        "- essite ed e' diverso da 0\n",
        "\n",
        "Allora:\n",
        "\n",
        "$$\\frac{g(Y_n) - g(\\theta)}{|g^` (\\theta)|\\frac{\\sigma}{\\sqrt{n}}}  \\xrightarrow{Z} N(0,1)$$ per $n-> \\infty$\n",
        "\n",
        "Si tratta di una applicazioe, alivello probabilistico, degli sviluppi in seri di Teilor"
      ],
      "metadata": {
        "id": "5h2Hdyib5MkH"
      }
    },
    {
      "cell_type": "markdown",
      "source": [
        "Esempio:\n",
        "\n",
        "consideriamo una popolazione X con $E[X] = \\mu \\ne 0; Var[X]= \\sigma^2 < \\infty$\n",
        "\n",
        "Supponiamo di voler approssimare la distribuzione di $\\frac{1}{\\bar{X}}$\n",
        "\n",
        "Sappiamo che $\\bar{X}$ e' tale che\n",
        "\n",
        "$$\\frac{\\bar{X} -\\mu}{\\sigma/\\sqrt{n}} \\xrightarrow{Z} N(0,1)$$\n",
        "\n",
        "Inoltre\n",
        "\n",
        "$g(\\mu) = \\frac{1}{\\mu}$ t.c $g`(\\mu)= \\frac{-1}{\\mu^2}$\n",
        "\n",
        "Da cui\n",
        "\n",
        "$\\frac{\\frac{1}{\\bar{X}} - \\frac{1}{\\mu}}{\\frac{1}{\\mu^2} \\frac{\\sigma}{\\sqrt{n}}}  \\xrightarrow{Z} N(0,1)$\n",
        "\n",
        "ossia\n",
        "\n",
        "$\\frac{1}{\\bar{X}} \\approx N(\\frac{1}{\\mu}; \\frac{1}{\\mu^4} \\frac{\\sigma^2}{n})$\n",
        "\n",
        "Notiamo che la Varianza asintotica dipende sia da $\\mu$ che da $\\sigma^2$. Sappiamo tuttavia che:\n",
        "\n",
        "$$ \\bar{X} \\xrightarrow{P} \\mu => \\frac{1}{\\bar{X^2}} \\xrightarrow{P} \\frac{1}\\mu^2{}$$\n",
        "\n",
        "\n",
        "$$S^2 \\xrightarrow{P} \\sigma^2 => S \\xrightarrow{P} \\sigma   $$\n",
        "\n",
        "e dunque , appicando i teorema di Slutsky\n",
        "\n",
        "$\\frac{\\frac{1}{\\bar{X}} - \\frac{1}{\\mu}}{\\frac{1}{\\\\bar{X^2}} \\frac{S}{\\sqrt{n}}}  \\xrightarrow{Z} N(0,1)$\n",
        "\n",
        "Nota: ci sono due estresion del medtodo Delta la prima si ha quando $g` (\\theta)= 0$ la seconda e' nel caso multi..."
      ],
      "metadata": {
        "id": "miX9VME65MmX"
      }
    },
    {
      "cell_type": "markdown",
      "source": [],
      "metadata": {
        "id": "0zYplDWS5Mot"
      }
    },
    {
      "cell_type": "markdown",
      "source": [],
      "metadata": {
        "id": "-N_ZVZiI5Mq1"
      }
    },
    {
      "cell_type": "markdown",
      "source": [],
      "metadata": {
        "id": "LSNJxQbR5Ms7"
      }
    },
    {
      "cell_type": "markdown",
      "source": [],
      "metadata": {
        "id": "qH2wABt35MvU"
      }
    },
    {
      "cell_type": "markdown",
      "source": [],
      "metadata": {
        "id": "Rw8f3xTv5Mxg"
      }
    },
    {
      "cell_type": "markdown",
      "source": [],
      "metadata": {
        "id": "e2LrMfcD5M0Z"
      }
    },
    {
      "cell_type": "markdown",
      "source": [],
      "metadata": {
        "id": "UITX-BqE5M28"
      }
    },
    {
      "cell_type": "markdown",
      "source": [],
      "metadata": {
        "id": "WT1BIhea5M6R"
      }
    }
  ]
}