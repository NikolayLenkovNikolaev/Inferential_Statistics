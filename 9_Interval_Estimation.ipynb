{
  "nbformat": 4,
  "nbformat_minor": 0,
  "metadata": {
    "colab": {
      "provenance": [],
      "authorship_tag": "ABX9TyPz/NfrDFYEf+OYv7FmGKfN",
      "include_colab_link": true
    },
    "kernelspec": {
      "name": "python3",
      "display_name": "Python 3"
    },
    "language_info": {
      "name": "python"
    }
  },
  "cells": [
    {
      "cell_type": "markdown",
      "metadata": {
        "id": "view-in-github",
        "colab_type": "text"
      },
      "source": [
        "<a href=\"https://colab.research.google.com/github/NikolayLenkovNikolaev/Inferential_Statistics/blob/main/9_Interval_Estimation.ipynb\" target=\"_parent\"><img src=\"https://colab.research.google.com/assets/colab-badge.svg\" alt=\"Open In Colab\"/></a>"
      ]
    },
    {
      "cell_type": "markdown",
      "source": [
        "## 9.1 Introduction\n",
        "\n",
        "9,1,1, An interval estimate of a real-valued $\\theta$ is any pair of functions, $L(x_1...x_n)$ and $U(x_1...x_n)$ of a sample that a satisfy $L(x) =< U(x)$ for all $x \\\\mathcal{X}$. If $X+x$ is observed, the inference $L(x) =< \\thata =< U(x)$ is made. The random interval $[L(X), U(X)]$ is called an interval estimator.\n",
        "\n",
        "ex: 9.1.2. Interval estimator: for a sample $X_1, X_2, X_3, X_4$ from a $N(\\mu, 1)$ , and interval estimator of $\\mu$ is $[\\bar{X}- 1. \\bar{X}+1]$. This means that we will assert that $\\mu$ is in this interval.\n",
        "\n",
        "\n",
        "ex: 9.1.3.\n",
        "\n",
        "9.1.4. For an interval estimator $[L(X), U(X)]$ of a paramter $\\theta$ , the coverage probability of $[L(X), U(X)]$ is the probability that the random interval $[L(X), U(X)]$ covers the true parameter, $\\theta$. In symbols, it is denoted by either $P_{\\theta}(\\theta \\in [L(X), U(X)])$ or $P_{\\theta}(\\theta \\in [L(X), U(X)]|\\theta)$\n",
        "\n",
        "9.1.5. For an interval estimator $[L(X), U(X)]$ of a parameter $\\theta$, the confidence coefficient of $[L(X), U(X)]$ is the infimum of the coverage probabilities, $inf_{\\theta} P_{\\theta}(\\theta \\in [L(X), U(X)])$\n",
        "\n",
        "ex: 9.1.6. Scale uniform interval estimator\n",
        "\n",
        "\n"
      ],
      "metadata": {
        "id": "FqLS8562Pz5F"
      }
    },
    {
      "cell_type": "markdown",
      "source": [],
      "metadata": {
        "id": "ByQpLppnPz7g"
      }
    },
    {
      "cell_type": "markdown",
      "source": [
        "## 9.2. Methods of Finding Interval Estimatorssss\n",
        "\n",
        "### 9.2.1. Inverting a Test Statistic\n",
        "\n",
        "ex: 9.2.1. Inverting a normal test\n",
        "\n",
        "Theorem: 9.2.2. For each $\\theta_0 \\in \\Theta$ lety $A(\\theta_0)$ be thge acceptance region of a level $\\alpha$ test of $H_0: \\theta = \\theta_0$. For each $x \\in \\mathcal{X}$ define a set $C(x)$ in the parameter space by\n",
        "\n",
        "$$C(x)= \\{ \\theta_0 : x \\in A(\\theta_0) \\}$$\n",
        "\n",
        "Then the random set $C(X)$ is a $1-\\alpha$ confidence set. Conversely, let $C(X)$ be a $1-\\alpha$ confidence set. FOr any $\\theta_0 \\in \\Theta$ define\n",
        "\n",
        "$$A(\\theta_0)= \\{ x:\\theta_0 \\in C(x) \\}$$\n",
        "\n",
        "Then $A(\\theta_0)$ is the acceptance region of a level $\\alpha$ test of $H_0: \\theta=\\theta_0$\n",
        "\n",
        "Proof:\n",
        "\n",
        "ex: 9.2.3. Inverting an LRT\n",
        "\n",
        "ex: Normal one-sided confidence bound\n",
        "\n",
        "ex: 9.2.5. Binomial one-sided confidence bound\n",
        "\n",
        "\n"
      ],
      "metadata": {
        "id": "v1xWRAZgPz93"
      }
    },
    {
      "cell_type": "markdown",
      "source": [
        "### 9.2.2. Pivotal QUantities\n",
        "\n",
        "9.2.6. A random variable $Q(X, \\theta)= Q(X_1...X_n, \\theta)$ is a pivotal quantity or pivot if the distribution of $Q(X, \\theta)$ is independent of all parameters. That is, if $X \\sim F(x|\\theta)$ then $Q(X, \\theta)$ has the same distribution ofor all values of $\\theta$\n",
        "\n",
        "ex: 9.2.7. Location-scale pivots\n",
        "\n",
        "ex: 9.2.8 Gamma pivot\n",
        "\n",
        "ex: 9.2.9.\n",
        "\n",
        "ex: 9.2.10: Normal pivotal interval\n",
        "\n",
        "### 9.2.3. Pivoting the CDF\n",
        "\n",
        "ex: 9.2.11. Shortest lenght binomial set\n",
        "\n",
        "Theorem 9.2.12 Pivoting a continuous cdf:\n",
        "- Let T be a statistic with continuous cdf $F_T(t|\\theta)$. Let $\\alpha_1 + \\alpha_2= \\alpha$ with $0 =< \\alpha =< 1$ be fixed values. Suppose that for each $t \\in \\mathcal{T}$  the functions $\\theta_L (t) $ and $\\theta_U (t)$ can be defined as follows:\n",
        "\n",
        "1. If $F_T(t|\\theta)$ is decreasing function of $\\theta$  for each t, define $\\theta_L(t)$ and $\\theta_U(t)$ by:\n",
        "$$ F_T(t|\\theta_L(t)) = 1- \\alpha_2$$\n",
        "\n",
        "2. if $F_T(t|\\theta)$ is an increasing function of $\\theta$ for each t, define $\\theta_L(t)$ and $\\theta_U(t)$ by:\n",
        "$$F_T(t|\\theta_U(t))= 1- \\alpha_2$$\n",
        "$$F_T (t|\\theta_L(t))= \\alpha_1$$\n",
        "\n",
        "Then the randomn interval $[\\theta_L(T), \\theta_U(T)]$ is a $a-\\alpha$ confidence interval for $\\theta$\n",
        "\n",
        "Proof:\n",
        "\n",
        "ex: 9.2.13: Location exponential interval\n",
        "\n",
        "Theorem 9.2.14. Pivoting a discrete cdf: : Let T be a discrete statistic with cdf $F_T(t|\\theta) = P(T =< t|\\theta)$. Let $\\alpha_1 + \\alpah_2 = \\alpha$ with $0<\\alpha <1$ be fixed values. Suppose that for each $t \\in \\mathjcal{T}, \\theta_L(t)$ and $\\theta_U(t)$ can be defined as follows.\n",
        "\n",
        "1. if $F_T(t|\\theta)$ is adecreasing function of $\\theta$ for each t, define $\\theta_L(t)$ and $\\theta_U(t)$ by:\n",
        "$$P(T=< t|\\theta_U (t)) = \\alpha_1$$\n",
        "$$P(T>= t|\\theta_L (t)) = \\alpha_2$$\n",
        "\n",
        "2. If $F_T(t|\\theta)$ is an increasing function of $\\theta$ for each t, define $\\theta_L(t)$ and $\\theta_U(t)$ by\n",
        "$$P(T >= t|\\theta_U(t))= \\alpha_1$$\n",
        "$$P(T =< t|\\theta_L(t))= \\alpha_2$$\n",
        "\n",
        "Then the random interval $[\\theta_L(T), \\theta_U(T)]$ is a $1-\\alpha$ confidence interval for $\\theta$\n",
        "\n",
        "Proof\n",
        "\n",
        "ex: 9.2.15 Poisson interval estimator\n",
        "\n",
        "### 9.2.4. Bayyesian Intervals\n",
        "\n",
        "ex: 9.2.16. Poisson credible set\n",
        "\n",
        "ex: 9.2.17 Poisson credible and coverage probabilities\n",
        "\n",
        "ex: 9.2.18  coverage of anormal credible set\n",
        "\n"
      ],
      "metadata": {
        "id": "ixF27nW0Pz_9"
      }
    },
    {
      "cell_type": "markdown",
      "source": [
        "## 9.3 Methods of Evaluating interval Estimators\n",
        "\n",
        "### 9.3.1. Size and Coverage Probability\n",
        "\n",
        "ex: 9.3.1. Optimizing lenght\n",
        "\n",
        "Theorem: 9.3.2. Let $f(x)$ be aunimodal pdf. If the interval $[a,b]$ satisfies\n",
        "i- $\\int_a^b f(x) dx = 1- \\alpha$\n",
        "ii- $f(a)= f(b)>0 $\n",
        "iii- $a =< x* =< b$ where $x*$ is mode of $f(x)$\n",
        "\n",
        "then $[a,b]$ is the shortest among all intervals that satisfy (i)\n",
        "\n",
        "Proof:\n",
        "\n",
        "ex: 9.3.3. Optimizing expected lenght\n",
        "\n",
        "ex: 9.3.4.\n",
        " Shortest privotal interval\n",
        "\n",
        "\n",
        "### 9.3.2. Test-Related Optimality\n",
        "\n",
        "Theorem: 9.3.5. Let $X \\sim f(x|\\theta)$, where $\\theta$ is a real-values parameter. For each $\\theta_0 \\in \\Theta$ let $A*(\\theta_0)$ be the UMP level $\\alpha$ acceptance region of atest of $H_0: \\theta=\\theta_0$ versus $H_1: \\theta > \\theta_0$. Let $C*(x)$ be the $ 1-\\alpha$ confidence set formed by inverting the UMP acceptance regions. Then for any other $1-\\alpha$ confidence set C:\n",
        "\n",
        "$$P_{\\theta}(\\theta` \\in C*(X)) =< P_{\\theta(\\theta` \\in C(X))}$$\n",
        "- for all $\\theta`` < \\theta$\n",
        "\n",
        "Proof\n",
        "\n",
        "ex: 9.3.6. UMA confidence bound\n",
        "\n",
        "9.3.7 a $1-\\alpha$ confidence set $C(x)$ is unbiased if $P_{\\theta}(\\theta` \\in C(X)) =< 1 -\\alpha$ for all $\\theta \\ne \\theta`$\n",
        "\n",
        "ex: 9.3.8. continuation of ex 9.3.6.\n",
        "\n",
        "Theorem: 9.3.9: Pratt:\n",
        "- Let X be a real-valued random variable with $X \\sim f(x|\\theta)$, where $\\theta$ is a real-valued parameter. Let $C(x) = [L(x), U(x)]$ be aconfidence interval for $\\theta$. If $L(x)$ and $U(x)$ are both inreasing functions of x, then for any value $\\theta*$\n",
        "- $$E_{\\theta}[Lenght|C(X)] = \\int_{\\theta \\ne \\theta*} P_{\\theta*}(\\theta \\in C(X)) d\\theta$$\n",
        "\n",
        "Proof:\n",
        "\n",
        "### Bayes Optimality:\n",
        "\n",
        "cprollary 9.3.10\n",
        "\n",
        "ex: 9.3.11. Poisson HPD region\n",
        "\n",
        "### 9.3.4. Loss Function Optimality\n",
        "\n",
        "ex: 9.3.13. Normal interval estimator\n",
        "\n",
        "\n"
      ],
      "metadata": {
        "id": "Kb1BQ0XmP0CZ"
      }
    },
    {
      "cell_type": "markdown",
      "source": [],
      "metadata": {
        "id": "UnAcGs45P0Ev"
      }
    },
    {
      "cell_type": "markdown",
      "source": [],
      "metadata": {
        "id": "c1aQQBMFP0G7"
      }
    }
  ]
}