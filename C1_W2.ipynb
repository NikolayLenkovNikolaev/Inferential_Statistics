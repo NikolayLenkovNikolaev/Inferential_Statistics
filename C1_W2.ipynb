{
  "nbformat": 4,
  "nbformat_minor": 0,
  "metadata": {
    "colab": {
      "provenance": [],
      "authorship_tag": "ABX9TyOYxCvuUacrpXkmxU+cT15X",
      "include_colab_link": true
    },
    "kernelspec": {
      "name": "ir",
      "display_name": "R"
    },
    "language_info": {
      "name": "R"
    }
  },
  "cells": [
    {
      "cell_type": "markdown",
      "metadata": {
        "id": "view-in-github",
        "colab_type": "text"
      },
      "source": [
        "<a href=\"https://colab.research.google.com/github/NikolayLenkovNikolaev/Inferential_Statistics/blob/main/C1_W2.ipynb\" target=\"_parent\"><img src=\"https://colab.research.google.com/assets/colab-badge.svg\" alt=\"Open In Colab\"/></a>"
      ]
    },
    {
      "cell_type": "markdown",
      "source": [
        "# Frequentist Inference\n",
        "\n",
        "## 4.1. Confidence interval\n",
        "\n",
        "44H; 56T\n",
        "\n",
        "$X_i \\sum Bern(p)$\n",
        "\n",
        "by CLT $\\\\sum_i^{100} X_i \\sim (100p; 100p(1-p))$\n",
        "\n",
        "$100p -+ 1.96 \\sqrt{100p(1-p)}$\n",
        "\n",
        "\n",
        "Observe $\\sum_i = 44; \\hat{p}= 44/100=0.44$\n",
        "\n",
        "\n",
        "CI $44-+ 1.96\\sqrt{44.56}=44-+9.7-> (34.3; 53.7)$\n",
        "\n",
        "95% confidennt $p \\in (0.343, 0.537)$\n",
        "\n",
        "Meanining CI:\n",
        "Each time we create a confidence interval in this way based on the data we observe. Than on average 95% of the intervals we make will contain the true value of p.\n"
      ],
      "metadata": {
        "id": "Tdguv3ZHMS7y"
      }
    },
    {
      "cell_type": "markdown",
      "source": [
        "## 4.2 likelihood Function and maximum likelihood\n",
        "\n",
        "$Y_i \\sim Bernoulli(\\theta)$\n",
        "\n",
        "$P(Y_i = 1)= \\theta$\n",
        "\n",
        "$P(Y=y|\\theta) = P(Y_1=y_1...Y_n=y_n|\\theta)$\n",
        "\n",
        "$P(Y_1=y_1)...P(Y_n=y_n|\\theta) = \\prod_{i=1}^m p(Y_i=y_i |\\theta) = \\prod_{i=1}^n \\theta^{y_i} (1-\\theta)^{1-y_i}$\n",
        "\n",
        "Likelihood: $L(\\theta|y)= \\prod_{i=1}^n \\theta^{y_i}(1-\\theta)^{1-y_i}$\n",
        "\n",
        "MLE: $\\hat{\\theta} =$ argmax $L(\\theta|y)$\n",
        "\n",
        "$l(\\theta)= log{L(\\theta|y)}$\n",
        "\n",
        "$l(\\theta)= [\\prod \\theta^{y_i} (1-\\theta)^{1-y_i}]$\n",
        "\n",
        "$= \\sum log(\\theta^{y_i}(1-\\theta)^{1-y_i})$\n",
        "\n",
        "$=\\sum[y_i log{\\theta} + (1-y_i)log{(1-\\theta)}]$\n",
        "\n",
        "$= (\\sum y_i) log(\\theta)+ \\sum(1-y_i)log(1-\\theta)$\n",
        "\n",
        "How do we find the theta that maximizes this function? If you recall from calculus, we can maximize a function by taking the derivative and setting it equal to 0.\n"
      ],
      "metadata": {
        "id": "OVypdPBqMS-W"
      }
    },
    {
      "cell_type": "markdown",
      "source": [
        "## 4.3 COmputing the MLE\n",
        "\n",
        "$l` (\\theta)= \\frac{1}{\\theta}\\sum y_i \\frac{1}{1-\\theta} \\sum(1-y_i =set=0)$\n",
        "\n",
        "$= \\frac{\\sum y_i}{\\hat{\\theta}} = \\frac{\\sum (1-y_i)}{1-\\hat{\\theta}}$\n",
        "\n",
        "$\\hat{\\theta}= 1/n \\sum y_i = \\hat{p}= 72/4000.18$\n",
        "\n",
        "!!! $\\hat{\\theta}$ is the value for $\\theta$ which maximizes the likelihood function\n",
        "\n",
        "\n",
        "Approx Ci $\\hat{\\theta} -+ 1.96\\sqrt{\\frac{\\hat{\\theta}({1-\\hat{\\theta}})}{n}}$\n",
        "\n"
      ],
      "metadata": {
        "id": "kPijLO1oMTA8"
      }
    },
    {
      "cell_type": "markdown",
      "source": [
        "$$ 4.4. Computing the MLE: examples\n",
        "\n",
        "$X_i \\sim iid Exp(\\lambda)$\n",
        "\n",
        "$f(x|\\lambda) = \\prod \\lambda e^{-\\lambda x = \\lambda^n e^{-\\lambda \\sum x_i}$\n",
        "\n",
        "$L(\\lambda|x)= \\lambda^n e^{-\\lambda \\sum x_i}$\n",
        "\n",
        "l(lambda) = n.log(\\lambda)- \\lambda\\sum x_i$\n",
        "\n",
        "$l` (\\lambda)= n/\\lambda - \\sum x_i  =set = 0$\n",
        "\n",
        "$\\hat{\\lambda}= \\frac{n}{\\sum x_i} = \\frac{1}{X}$\n",
        "\n",
        "\n",
        "$X_i \\sim U[0, \\theta]$\n",
        "\n",
        "$f(x|\\theta)= \\prod 1/\\theta I_{0\\leq x_i \\leq \\theta}$\n",
        "\n",
        "$L(\\theta|x)= \\theta^{-n} I_{0\\leq min(x_i) \\leq max(x_i)\\leq \\theta}$\n",
        "\n",
        "$L`(\\theta)= -n \\theta^{-(n+1)} I_{....}$\n",
        "\n",
        "$\\hat{\\theta}= max(X_i)$\n",
        "\n",
        "\n",
        "\n",
        "\n",
        "\n"
      ],
      "metadata": {
        "id": "z_CtMz8uMTDf"
      }
    },
    {
      "cell_type": "markdown",
      "source": [
        "## Ploting Likelihood"
      ],
      "metadata": {
        "id": "cPy81yFpTt5O"
      }
    },
    {
      "cell_type": "code",
      "source": [
        "likelihood = function(n, y, theta) { return(theta^y * (1-theta)^(n-y))}\n",
        "\n",
        "theta = seq(from = 0.01, to=0.99, by=0.01)\n",
        "\n",
        "plot(theta, likelihood(400,72, theta))\n",
        "\n",
        "abline(v=0.18, h=1)\n",
        "\n",
        "loglike = function(n,y,theta){return(y*log(theta)+ (n+y)*log(1-theta))}\n",
        "\n",
        "plot(theta, loglike(400,72, theta))\n",
        "abline(v=0.18, h=1)\n",
        "plot(theta, loglike(400, 72, theta), type=\"l\")"
      ],
      "metadata": {
        "colab": {
          "base_uri": "https://localhost:8080/",
          "height": 1000
        },
        "id": "1X2z_nPMTl13",
        "outputId": "17bbbe8a-4bf9-43d2-f3e0-36a5198cadb8"
      },
      "execution_count": null,
      "outputs": [
        {
          "output_type": "display_data",
          "data": {
            "text/plain": [
              "plot without title"
            ],
            "image/png": "[encoded data removed]"
          },
          "metadata": {
            "image/png": {
              "width": 420,
              "height": 420
            }
          }
        },
        {
          "output_type": "display_data",
          "data": {
            "text/plain": [
              "plot without title"
            ],
            "image/png": "[encoded data removed]"
          },
          "metadata": {
            "image/png": {
              "width": 420,
              "height": 420
            }
          }
        },
        {
          "output_type": "display_data",
          "data": {
            "text/plain": [
              "plot without title"
            ],
            "image/png": "[encoded data removed]"
          },
          "metadata": {
            "image/png": {
              "width": 420,
              "height": 420
            }
          }
        }
      ]
    },
    {
      "cell_type": "markdown",
      "source": [
        "# Bayesian Inference\n",
        "\n",
        "## 5.1. Inference exemple: frequentist\n",
        "\n",
        "$\\theta= [fair, loaded]$\n",
        "\n",
        "$X \\sim Bin(5,?)$\n",
        "\n",
        "$f(x|\\theta)$\n",
        "- $\\binom{5}{x} (\\frac{1}{2})^5 $ if $\\theta=fair$\n",
        "- $\\binom{5}{x} 7^x.3^{5-x} $ if $\\theta=loaded$\n",
        "\n",
        "= $\\binom{5}{x} 5^5 I_{\\theta=fair}+ \\binom{5}{x} 7^x.3^{5-x} I_{\\theta=loaded}$\n",
        "\n",
        "\n",
        "$X=2 -> f(\\theta|X=2)= $\n",
        "- 0.3125 if fair\n",
        "- 0.1323 - loaded\n",
        "\n",
        "MLE $\\hat{\\theta}= fair $\n",
        "\n",
        "\n",
        "$P(\\theta=fair|X=2)= O(\\theta=fair) \\in [0,1]$\n",
        "\n",
        "## 5.2. Inference example: Bayesian\n",
        "\n",
        "Prior: $P(loaded)= 0.6$\n",
        "\n",
        "$f(\\theta|x)= \\frac{f(x|\\theta)f(\\theta)}{\\sum_{\\theta}f(x|\\theta)f(\\theta)}$\n",
        "\n",
        "$= \\frac{\\binom{5}{x}[(\\frac{1}{2})^5 0.4 I_{\\theta=fair} + 0.7^x 0.3^{5-x}0.6.I_{\\theta=loaded}}{\\binom{5}{x}[(\\frac{1}{2})^5.(0.4)+ 0.7^x (0.3)^{5-x}(0.6)]}$"
      ],
      "metadata": {
        "id": "VQw8NwEPMTF9"
      }
    },
    {
      "cell_type": "markdown",
      "source": [
        "$f(\\theta|X=2)= \\frac{0.125 I_{...}+ 0.079 I_{...}}{0.125+ 0.0079}= 0.612 I_{} + 0.388$\n",
        "\n",
        "$P(\\theta=loaded)$\n",
        "\n",
        "- Prior: $P(\\theta= loaded)$\n",
        "- Postrerior $P(\\theta =loaded|X=2)$\n",
        "\n",
        "$P(\\theta=loaded)=1/2-> P(\\theta=loaded|X=2)= 0.297$\n",
        "\n",
        "$P(\\theta=loaded)=0.9-> P(\\theta=loaded|X=2)= 0.792$\n",
        "\n"
      ],
      "metadata": {
        "id": "Mk4sizOdMTIR"
      }
    },
    {
      "cell_type": "markdown",
      "source": [
        "## 5.3. COntinuous version of Bayes theorem\n",
        "\n",
        "\n",
        "$f(\\theta|y)= \\frac{f(y|\\theta)f(\\theta)}{f(y)} = \\frac{f(y|\\theta)f(\\theta)}{\\int f(y|\\theta)f(\\theta)d\\theta}= \\frac{likelihood * prior}{normalizing constant} \\propto likelihood$\n",
        "\n",
        "Why are we allowed to temporarly ignore the normalizing constant when finding a posteriro distribution?\n",
        "\n",
        "- the postrior is a PDF of $\\theta$, but $\\'theta$ does not appear in f(y), so the absence of f(y) does not change form of the posterior\n",
        "\n",
        "- normalizing constant is just that, some constant numbernot involving $\\theta$. We can work with the numerator alone because the posterior distribution of $\\theta$ is still unique up to a constant.\n",
        "\n",
        "\n",
        "The versions of Bayes' theorem seen before this lesson were for discrete probabilities with probability mass functions. In this lesson, $\\theta$\n",
        "θ is a continuous quantity which can take on infinitely many values, so the prior (and consequently the posterior) for $\\theta$\n",
        "θ is a probability density function. Which of the following is another distinction between this and previous versions of Bayes' theorem?\n",
        "- The prior is a function of\n",
        "θ rather than a function of  y|∣θ.\n",
        "\n",
        "- An integral is necessary marginalize over\n",
        "θ, but it has the same effect as summing over discrete\n",
        "θ.\n",
        "\n",
        "$\\theta \\sim U[0,1]$   $f(\\theta)= I_{0\\leq \\'theta\\leq 1}$\n",
        "\n",
        "\n",
        "\n"
      ],
      "metadata": {
        "id": "9-v5aaIUMTKn"
      }
    },
    {
      "cell_type": "markdown",
      "source": [
        "## 5.4. Posteriore intervals\n",
        "\n",
        "\n",
        "Prior estimates:\n",
        "\n",
        "$P(0.025 < \\theta < 0.975)= 0.95$\n",
        "\n",
        "$P(\\theta > 0.05)= 0.95$\n",
        "\n",
        "Postrior interval estimates:\n",
        "\n",
        "$P(0.25 < \\theta < 0.975) = \\int_{0.025}^{0.975}2'theta d\\theta$ = 0.975^2 0 0.025^2 = 0.95$\n",
        "\n",
        "\n",
        "$P(\\theta > 0.05)= 1-0.05^2 = 0.9975$\n",
        "\n",
        "\n",
        "Equaltailed:\n",
        "\n",
        "$P(\\theta < q|Y=1)= \\int_0^q 2\\theta d\\theta =q^2$\n",
        "\n",
        "$P(\\sqrt{0.025} < \\theta < \\sqrt{0.975})= P(0.158 < \\theta < 0.987)= 0.95$\n",
        "\n",
        "\n",
        "\n",
        "HPD:\n",
        "\n",
        "$(P(\\theta > \\sqrt{0.05}|Y=1)+ (\\theta > -0.224)|Y=1)=0.95$\n",
        "\n",
        "\n",
        "\n"
      ],
      "metadata": {
        "id": "cTyGyua0MTND"
      }
    },
    {
      "cell_type": "markdown",
      "source": [],
      "metadata": {
        "id": "xjXziGDKMTPZ"
      }
    },
    {
      "cell_type": "markdown",
      "source": [],
      "metadata": {
        "id": "S-ewG3H6MTR9"
      }
    },
    {
      "cell_type": "markdown",
      "source": [],
      "metadata": {
        "id": "3VgB9snXMTUZ"
      }
    },
    {
      "cell_type": "markdown",
      "source": [],
      "metadata": {
        "id": "GUBQLpNGMTWn"
      }
    },
    {
      "cell_type": "markdown",
      "source": [],
      "metadata": {
        "id": "lsVf6kiOMTZD"
      }
    },
    {
      "cell_type": "markdown",
      "source": [],
      "metadata": {
        "id": "TxY4DeTVMTbZ"
      }
    },
    {
      "cell_type": "markdown",
      "source": [],
      "metadata": {
        "id": "r_fOzOABMTdv"
      }
    },
    {
      "cell_type": "markdown",
      "source": [],
      "metadata": {
        "id": "lHSkvM2nMTfz"
      }
    },
    {
      "cell_type": "markdown",
      "source": [],
      "metadata": {
        "id": "rUiC22FmMTiZ"
      }
    },
    {
      "cell_type": "markdown",
      "source": [],
      "metadata": {
        "id": "Ft_kPZPHMTkt"
      }
    },
    {
      "cell_type": "markdown",
      "source": [],
      "metadata": {
        "id": "BNO_ikRYMTmz"
      }
    },
    {
      "cell_type": "markdown",
      "source": [],
      "metadata": {
        "id": "0kdz8D7YMTpX"
      }
    },
    {
      "cell_type": "markdown",
      "source": [],
      "metadata": {
        "id": "EZUWV22hMTrk"
      }
    },
    {
      "cell_type": "markdown",
      "source": [],
      "metadata": {
        "id": "zBfezEzWMTt5"
      }
    },
    {
      "cell_type": "markdown",
      "source": [],
      "metadata": {
        "id": "aB5Rnsk8MTwP"
      }
    },
    {
      "cell_type": "markdown",
      "source": [],
      "metadata": {
        "id": "81W9eLjKMTyc"
      }
    }
  ]
}