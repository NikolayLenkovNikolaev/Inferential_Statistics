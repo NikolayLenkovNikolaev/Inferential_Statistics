{
  "nbformat": 4,
  "nbformat_minor": 0,
  "metadata": {
    "colab": {
      "provenance": [],
      "authorship_tag": "ABX9TyNHOkPJargAxQbJEBJN5m4n",
      "include_colab_link": true
    },
    "kernelspec": {
      "name": "python3",
      "display_name": "Python 3"
    },
    "language_info": {
      "name": "python"
    }
  },
  "cells": [
    {
      "cell_type": "markdown",
      "metadata": {
        "id": "view-in-github",
        "colab_type": "text"
      },
      "source": [
        "<a href=\"https://colab.research.google.com/github/NikolayLenkovNikolaev/Inferential_Statistics/blob/main/6_Principi_riduzione.ipynb\" target=\"_parent\"><img src=\"https://colab.research.google.com/assets/colab-badge.svg\" alt=\"Open In Colab\"/></a>"
      ]
    },
    {
      "cell_type": "markdown",
      "source": [
        "# Statuistucge Ancillari\n",
        "\n",
        "Un concetto in un certo senso, opposto ala statistiche sufficienti e' quello delle statistiche ancillari, questi ultime, infatti non forniscono alcuna informazione sul parametro\n",
        "\n",
        "DEF: una staistica $T=T(X_1),...X_n$ e' ancillare se la sua distribuzione non dipende dal parametro $\\theta$\n",
        "\n",
        "Poiche una statisstica ancillare e' in sostanza inutile per fare inferenza , ci si puo chiedere che senso abbia individuarla e stabilire la carettteristiche. Tuttavia, vedremo che molto spesso e' utile come strumento complementare per l'inferenza\n",
        "\n",
        "Esempio: famiglie di locazione\n",
        "\n",
        "Se un campiono e' estratto da una famiglia di locazione corrispondente ad una qualunque funzione di ripartizione F e con u parametro di locazione $\\theta$ la statistica $X_{(n)}- X_{(1)}$ detta RANGE CAMPIONARIO e' sempre ancilare rispetto a $\\theta$\n",
        "\n",
        "Piu formalmente sia\n",
        "\n",
        "$X_1...X_n$ IID $\\sim F(x-\\theta)$ con $\\theta \\in R$\n",
        "\n",
        "Sappiamo che si puo scrivere\n",
        "\n",
        "$xi = Z_i + \\theta; i=1...n\n",
        "\n",
        "dove $Z_1...Z_n$ IID $\\sim F$ che non dipende da $\\theta$ ovviamente\n",
        "\n",
        "Ora consideriamo $R= X_{(n)}- X_{(1)}$ e\n",
        "\n",
        "- $P_{\\theta}(R \\leq r)$ potenzialmente ipende da $\\theta$ ma ndobbaimo proprio verificarlo\n",
        "\n",
        "$P_{\\theta}(R \\leq r)= P_{\\theta} (X_{(n)}- X_{(1)} \\leq r)$\n",
        "\n",
        "$= P_{\\theta}[(Z_{(n)}+ \\theta)- (Z_{(1)} + \\theta)\\leq r]$\n",
        "\n",
        "$P_{\\theta} [Z_{(n)}- Z_{(1)} \\leq r]$ - questa probabilita non dipende da $\\theta$\n",
        "\n"
      ],
      "metadata": {
        "id": "GmS_PXIg8Lvc"
      }
    },
    {
      "cell_type": "markdown",
      "source": [
        "Example 2: Famiglia di scala\n",
        "\n",
        "Analogamente , si puo considerare un campione estratto da una famiglia di scala con parametro $\\theta$. In questo caso ogni statistica che sia funzione di\n",
        "\n",
        "$\\frac{X_1}{X_n} \\frac{X_2}{X_n}$ ...\\frac{X_{n-1}}{X_n}$\n",
        "\n",
        "e' ancilare\n",
        "\n",
        "consideriamo $X_1...X_n$ IID $\\sim F(\\frac{x}{\\theta})$ con $\\theta > 0 $\n",
        "\n",
        "Sapiamo che cio significa che\n",
        "\n",
        "$X_i = \\theta Z_i$ con $Z_1...Z_n$ IID $\\sim F$ non dipende da $\\theta$ i=1...n\n",
        "\n",
        "Dunqeu:\n",
        "\n",
        "$P_{\\theta} $ - potenzialmente dipende\n",
        "\n",
        "$P_{\\theta}(\\frac{X_1}{X_n} \\leq y_1, ...., \\frac{X_{n-1}}{X_n} \\leq y_{n-1})) =$\n",
        "\n",
        "$P_{\\theta}(\\frac{\\theta Z_1}{\\theta Z_n} \\leq y_1, ...., \\frac{\\theta Z_{n-1}}{\\theta Z_n} \\leq y_{n-1})) =$\n",
        "\n",
        "$P_{\\theta}(\\frac{Z_1}{ Z_n} \\leq y_1, ...., \\frac{ Z_{n-1}}{ Z_n} \\leq y_{n-1})) =$\n",
        "\n",
        "\n",
        "Chiaramente, un risultato si puo dimostrare per ogni sequenza di rapporti in cui un elemento del campione venga preso come base:\n",
        "\n",
        "ad esempio in un campione di ampiezza n=5\n",
        "\n",
        "$\\frac{X_1}{X_3}, \\frac{X_2}{X_3}, \\frac{X_4}{X_3}, \\frac{X_5}{X_3} $\n",
        "\n",
        "e uno loro qualunque funzione ad esemp[io:\n",
        "\n",
        "$\\frac{X_1+X_2}{2X_3} + \\frac{X_$ + X_5}{2X_3}$ e' ancilare\n",
        "\n"
      ],
      "metadata": {
        "id": "Z5JGKdJe8Lx3"
      }
    },
    {
      "cell_type": "markdown",
      "source": [
        "# Statistiche complete\n",
        "\n",
        "Poiche il concetto di sufficienza e quello di ancillarita sono in un cert o senso , e' uno l'opposto dall altro si potrebbe pensare che , considerato un ceto problema inferenzaile, una statistica sufficiente ed una ancillare non abbiano alcun legame, cioe siano indipendenti.\n",
        "\n",
        "Questa intuizione e' parzialmente vera perche per potrebe dimostrare e' necessario ricludere che la statistica sufficiente sia anche COMPLETA.\n",
        "\n",
        "DEF: una staittica $T= T(X_1...X_n)$ si dice COMPLETA se\n",
        "\n",
        "$E_{\\theta}(g(T))= 0 $ implica $P_{\\theta}(g(T)=0)=1$ per ogni $\\theta$\n",
        "\n",
        "La condizione \"Per ogni $\\theta$\" e' esenziale: se una data funzione $g$ della statistica e' tale da fornire un valore attesso nullo qualunque sia $\\theta$ cioe essenzialmente un valore attesso non dipende da $\\theta$ allora quello funzione deve essere identicamente nulla.\n",
        "\n",
        "Usare la definizione per mostrare che una statistica e' completa non e' molto semplice, come mostra il seguente esempio\n",
        "\n",
        "ESEMPIO:\n",
        "\n",
        "consideriao un campione $X_1...X_n$ IID $Bertnoulli(\\theta) (0< \\theta < 1)$\n",
        "\n",
        "e la statistica $T= \\sum_{i=1}^n X_i$\n",
        "\n",
        "che come sappiamo ha distribuzione binomaile di paramentri n e $\\theta$\n",
        "\n",
        "$T \\sim Binomiale(n,\\theta)$\n",
        "\n",
        "DI fatto, la completezza riguarda questa distribuzione. Immaginiamo chioe che esista una funzione g tale che\n",
        "\n",
        "$E_{\\theta}[g(T)] = 0$\n",
        "\n",
        "ossia\n",
        "\n",
        "$\\sum_{t=0}^n g(t) \\binom{n}{t} \\theta^t (1-\\theta)^{n-t}= 0$\n",
        "- $\\binom{n}{t}$ - questo termiine e' sempre $\\ne 0$\n",
        "- $\\theta^t (1-\\theta)^{n-t}$ a meno che $\\theta$ non sia 0 oppure 1 questo due potenza sono $\\ne 0$\n",
        "\n",
        "Perche l'ugualglianza valga zero per ogni $0< \\theta < 1$ g deve essere la funzione identicamnte nulla, cioe\n",
        "\n",
        "$P_{\\theta}[g(T)]= 1$ 0> T e' competa\n",
        "\n",
        "Esiste un altro modo per dimostrare la completezza ed e' quello di ricarere alla famiglia esponenziale , a k-parametri\n",
        "\n",
        "TEOREMA:\n",
        "\n",
        "SIa $X_1...X_n$ un campione IID da $f(x|\\theta)= h(x)c(\\theta) exp[\\sum_{j=1}^k w_j (\\theta_j) t_j(x)]$\n",
        "\n",
        "dove $\\theta = (\\theta_1...\\theta_k)$ allora le statistiche\n",
        "\n",
        "- $T_1 = \\sum_{i=1}^n t_i (X_i)$\n",
        "- ...\n",
        "- $T_k = \\sum_{i=1}^n t_k (X_n)$\n",
        "\n",
        "sono congiuntamente complete\n",
        "\n"
      ],
      "metadata": {
        "id": "3Jq-HErJ8L0a"
      }
    },
    {
      "cell_type": "markdown",
      "source": [
        "Esempio:\n",
        "\n",
        "Qunado abbiamo intrrodotto la famiglia esponenziale a k-parametri, abbiamo mstrato che per il modello $N(\\mu; \\sigma^2)$ ponenso $\\theta= (\\mu, \\sigma^2)$\n",
        "\n",
        "$f(x|\\theta)= \\frac{1}{\\sigma \\sqrt{2\\pi}} exp[-\\frac{1}{2\\sigma^2} (n-\\mu)^2]$\n",
        "\n",
        "si ha\n",
        "\n",
        "$w_1(\\theta)= - \\frac{1}{2\\sigma^2}; t_1 (x)=x^2$\n",
        "\n",
        "$w_2 (\\theta)= - \\frac{\\mu}{\\sigma^2}; t_2 = x$\n",
        "\n",
        "dunque $T_1 = \\sum_{i=1}^n X_i^2; T_2=\\sum_{i=1}^n X_i$ sono statisticamente complete\n",
        "\n",
        "Ovviamente:\n",
        "- igni unzione biunivoca di $T_1$ e di $T_2$ data statistiche complete\n",
        "- se considriamo $\\sigma^2$ noto cioe se la famiglia ha un solo parametro $(\\mu)$ -> $\\sum_{i=1}^n X_i $ oppure $\\bar{X}$ e' una statitica completa\n",
        "\n",
        "Il legame tra la completezza e la minimalita e' espresso dal seguente teorema\n",
        "\n",
        "TEOREMMA di BAHADUR\n",
        "\n",
        "Se esiste uan statistica sufficiente minimale , allora ogni statistica complete e sufficiente e' anche minimale\n",
        "\n",
        "Notiamo che il teorema introduce una limitazione perhce (anche se in rari casi) dato un certo modello statistico potrebbe non esistere alcuna statistica minimale.\n",
        "\n",
        "Nei casi piu semplici , tuttavia se abbiamo la completezza e la sufficienza abbiamo la sintesi piu efficace del cammpione e possiamo distringure tali sintesi da qualsiasi sintesi inefficace\n",
        "\n",
        "TEOREMA di BASU:\n",
        "\n",
        "Se $T(X_1...X_n)$ e' una statistica completa e sufficiente minimale allora e ' independente da qualunque statistica ancillare\n",
        "\n",
        "Il precedente teorema e' molto utile quando si vuole dimostrare l'indipendenza tra due statistiche che, magari per scopi dicversi sono di interesse\n",
        "\n",
        "Esempio:\n",
        "\n",
        "Consideriamo un campione $III \\sim N(\\mu, \\sigma^2)$\n",
        "\n",
        " Se supponiamo $\\sigma^2$ noto , sappiamo che $T=\\bar{X}$\n",
        "\n",
        " e' una statistica sia sufficiente sia completa - si usa la famiglia espoenenziale. DUnque e\\ anche minimale\n",
        "\n",
        " Inoltre sappiamo che\n",
        "\n",
        " $\\frac{(n-1)S^2}{\\sigma^2} \\sim \\chi_(n-1)^2$ la distribuzione di $S^2$ non dipende da $\\mu$\n",
        "\n",
        " Pertanto, quando $\\sigma^2$ e' noto $S^2$ e' una statistica ancillare\n",
        "\n",
        " Il teorema di Basu dice che $\\bar{X}$ and $S^2$ sono indipendenti in questo modello"
      ],
      "metadata": {
        "id": "uSO2GXhF8L24"
      }
    },
    {
      "cell_type": "markdown",
      "source": [
        "# Principio di verosimiglianza\n",
        "\n",
        "Nella parte precedente abbiamo spesso fatto riferimento alla distribuzione congiunta del campione come ad un \"contenitore\" delle informazioni fornite da un dato insieme di dati sul parametro $\\theta$\n",
        "\n",
        "Questa intuizione viene formalizzata nel concetto di funzione di verosimiglianza e nel relativo principio:\n",
        "\n",
        "DEF: considerata una realizzazione campionaria/dataset $x=(x_1..x_1)$ la distribuzione cvongiunta del campione e riguardata come funzione del parametro $\\theta$ si dice FUNZIONE DI VEROSIMIGLIANZA\n",
        "\n",
        "$L(\\theta|X)= f(x|\\theta)$ oppure $f(x_1...x_n|\\theta)$\n",
        "\n",
        "Cosa si intende per distribuzione congiunta?\n",
        "\n",
        "Se il modello statistico e' discretto e' una dunzione di probalita, se il modello e' continuo e' una funzione di densita congiunta\n",
        "\n",
        "Consideriamo un  esempio nel caso discreto , per il quale l'interpretazione da dare alla funzione di verosimilglianza e' piu semplice\n",
        "\n"
      ],
      "metadata": {
        "id": "t5HRsJoQ8L40"
      }
    },
    {
      "cell_type": "markdown",
      "source": [
        "Esempio:\n",
        "\n",
        "Consideraimo una popolazione in cui i maschi e le femine sono in rapporto di uno a due- ma non sappiamo quali siano di piu\n",
        "\n",
        "Si estrae un campione di S individui e si ottengono i seguenti genreri: F M M M F\n",
        "\n",
        "Qual e; la funzione di Verosimiglaianza?\n",
        "\n",
        "Quale e' la probabilita di maschi nella popolazione piu plausibile?\n",
        "\n",
        "Formalemente magiormente definiamo\n",
        "- $\\theta$ popolazione di maschi $\\theta \\in [\\frac{1}{3}; \\frac{2}{3}]$\n",
        "- $p(x|\\theta)= \\theta^x (1-\\theta)^{1-x}; x=0,1$ - bernoulliana\n",
        "\n",
        "e' il modello statistico\n",
        "\n",
        "- $X= (X_1...X_5)$ e' il campione\n",
        "- $x=(0,1,1,1,0)$ e' la realizzazione campionaria o dataset\n",
        "\n",
        "Calcoliamo la probabilita , dipendente da $\\theta$ che il campione generi proprio la realizzazione capionaria fornita\n",
        "\n",
        "$P_{\\theta}(X_1= 0, X_2=1, X_3=1, X_4=1, X_5=0)= (1-\\theta)\\theta \\theta \\theta (1- \\theta)= \\theta^3 (1-\\theta)^2$\n",
        "\n",
        "Consideriamo questo risultato come funzione di $\\theta$ si ottiene la funzione di verosimiglianza\n",
        "\n",
        "$L(\\theta|x)= \\theta^3 (1-\\theta)^2$\n",
        "\n",
        "che in questo caso ci dice dunque come varria la probabilita di ottenere il nostro dataset al variale di $\\theta$\n",
        "\n",
        "In questo esempio, tuttavioa, $\\theta$ pio essere solo $1/3; 2/3$\n",
        "\n",
        "Ha senso qundi calcolare solo:\"\n",
        "- $L(1/3|x)= (1/3)^3 (1-\\frac{1}{3})^2$= 0.0165\n",
        "- $L(\\frac{2}{3}|x) = (\\frac{2}{3})^3 (1-\\frac{2}{3})^2 = 0.0329$ - questo valore e' piu alto seguo che il risultato riscontrato e' piu probabilita quando $\\theta = \\frac{2}{3}$ Nella scelta tra 1/3, 2/3 dunque conviene scegliere 2/3\n",
        "\n",
        "\n",
        "$\\theta=2/3$ e' il valore piu verosimile per la proporzione\n",
        "\n",
        "L'esempio si presta a numerose osservazioni\n",
        "\n",
        "1. La funzione di verosimiglianza serve a confrontare valori concorenti di $\\theta$: $\\theta_1$ e' preferibile a $\\theta_2$ se\n",
        "\n",
        "$L(\\theta_1|x) > L(\\theta_2|x)$\n",
        "- il dataset osservato x si manifesta con maggiore probabilita quanto $\\theta=\\theta_1$ e' dunque e' piu verosimile che sia questo il valore del parametro che ha generato i dati- cioe vero valore del parametro\n",
        "\n",
        "2. Se il campione e' IID\n",
        "\n",
        "$P_{\\theta}(X_1=x_1... X_n= x_n)= P_{\\theta}(X_1=x_1)...P_{\\theta}(X_n=x_n)= $\n",
        "\n",
        "$\\prod_{i=-1}^n P_{\\theta} (X=x_i)$\n",
        "\n",
        "\n",
        "Usando la funzione di probabilita si ha\n",
        "\n",
        "$L(\\theta|x)= p(x|\\theta)= p(x1...x_n|\\theta)= \\prod_{i=1}^n p_x(x_i|\\theta)$\n",
        "\n",
        "La stessa regola si puo usare , nel caso continuo, con le funziuoni di densita:\n",
        "\n",
        "$L(\\theta|x)= f(x|\\theta)= f(x_1...x_n|\\theta)= \\prod_{i=1}^n f_x(x_i|\\theta)$\n",
        "\n"
      ],
      "metadata": {
        "id": "iavCwGkT8L7Y"
      }
    },
    {
      "cell_type": "markdown",
      "source": [
        "Esempio: caso continuo\n",
        "\n",
        "la durata di vita di un apparechio seque la legge esponenziale negativa (cioe gamma con parametro r=1). Per qualche motivo, sisa il paramettro di questa lege puo essere pari a 0.6 o a 0.75\n",
        "\n",
        "In un campione di 40 apparachi si e' osserato una durata media di 1.25 ore\n",
        "\n",
        "QUale e' la funzione di verosimiglianz?\n",
        "\n",
        "Quale e; il valroe del parametro piu verosimile?\n",
        "\n",
        "Modello statistico: $f(x|\\theta)= \\theta e^{- \\theta x}; x> 0$\n",
        "\n",
        "e in questo caso: $\\theta \\in [0.6; 0.75]$\n",
        "\n",
        "- campione $X=(X_1...X_n)$, con $n=40$\n",
        "\n",
        "- dataset $x=(x_1...x_n)$ con $n=40$ e tale che $\\bar{x}= 1.25-> \\sum_{i=1}^n x_i = 1.25 * 40 = 50$\n",
        "\n",
        "Comiinciamo a scrivre la funzione di verosimiglianza corrispondente ad un generico dataset:\n",
        "\n",
        "$L(\\theta|x) = \\prod_{i=1}^n f(x_i|\\theta)= \\prod_{i=1}^n \\theta e^{-\\theta x}= = \\theta^n e^{-\\theta \\sum x_i}$\n",
        "\n",
        "Nel nostro caso si avra:\n",
        "\n",
        "$L(\\theta|x)= \\theta^{40}.e^{-\\theta 50}$\n",
        "\n",
        "Non puo piu essere interprettata come una probabilita . Tuttavia ha ancora senso usare la $L(\\theta|x)$ [er confrontare diversi valori di $\\theta$\n",
        "- $L(0.6|x)= 0.6^{40} e^{-0.6*50}= 1.2509.10_{-22}$\n",
        "- $L(0.75|x)= 0.75^{40} e^{-0.75*50}= 5.2048.10_{-22}$\n",
        "- nonstante entrambi i valori siano molto piccoli, cio che importa che il secondo e' maggiore- 0.75 e; il valore piu verosimile del parametro\n",
        "\n",
        "NB: spesso, per rendere piu facile il confronto si calcola il valore di una funzione monotona della $\\L(\\theta|x)$ ad es:\n",
        "\n",
        "- $-2 log(L(0.6|x))= 100,8660$\n",
        "- $-2 log(L(0.75|x))= 98.0146$ - in questo caso, essendo la funzione applicata monotona decrescente si prende il valore piu piccolo\n",
        "\n"
      ],
      "metadata": {
        "id": "gYzmg2Id8L9W"
      }
    },
    {
      "cell_type": "markdown",
      "source": [
        "Nonostante gli esempi considerati , solitamente la funcione di verosimilgianza non viene utilizzata esclusivamente per confrontare due valori del parametro ma viene usaa, appunto come funzione di $\\theta$, per confrontare tutti i valori possibili.\n",
        "\n",
        "Poiche $L(\\theta|x)$ contiene tutte le informazioni fornite dal dataset x riguardo a $\\theta$ se esiste un altro datast y che produce gli stessi confronti tra i possibili valori di $\\theta$, i due dataset daranno le stesse informazioni\n",
        "\n"
      ],
      "metadata": {
        "id": "OYPw2L-I8L_9"
      }
    },
    {
      "cell_type": "markdown",
      "source": [
        "PRINCIPIO DI VEROSIGMIGLIANZA\n",
        "\n",
        "Se esistono due dataset x e y tali che\n",
        "\n",
        "$L(\\theta) = c(x,y)L(\\theta|y)$ for all $\\theta$\n",
        "\n",
        "allora i due dataset forniscono le stesse informazioni sul parametro $\\theta$\n",
        "\n",
        "Perche le due verosimiglianza non devono essere uguali ma basta siano proporzionali (c(x,y) e' una costante che non dipende da $\\theta$ ne eventualmente da x e da y)?\n",
        "\n",
        "Perche non e' importante il valore della versomiglianza ma il confronto tra diversi $\\theta$:"
      ],
      "metadata": {
        "id": "Yqeb7oNZ8MCC"
      }
    },
    {
      "cell_type": "markdown",
      "source": [
        "Supponiamo che c=0.2\n",
        "\n",
        "$L(\\theta|x)= 0.2 L(\\theta|y)$\n",
        "\n",
        "inoltre supponiamo che dati $\\theta_1,\\theta_2$ si abbia\n",
        "\n",
        "$L(\\theta_1|x)= 3L(\\theta_2|x)$\n",
        "\n",
        "$02. L(\\theta_1|y)= 3*02L(\\theta_2|x)$\n",
        "\n",
        "$L(\\theta_1|y)= 3L(\\theta_2|y)$\n",
        "\n",
        "e viceversa\n",
        "\n",
        "\n",
        "Nota\n",
        "\n",
        "Il principio di verosimiglianza e' stato gia incotraro nel teorema sulle statistiche suffcienti minimali\n",
        "\n",
        "T ' sufficinete minimale se\n",
        "\n",
        "$T(x)= T(y )<-> \\frac{f(x|\\theta)}{f(y|\\theta)}$ non dipende da $\\theta$\n",
        "\n",
        "Il rapporto puo essere riscritto\n",
        "\n",
        "$\\frac{f(x|\\theta)}{f(y|\\theta)} = \\frac{L(\\theta|x)}{\\theta|y}$ non dipende da $\\theta$ quando e pari ad una costante c(x,y)\n",
        "\n",
        "Pertanto, per poter dire che due dataset s e y sono equivalenti rispetto ad una statistica sufficiente e' necessario dire che le corrispondenti verosimiglianza sono proporzonali e viceversa.\n",
        "\n",
        "\n",
        "Cioe: non si puo credere nel principio di sufficnza senza credere anche nel principio di verosimiglinza e viceversa\n",
        "\n",
        "I due principi sembrano dunque sostanzialmente implicarsi e' un altro\n",
        "\n",
        "L'idea e' corretta anche se andrebbe meglio formalizzata\n",
        "\n"
      ],
      "metadata": {
        "id": "Lopk-xMN8MEO"
      }
    },
    {
      "cell_type": "markdown",
      "source": [],
      "metadata": {
        "id": "79tMIB-18MGc"
      }
    },
    {
      "cell_type": "markdown",
      "source": [],
      "metadata": {
        "id": "g7cJccx28MIu"
      }
    },
    {
      "cell_type": "markdown",
      "source": [],
      "metadata": {
        "id": "ydT-5x9E8MK0"
      }
    },
    {
      "cell_type": "markdown",
      "source": [],
      "metadata": {
        "id": "_O2Jnclc8MNA"
      }
    },
    {
      "cell_type": "markdown",
      "source": [],
      "metadata": {
        "id": "WyiwLjww8MPI"
      }
    },
    {
      "cell_type": "markdown",
      "source": [],
      "metadata": {
        "id": "dCmuWsFG8MRM"
      }
    },
    {
      "cell_type": "markdown",
      "source": [],
      "metadata": {
        "id": "Ax0l2Ob48MSz"
      }
    },
    {
      "cell_type": "markdown",
      "source": [],
      "metadata": {
        "id": "FuFaXzNH8MVm"
      }
    }
  ]
}