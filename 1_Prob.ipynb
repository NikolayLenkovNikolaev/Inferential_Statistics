{
  "nbformat": 4,
  "nbformat_minor": 0,
  "metadata": {
    "colab": {
      "provenance": [],
      "authorship_tag": "ABX9TyOV6FTPcFl38EBm4anKR3Xi",
      "include_colab_link": true
    },
    "kernelspec": {
      "name": "python3",
      "display_name": "Python 3"
    },
    "language_info": {
      "name": "python"
    }
  },
  "cells": [
    {
      "cell_type": "markdown",
      "metadata": {
        "id": "view-in-github",
        "colab_type": "text"
      },
      "source": [
        "<a href=\"https://colab.research.google.com/github/NikolayLenkovNikolaev/Inferential_Statistics/blob/main/1_Prob.ipynb\" target=\"_parent\"><img src=\"https://colab.research.google.com/assets/colab-badge.svg\" alt=\"Open In Colab\"/></a>"
      ]
    },
    {
      "cell_type": "markdown",
      "source": [],
      "metadata": {
        "id": "ZSvW5_UNXT2o"
      }
    },
    {
      "cell_type": "markdown",
      "source": [],
      "metadata": {
        "id": "GOA7W6ZRXT5P"
      }
    },
    {
      "cell_type": "markdown",
      "source": [],
      "metadata": {
        "id": "xxqmRPF0XT7r"
      }
    },
    {
      "cell_type": "markdown",
      "source": [],
      "metadata": {
        "id": "vHTe48CKXT-A"
      }
    },
    {
      "cell_type": "markdown",
      "source": [],
      "metadata": {
        "id": "BVXsTptuXUAG"
      }
    },
    {
      "cell_type": "markdown",
      "source": [],
      "metadata": {
        "id": "kxkL1saDXUCS"
      }
    },
    {
      "cell_type": "markdown",
      "source": [],
      "metadata": {
        "id": "96AQe-HrXUEY"
      }
    },
    {
      "cell_type": "markdown",
      "source": [],
      "metadata": {
        "id": "SNQGXtPsXUGe"
      }
    },
    {
      "cell_type": "markdown",
      "source": [],
      "metadata": {
        "id": "qfMOHXebXUId"
      }
    },
    {
      "cell_type": "markdown",
      "source": [],
      "metadata": {
        "id": "7w3aflzOXUKg"
      }
    },
    {
      "cell_type": "markdown",
      "source": [
        "# 1. Set theory\n",
        "\n",
        "1.1.1 The set , S , af all possible outcomes of a particular experiment is called the *smple space* for the experiment\n",
        "\n",
        "\n",
        "1.1.2. An *event* ais any collection of possible outcomes of an experimentm that is, any subset of S (including S itself)\n",
        "\n",
        "\n",
        "Union\n",
        "\n",
        "Intersection\n",
        "\n",
        "Complementatioin\n",
        "\n",
        "\n",
        "1.1.4. For any three events, A, B, C defined on a sample space S,\n",
        "a. commutativity\n",
        "b. Associativity\n",
        "c. Distributive Laws\n",
        "4. DeMorgan's Laws\n",
        "\n",
        "1.1.5. Two events A and B are *disjoint* or mutually exclusive if $A \\cap B= \\emptyset$. The events $A_1, A_2...$ are pairwise disjoint of mutually exclusive if $A_i \\cap B_j = \\emptyset$ for all $i \\ne j$\n",
        "\n",
        "\n",
        "1.1.6. If $A_1, A_2...$ are pairwise disjoint and $∪_{i=1}^\\infty A_i = S$ n the the collection $A_1, A_2 ...$ forms a *partition* of S"
      ],
      "metadata": {
        "id": "7HJFHZEdXUMu"
      }
    },
    {
      "cell_type": "markdown",
      "source": [
        "# 2. Basic of Probability Theory\n",
        "\n",
        "## 1.2.1. Axiomatic Fondations\n",
        "\n",
        "1.2.1. A collection of subset of S is called a *sigma algebra* or Borel field, denoteb by $B$, if it satifiws the following threee properties:\n",
        "a. $\\emptyset \\in B$ - the empty set is an element of B.\n",
        "b. If $A \\in B$ then $A^c \\in B$ - B is cloed tunder complementation\n",
        "c. If $A_1, A_2... \\in B$ then $\\Cup_{i=1}^\\infty A_i \\in B$ - B is closed under countable unions\n",
        "\n",
        "1.2.4. Given a sample space S and an associated sigma algebra B, a probability fuinction is a function P with domain B that satisfies\n",
        "1. $P(A) >= 0$ foa all $A \\in B$\n",
        "2. $P(S) = 1$\n",
        "3. if $A_1, A_2... \\in B$ are pairwise disjoint , then $P(\\Cap_{i=1}^\\infty) = \\sum_{i=1}^\\infty$\n",
        "\n",
        "Therorem: 1.2.6. :et $S = [s_1,...s_n]$ be a finite set. Let B be any sigma algebra of subsets of S. Let $p_1..._n$ be nonnegative numbers that sum top 1. For any  $A \\in B$ define $P(A)$ by $$P(A)= \\sum_{i:s; \\in A} p_i$$.\n",
        "\n",
        "\n",
        "Axiom of Finite additivity: if $A \\in B$ and $B \\in B$ are disjoint , then\n",
        "$P(A \\cup B) = P(A) + P(B)$\n",
        "\n",
        "## 1.2.2. The calculus of Probability\n",
        "\n",
        "Theorem: 1.2.8. if P is a probability function and A is any set in B , then\n",
        "1. $P(\\emptyset) = 0$ , where $\\emptyset$ is the empty set\n",
        "2. $P(A)= < 1$\n",
        "3. $P(A^c) = 1-P(A)$\n",
        "\n",
        "\n",
        "\n",
        "Theorem: 1.2.9. If P is a probability function and A and B are nay sets in B, then\n",
        "a. $P(B \\cup A^c) = P(B) - P(A \\cap B)$\n",
        "b. $P(A \\cup B) = P(A) + P(B) - P(A \\cap B)$\n",
        "c. If $A ⊂ B$ then $P(A) =< P(B)$\n",
        "\n",
        "Example: Bonferoni Inequality\n",
        "\n",
        "Theorem: 1.2.11. If P is aprobability function then:\n",
        "a. $P(A) = \\sum_{i=1}^{\\infty} P(A \\cap C_i)$ for any partition $C_1, C_2 ...$\n",
        "b. $P(U_{i=1}^\\infty) =< \\sum_{i=1}^\\infty P(A_i)$ for any set $A_1, A_2 ..$\n",
        "\n",
        "## 1.2.3. Counting\n",
        "\n",
        "Theorem: 1.2.14. If a job consist of k separate task, the i-th which can be done in $n_i$ ways, i=1...k then the entire job can be done in $n_1*n_2...*n_k$ ways\n",
        "\n",
        "1.2.16. For a posotove integer n, n! is the product of all of the positive integers less than or equal to n. That is:\n",
        "$n! = n*(n-1)*(n-2)* ...*3*2*1$\n",
        "\n",
        "1. Ordered without replacement:\n",
        "- number can be selected in 44 ways, the second in 43 ways: $44*43*42*41*40*39 = \\frac{44!}{39!}$\n",
        "\n",
        "2. Ordered, with replacement: $44*44*44*44*44*44 = 44^6$\n",
        "\n",
        "3. Unordered without replacement:\n",
        "$\\frac{44*43*42*41*40*39}{6*5*4*3*2*1}= \\frac{44!}{6!38!}$\n",
        "\n",
        "1.2.17. For nonnegative integers n and r, where n>= r we define the symbol $\\binom{n}{r}$ read n choose r, as:\n",
        "$$\\binom{n}{r} = \\frac{n!}{r!(n-r)!}$$\n",
        "\n",
        "4. Unordered , with repalcement: this is the most dificult case to count. You might first guess that the answear is 44^6 /(6*5*4*3*2*1)$$  but this is not correct.\n",
        "\n",
        "\n",
        "||Withour replacement|With replacement|\n",
        "|---|---|---|\n",
        "|Ordered|$\\frac{n!}{(n-r)!}$|$n^r$|\n",
        "|Unordered|$\\binom{n}{r}$|$(\\binom{n+r-1}{r})$|\n",
        "\n",
        "\n"
      ],
      "metadata": {
        "id": "4P1qzlTMXUSu"
      }
    },
    {
      "cell_type": "markdown",
      "source": [
        "## 1.2.4. Enumerating Outcomes\n",
        "\n",
        "1.3. Conditional Probabilitu and Independence\n",
        "\n",
        "1.3.2. If A and B are events in S, and $P(B) >0$ then the conditional probability of A given B , writen $P(A|B) = \\frac{P(A \\cup B)}{P(B)}$\n",
        "\n",
        "1.3.6. Bayes Rule: let $A_1, A_2...$ be a parition of the sample space, and let B be any set. Then, for each i=1,2,...\n",
        "\n",
        "$$P(A_i|B) = \\frac{P(B|A_i)P(A_i)}{\\sum_{j=1}^\\infty P(B|A_j)P(A_j)}$$\n",
        "\n",
        "\n",
        "1.3.7. Two events, A and B, are statistically independent if\n",
        "$P(A \\cap B) P(A)P(B)$\n",
        "\n",
        "Theorem: 1.3.9. if A nad B are independent events, then the following pairs are also independent\n",
        "1. A and $B_c$\n",
        "2. $A^c$ and B\n",
        "3. $A^c$ and $B^c$\n",
        "\n",
        "1.3.12. A collection of events $A_1..A_n$ are mutually independent if for any subcollection $A_{i_1}... A_{k_i}$\n",
        "\n",
        "$$P(\\Cap_{j=1}^k A_{i_j}) = \\Prod_{j=1}^k P(A_{i_j})$$\n",
        "\n",
        "\n",
        "\n",
        "\n"
      ],
      "metadata": {
        "id": "gbSivyTWXUVM"
      }
    },
    {
      "cell_type": "markdown",
      "source": [
        "## 1.4. Random Variables:\n",
        "\n",
        "1.4.1. A *random variable* is a function from a sample space S into the real numbers\n",
        "\n",
        "Example: distribution of a random variable: It may be possible to detetrmine $P_X$ even if a complete listing is not possible. Let S be the $2^{50}$ stings of 50 0s and 1s, X+ number of 1s, and $X`= [0,1,2...509]$ as mentioned at the begining of this section. SUppose that each of the $2^{50}$ strings is equally likely. The probability that X=27 can be obtained by counting all of the string with 27 1s in the original sample space. SInce each string is equally likely, it follows that:\n",
        "$$P_X(X=27) = \\frac{string-with-27-1s}{string} = \\frac{\\binom{50}{27}}{2^{50}}$$\n",
        "\n",
        "in general, for any $i \\in X`$\n",
        "\n",
        "$P_X (X=i)= \\frac{\\binom{50}{i}}{2^50}$\n",
        "\n",
        "\n"
      ],
      "metadata": {
        "id": "C1vH1HoiXUZO"
      }
    },
    {
      "cell_type": "markdown",
      "source": [
        "## 1.5. Distribution Functions:\n",
        "\n",
        "1.5.1. The **cumulative distribution function-CDF** of a random variable X, denoted by $F_X(x)$ is defined by:\n",
        "$$F_X(x) = P_X(X =< x)$$ for all x\n",
        "\n",
        "Theorem: 1.5.3. The function $F(x)$ is a cdf and only if the following three conditions hold:\n",
        "1. $lim_{x-> -\\infty} F(x) = 0$ and $lim_{x-> \\infty} F(x) = 1$\n",
        "2. $F(x)$ is a nondecreasing function of x\n",
        "3. $F(x)$ is right-countinuous, that is for every number $x_0$, $lim_{x|x_0} F(x)= F(x_0)$\n",
        "\n",
        "1.5.7. A random variable X is countinuous if $F(x)$ is acountinuous function of x. A random variable X is discrete if $F_X(x)$ is a step function of x.\n",
        "\n",
        "1.5.8. The random variable X and Y are identically distribuited if, for every set $A \\in B^1, P(X \\in A) = P(Y \\in A)$\n",
        "\n",
        "Theorem: 15.10. The following two statements are equivalent:\n",
        "1. the random variables X and Y are identically distribuited\n",
        "2. $F_X(x)= F_Y for every x$\n",
        "\n"
      ],
      "metadata": {
        "id": "nEySsN0FXUbk"
      }
    },
    {
      "cell_type": "markdown",
      "source": [
        "## 1.6. Density and Mass Functions:\n",
        "\n",
        "1.6.1. The probability mass functions PMF of a discrete random variable X is given by:\n",
        "$$f_X(x)= P(X=x)=> $$\n",
        "- $(1-p)^{x-1}.p$  for x=1,2,...\n",
        "- $0$ itherwise\n",
        "\n",
        "1.6.3. The probability density function r PDF $f_X(x)$ of a continuous random variable X is the function that satisfies\n",
        "\n",
        "$$F_X(x)= \\int_{-\\infty}^x f_X(t) dt$$\n",
        "- for all x\n",
        "\n",
        "Theorem: 1.6.5. A function $f_X(x) is a pdf(pmf)$ of a random variable X if and only if:\n",
        "1. $f_X(x) >= 0$ - for all x\n",
        "2. $\\sum_x F_X(x)= 1$ (pmf) or $\\int_{-=\\infty}^{\\infty} f_X (x) dx=1$ (pdf)\n",
        "\n"
      ],
      "metadata": {
        "id": "mHu5TCtLXUdx"
      }
    },
    {
      "cell_type": "markdown",
      "source": [],
      "metadata": {
        "id": "RyPJtMlDXUgO"
      }
    },
    {
      "cell_type": "markdown",
      "source": [],
      "metadata": {
        "id": "Y4iamMrFXUj6"
      }
    },
    {
      "cell_type": "markdown",
      "source": [],
      "metadata": {
        "id": "zxpCV950XUme"
      }
    },
    {
      "cell_type": "markdown",
      "source": [],
      "metadata": {
        "id": "rT-oemCgXUoz"
      }
    },
    {
      "cell_type": "markdown",
      "source": [],
      "metadata": {
        "id": "mLFAm-K4XUrD"
      }
    }
  ]
}